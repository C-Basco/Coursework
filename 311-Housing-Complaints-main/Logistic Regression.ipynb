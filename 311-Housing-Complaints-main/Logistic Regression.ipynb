{
 "cells": [
  {
   "cell_type": "markdown",
   "metadata": {},
   "source": [
    "# Building a Predictive Model"
   ]
  },
  {
   "cell_type": "markdown",
   "metadata": {},
   "source": [
    "Using the Department of Housing Preservation and Development dataset alongside the PLUTO dataset we will build a predictive model. The output of which will determine the complaint type and whether or not it is of High priority.\n",
    "\n",
    "Using our previous understanding of the data through analysis we have determined that the culprit of the high volume complaints was HEAT/HOT WATER. This particular complaint had a high volume of origin in the Borough Bronx. \n",
    "\n",
    "Comparing our HPD dataset with that of Plutos, we have spotted some correlation between building characteristics and and complaint type. Specifically; residfar, bldgfar, age, and numfloors.\n",
    "\n",
    "Using this information we will now work on building a predictive model. "
   ]
  },
  {
   "cell_type": "markdown",
   "metadata": {},
   "source": [
    "## Load Llibraries"
   ]
  },
  {
   "cell_type": "code",
   "execution_count": 1,
   "metadata": {},
   "outputs": [],
   "source": [
    "import pandas as pd\n",
    "import numpy as np"
   ]
  },
  {
   "cell_type": "markdown",
   "metadata": {},
   "source": [
    "## Load Data"
   ]
  },
  {
   "cell_type": "code",
   "execution_count": 2,
   "metadata": {},
   "outputs": [],
   "source": [
    "# The Department of Housing Preservation and Development\n",
    "Orig_HPD = pd.read_csv(\"HBD_v1.csv\")\n",
    "# Pluto data\n",
    "Orig_Pluto = pd.read_csv(\"Pluto_v1.csv\")"
   ]
  },
  {
   "cell_type": "markdown",
   "metadata": {},
   "source": [
    "## Data Wrangiling"
   ]
  },
  {
   "cell_type": "markdown",
   "metadata": {},
   "source": [
    "### Looking at the HPD Dataset"
   ]
  },
  {
   "cell_type": "code",
   "execution_count": null,
   "metadata": {},
   "outputs": [],
   "source": [
    "Orig_HPD.shape"
   ]
  },
  {
   "cell_type": "markdown",
   "metadata": {},
   "source": [
    "Again we have 6,019,843 samples and 17 features. This dataset was a loaded dataframe from our previous exercise so it already has some of the features and adjustment that we needed."
   ]
  },
  {
   "cell_type": "code",
   "execution_count": 3,
   "metadata": {},
   "outputs": [
    {
     "data": {
      "text/html": [
       "<div>\n",
       "<style scoped>\n",
       "    .dataframe tbody tr th:only-of-type {\n",
       "        vertical-align: middle;\n",
       "    }\n",
       "\n",
       "    .dataframe tbody tr th {\n",
       "        vertical-align: top;\n",
       "    }\n",
       "\n",
       "    .dataframe thead th {\n",
       "        text-align: right;\n",
       "    }\n",
       "</style>\n",
       "<table border=\"1\" class=\"dataframe\">\n",
       "  <thead>\n",
       "    <tr style=\"text-align: right;\">\n",
       "      <th></th>\n",
       "      <th>Unnamed: 0</th>\n",
       "      <th>Unnamed: 0.1</th>\n",
       "      <th>Unique_Key</th>\n",
       "      <th>Created_Date</th>\n",
       "      <th>Closed_Date</th>\n",
       "      <th>Complaint_Type</th>\n",
       "      <th>Location_Type</th>\n",
       "      <th>Incident_Zip</th>\n",
       "      <th>Incident Address</th>\n",
       "      <th>Street_Name</th>\n",
       "      <th>Address_Type</th>\n",
       "      <th>City</th>\n",
       "      <th>Status</th>\n",
       "      <th>Resolution Description</th>\n",
       "      <th>Borough</th>\n",
       "      <th>Latitude</th>\n",
       "      <th>Longitude</th>\n",
       "    </tr>\n",
       "  </thead>\n",
       "  <tbody>\n",
       "    <tr>\n",
       "      <th>0</th>\n",
       "      <td>0</td>\n",
       "      <td>0</td>\n",
       "      <td>45531130</td>\n",
       "      <td>02/02/2020 06:09:17 AM</td>\n",
       "      <td>NaN</td>\n",
       "      <td>HEAT/HOT WATER</td>\n",
       "      <td>RESIDENTIAL BUILDING</td>\n",
       "      <td>10019.0</td>\n",
       "      <td>426 WEST   52 STREET</td>\n",
       "      <td>WEST   52 STREET</td>\n",
       "      <td>ADDRESS</td>\n",
       "      <td>NEW YORK</td>\n",
       "      <td>Open</td>\n",
       "      <td>The following complaint conditions are still o...</td>\n",
       "      <td>MANHATTAN</td>\n",
       "      <td>40.765132</td>\n",
       "      <td>-73.988993</td>\n",
       "    </tr>\n",
       "    <tr>\n",
       "      <th>1</th>\n",
       "      <td>1</td>\n",
       "      <td>1</td>\n",
       "      <td>45529784</td>\n",
       "      <td>02/02/2020 02:15:24 PM</td>\n",
       "      <td>NaN</td>\n",
       "      <td>UNSANITARY CONDITION</td>\n",
       "      <td>RESIDENTIAL BUILDING</td>\n",
       "      <td>11204.0</td>\n",
       "      <td>1751 67 STREET</td>\n",
       "      <td>67 STREET</td>\n",
       "      <td>ADDRESS</td>\n",
       "      <td>BROOKLYN</td>\n",
       "      <td>Open</td>\n",
       "      <td>The following complaint conditions are still o...</td>\n",
       "      <td>BROOKLYN</td>\n",
       "      <td>40.618484</td>\n",
       "      <td>-73.992673</td>\n",
       "    </tr>\n",
       "    <tr>\n",
       "      <th>2</th>\n",
       "      <td>2</td>\n",
       "      <td>2</td>\n",
       "      <td>45527528</td>\n",
       "      <td>02/02/2020 02:27:41 AM</td>\n",
       "      <td>NaN</td>\n",
       "      <td>HEAT/HOT WATER</td>\n",
       "      <td>RESIDENTIAL BUILDING</td>\n",
       "      <td>11372.0</td>\n",
       "      <td>87-15 37 AVENUE</td>\n",
       "      <td>37 AVENUE</td>\n",
       "      <td>ADDRESS</td>\n",
       "      <td>Jackson Heights</td>\n",
       "      <td>Open</td>\n",
       "      <td>The following complaint conditions are still o...</td>\n",
       "      <td>QUEENS</td>\n",
       "      <td>40.750269</td>\n",
       "      <td>-73.879432</td>\n",
       "    </tr>\n",
       "    <tr>\n",
       "      <th>3</th>\n",
       "      <td>3</td>\n",
       "      <td>3</td>\n",
       "      <td>45530329</td>\n",
       "      <td>02/02/2020 12:13:18 PM</td>\n",
       "      <td>NaN</td>\n",
       "      <td>HEAT/HOT WATER</td>\n",
       "      <td>RESIDENTIAL BUILDING</td>\n",
       "      <td>10458.0</td>\n",
       "      <td>2405 SOUTHERN BOULEVARD</td>\n",
       "      <td>SOUTHERN BOULEVARD</td>\n",
       "      <td>ADDRESS</td>\n",
       "      <td>BRONX</td>\n",
       "      <td>Open</td>\n",
       "      <td>The following complaint conditions are still o...</td>\n",
       "      <td>BRONX</td>\n",
       "      <td>40.853773</td>\n",
       "      <td>-73.881558</td>\n",
       "    </tr>\n",
       "    <tr>\n",
       "      <th>4</th>\n",
       "      <td>4</td>\n",
       "      <td>4</td>\n",
       "      <td>45528814</td>\n",
       "      <td>02/02/2020 01:59:44 PM</td>\n",
       "      <td>NaN</td>\n",
       "      <td>APPLIANCE</td>\n",
       "      <td>RESIDENTIAL BUILDING</td>\n",
       "      <td>11209.0</td>\n",
       "      <td>223 78 STREET</td>\n",
       "      <td>78 STREET</td>\n",
       "      <td>ADDRESS</td>\n",
       "      <td>BROOKLYN</td>\n",
       "      <td>Open</td>\n",
       "      <td>The following complaint conditions are still o...</td>\n",
       "      <td>BROOKLYN</td>\n",
       "      <td>40.629745</td>\n",
       "      <td>-74.030533</td>\n",
       "    </tr>\n",
       "  </tbody>\n",
       "</table>\n",
       "</div>"
      ],
      "text/plain": [
       "   Unnamed: 0  Unnamed: 0.1  Unique_Key            Created_Date Closed_Date  \\\n",
       "0           0             0    45531130  02/02/2020 06:09:17 AM         NaN   \n",
       "1           1             1    45529784  02/02/2020 02:15:24 PM         NaN   \n",
       "2           2             2    45527528  02/02/2020 02:27:41 AM         NaN   \n",
       "3           3             3    45530329  02/02/2020 12:13:18 PM         NaN   \n",
       "4           4             4    45528814  02/02/2020 01:59:44 PM         NaN   \n",
       "\n",
       "         Complaint_Type         Location_Type  Incident_Zip  \\\n",
       "0        HEAT/HOT WATER  RESIDENTIAL BUILDING       10019.0   \n",
       "1  UNSANITARY CONDITION  RESIDENTIAL BUILDING       11204.0   \n",
       "2        HEAT/HOT WATER  RESIDENTIAL BUILDING       11372.0   \n",
       "3        HEAT/HOT WATER  RESIDENTIAL BUILDING       10458.0   \n",
       "4             APPLIANCE  RESIDENTIAL BUILDING       11209.0   \n",
       "\n",
       "          Incident Address         Street_Name Address_Type             City  \\\n",
       "0     426 WEST   52 STREET    WEST   52 STREET      ADDRESS         NEW YORK   \n",
       "1           1751 67 STREET           67 STREET      ADDRESS         BROOKLYN   \n",
       "2          87-15 37 AVENUE           37 AVENUE      ADDRESS  Jackson Heights   \n",
       "3  2405 SOUTHERN BOULEVARD  SOUTHERN BOULEVARD      ADDRESS            BRONX   \n",
       "4            223 78 STREET           78 STREET      ADDRESS         BROOKLYN   \n",
       "\n",
       "  Status                             Resolution Description    Borough  \\\n",
       "0   Open  The following complaint conditions are still o...  MANHATTAN   \n",
       "1   Open  The following complaint conditions are still o...   BROOKLYN   \n",
       "2   Open  The following complaint conditions are still o...     QUEENS   \n",
       "3   Open  The following complaint conditions are still o...      BRONX   \n",
       "4   Open  The following complaint conditions are still o...   BROOKLYN   \n",
       "\n",
       "    Latitude  Longitude  \n",
       "0  40.765132 -73.988993  \n",
       "1  40.618484 -73.992673  \n",
       "2  40.750269 -73.879432  \n",
       "3  40.853773 -73.881558  \n",
       "4  40.629745 -74.030533  "
      ]
     },
     "execution_count": 3,
     "metadata": {},
     "output_type": "execute_result"
    }
   ],
   "source": [
    "Orig_HPD.head()"
   ]
  },
  {
   "cell_type": "code",
   "execution_count": 3,
   "metadata": {},
   "outputs": [],
   "source": [
    "Orig_HPD.drop(['Unnamed: 0', 'Unnamed: 0.1','Location_Type','Street_Name','Address_Type', 'City','Status', 'Unique_Key','Created_Date',\n",
    "              'Closed_Date','Resolution Description'],axis=1,inplace=True)"
   ]
  },
  {
   "cell_type": "code",
   "execution_count": 4,
   "metadata": {},
   "outputs": [],
   "source": [
    "Orig_HPD.rename(columns={\"Incident_Zip\": \"zipcode\"}, inplace=True)\n",
    "Orig_HPD.rename(columns={\"Incident Address\": \"address\"}, inplace=True)\n",
    "Orig_HPD['zipcode'] = Orig_HPD['zipcode'].astype(\"str\")"
   ]
  },
  {
   "cell_type": "code",
   "execution_count": 5,
   "metadata": {},
   "outputs": [],
   "source": [
    "Orig_HPD['count'] = Orig_HPD.groupby(['address'])['Complaint_Type'].transform('count')"
   ]
  },
  {
   "cell_type": "code",
   "execution_count": 6,
   "metadata": {},
   "outputs": [],
   "source": [
    "Type = pd.get_dummies(Orig_HPD['Complaint_Type'])"
   ]
  },
  {
   "cell_type": "code",
   "execution_count": 7,
   "metadata": {},
   "outputs": [
    {
     "data": {
      "text/plain": [
       "Index(['AGENCY', 'APPLIANCE', 'CONSTRUCTION', 'DOOR/WINDOW', 'ELECTRIC',\n",
       "       'ELEVATOR', 'FLOORING/STAIRS', 'GENERAL', 'GENERAL CONSTRUCTION',\n",
       "       'HEAT/HOT WATER', 'HPD LITERATURE REQUEST', 'MOLD', 'NONCONST',\n",
       "       'OUTSIDE BUILDING', 'PAINT/PLASTER', 'PLUMBING', 'SAFETY', 'STRUCTURAL',\n",
       "       'UNSANITARY CONDITION', 'VACANT APARTMENT', 'WATER LEAK'],\n",
       "      dtype='object')"
      ]
     },
     "execution_count": 7,
     "metadata": {},
     "output_type": "execute_result"
    }
   ],
   "source": [
    "Type.columns.unique()"
   ]
  },
  {
   "cell_type": "code",
   "execution_count": 8,
   "metadata": {},
   "outputs": [],
   "source": [
    "#Drop multiple columns\n",
    "Type.drop(Type.iloc[:, 0:9], axis=1, inplace=True)"
   ]
  },
  {
   "cell_type": "code",
   "execution_count": 9,
   "metadata": {},
   "outputs": [],
   "source": [
    "#Drop multiple column  AFTER first alteration\n",
    "Type.drop(Type.iloc[:, 1:], axis=1, inplace=True)"
   ]
  },
  {
   "cell_type": "markdown",
   "metadata": {},
   "source": [
    "**Merge back into DF**"
   ]
  },
  {
   "cell_type": "code",
   "execution_count": 10,
   "metadata": {},
   "outputs": [
    {
     "data": {
      "text/html": [
       "<div>\n",
       "<style scoped>\n",
       "    .dataframe tbody tr th:only-of-type {\n",
       "        vertical-align: middle;\n",
       "    }\n",
       "\n",
       "    .dataframe tbody tr th {\n",
       "        vertical-align: top;\n",
       "    }\n",
       "\n",
       "    .dataframe thead th {\n",
       "        text-align: right;\n",
       "    }\n",
       "</style>\n",
       "<table border=\"1\" class=\"dataframe\">\n",
       "  <thead>\n",
       "    <tr style=\"text-align: right;\">\n",
       "      <th></th>\n",
       "      <th>Complaint_Type</th>\n",
       "      <th>zipcode</th>\n",
       "      <th>address</th>\n",
       "      <th>Borough</th>\n",
       "      <th>Latitude</th>\n",
       "      <th>Longitude</th>\n",
       "      <th>count</th>\n",
       "      <th>HEAT/HOT WATER</th>\n",
       "    </tr>\n",
       "  </thead>\n",
       "  <tbody>\n",
       "    <tr>\n",
       "      <th>0</th>\n",
       "      <td>HEAT/HOT WATER</td>\n",
       "      <td>10019.0</td>\n",
       "      <td>426 WEST   52 STREET</td>\n",
       "      <td>MANHATTAN</td>\n",
       "      <td>40.765132</td>\n",
       "      <td>-73.988993</td>\n",
       "      <td>2.0</td>\n",
       "      <td>1</td>\n",
       "    </tr>\n",
       "    <tr>\n",
       "      <th>1</th>\n",
       "      <td>UNSANITARY CONDITION</td>\n",
       "      <td>11204.0</td>\n",
       "      <td>1751 67 STREET</td>\n",
       "      <td>BROOKLYN</td>\n",
       "      <td>40.618484</td>\n",
       "      <td>-73.992673</td>\n",
       "      <td>267.0</td>\n",
       "      <td>0</td>\n",
       "    </tr>\n",
       "    <tr>\n",
       "      <th>2</th>\n",
       "      <td>HEAT/HOT WATER</td>\n",
       "      <td>11372.0</td>\n",
       "      <td>87-15 37 AVENUE</td>\n",
       "      <td>QUEENS</td>\n",
       "      <td>40.750269</td>\n",
       "      <td>-73.879432</td>\n",
       "      <td>442.0</td>\n",
       "      <td>1</td>\n",
       "    </tr>\n",
       "    <tr>\n",
       "      <th>3</th>\n",
       "      <td>HEAT/HOT WATER</td>\n",
       "      <td>10458.0</td>\n",
       "      <td>2405 SOUTHERN BOULEVARD</td>\n",
       "      <td>BRONX</td>\n",
       "      <td>40.853773</td>\n",
       "      <td>-73.881558</td>\n",
       "      <td>288.0</td>\n",
       "      <td>1</td>\n",
       "    </tr>\n",
       "    <tr>\n",
       "      <th>4</th>\n",
       "      <td>APPLIANCE</td>\n",
       "      <td>11209.0</td>\n",
       "      <td>223 78 STREET</td>\n",
       "      <td>BROOKLYN</td>\n",
       "      <td>40.629745</td>\n",
       "      <td>-74.030533</td>\n",
       "      <td>95.0</td>\n",
       "      <td>0</td>\n",
       "    </tr>\n",
       "  </tbody>\n",
       "</table>\n",
       "</div>"
      ],
      "text/plain": [
       "         Complaint_Type  zipcode                  address    Borough  \\\n",
       "0        HEAT/HOT WATER  10019.0     426 WEST   52 STREET  MANHATTAN   \n",
       "1  UNSANITARY CONDITION  11204.0           1751 67 STREET   BROOKLYN   \n",
       "2        HEAT/HOT WATER  11372.0          87-15 37 AVENUE     QUEENS   \n",
       "3        HEAT/HOT WATER  10458.0  2405 SOUTHERN BOULEVARD      BRONX   \n",
       "4             APPLIANCE  11209.0            223 78 STREET   BROOKLYN   \n",
       "\n",
       "    Latitude  Longitude  count  HEAT/HOT WATER  \n",
       "0  40.765132 -73.988993    2.0               1  \n",
       "1  40.618484 -73.992673  267.0               0  \n",
       "2  40.750269 -73.879432  442.0               1  \n",
       "3  40.853773 -73.881558  288.0               1  \n",
       "4  40.629745 -74.030533   95.0               0  "
      ]
     },
     "execution_count": 10,
     "metadata": {},
     "output_type": "execute_result"
    }
   ],
   "source": [
    "HPD = Orig_HPD.merge(Type, left_index=True, right_index=True)\n",
    "HPD.head()"
   ]
  },
  {
   "cell_type": "code",
   "execution_count": 12,
   "metadata": {},
   "outputs": [
    {
     "data": {
      "text/plain": [
       "Complaint_Type     object\n",
       "zipcode            object\n",
       "address            object\n",
       "Borough            object\n",
       "Latitude          float64\n",
       "Longitude         float64\n",
       "count             float64\n",
       "HEAT/HOT WATER      uint8\n",
       "dtype: object"
      ]
     },
     "execution_count": 12,
     "metadata": {},
     "output_type": "execute_result"
    }
   ],
   "source": [
    "HPD.dtypes"
   ]
  },
  {
   "cell_type": "code",
   "execution_count": 15,
   "metadata": {},
   "outputs": [
    {
     "data": {
      "text/plain": [
       "Complaint_Type        0\n",
       "zipcode           80697\n",
       "address           52825\n",
       "Borough               0\n",
       "Latitude          80671\n",
       "Longitude         80671\n",
       "count             52825\n",
       "HEAT/HOT WATER        0\n",
       "dtype: int64"
      ]
     },
     "execution_count": 15,
     "metadata": {},
     "output_type": "execute_result"
    }
   ],
   "source": [
    "HPD.isnull().sum()"
   ]
  },
  {
   "cell_type": "code",
   "execution_count": 11,
   "metadata": {},
   "outputs": [],
   "source": [
    "HPD.replace(\"nan\", np.NaN, inplace=True)"
   ]
  },
  {
   "cell_type": "code",
   "execution_count": 12,
   "metadata": {},
   "outputs": [],
   "source": [
    "HPD['HEAT/HOT WATER'] = HPD['HEAT/HOT WATER'].astype(\"int\")"
   ]
  },
  {
   "cell_type": "code",
   "execution_count": 13,
   "metadata": {},
   "outputs": [],
   "source": [
    "HPD.dropna(subset=['address'],axis=0,inplace=True)"
   ]
  },
  {
   "cell_type": "markdown",
   "metadata": {},
   "source": [
    "### **Looking at the Pluto Dataset**"
   ]
  },
  {
   "cell_type": "code",
   "execution_count": 14,
   "metadata": {},
   "outputs": [],
   "source": [
    "#Change format of how float is displayed\n",
    "pd.options.display.float_format = \"{:.2f}\".format"
   ]
  },
  {
   "cell_type": "code",
   "execution_count": 15,
   "metadata": {},
   "outputs": [
    {
     "data": {
      "text/html": [
       "<div>\n",
       "<style scoped>\n",
       "    .dataframe tbody tr th:only-of-type {\n",
       "        vertical-align: middle;\n",
       "    }\n",
       "\n",
       "    .dataframe tbody tr th {\n",
       "        vertical-align: top;\n",
       "    }\n",
       "\n",
       "    .dataframe thead th {\n",
       "        text-align: right;\n",
       "    }\n",
       "</style>\n",
       "<table border=\"1\" class=\"dataframe\">\n",
       "  <thead>\n",
       "    <tr style=\"text-align: right;\">\n",
       "      <th></th>\n",
       "      <th>Unnamed: 0</th>\n",
       "      <th>address</th>\n",
       "      <th>lot</th>\n",
       "      <th>lotarea</th>\n",
       "      <th>bldgarea</th>\n",
       "      <th>resarea</th>\n",
       "      <th>numbldgs</th>\n",
       "      <th>numfloors</th>\n",
       "      <th>bldgdepth</th>\n",
       "      <th>yearbuilt</th>\n",
       "      <th>yearalter1</th>\n",
       "      <th>builtfar</th>\n",
       "      <th>residfar</th>\n",
       "      <th>commfar</th>\n",
       "      <th>facilfar</th>\n",
       "      <th>officearea</th>\n",
       "      <th>retailarea</th>\n",
       "      <th>zipcode</th>\n",
       "      <th>Age</th>\n",
       "      <th>borough</th>\n",
       "    </tr>\n",
       "  </thead>\n",
       "  <tbody>\n",
       "    <tr>\n",
       "      <th>0</th>\n",
       "      <td>0</td>\n",
       "      <td>JOE DIMAGGIO HIGHWAY</td>\n",
       "      <td>401.00</td>\n",
       "      <td>246896.00</td>\n",
       "      <td>0.00</td>\n",
       "      <td>nan</td>\n",
       "      <td>0.00</td>\n",
       "      <td>0.00</td>\n",
       "      <td>0.00</td>\n",
       "      <td>1949</td>\n",
       "      <td>0</td>\n",
       "      <td>0.00</td>\n",
       "      <td>0.00</td>\n",
       "      <td>0.00</td>\n",
       "      <td>0.00</td>\n",
       "      <td>nan</td>\n",
       "      <td>nan</td>\n",
       "      <td>nan</td>\n",
       "      <td>71</td>\n",
       "      <td>MN</td>\n",
       "    </tr>\n",
       "    <tr>\n",
       "      <th>1</th>\n",
       "      <td>7</td>\n",
       "      <td>146 2 AVENUE</td>\n",
       "      <td>1.00</td>\n",
       "      <td>9412.00</td>\n",
       "      <td>37353.00</td>\n",
       "      <td>30153.00</td>\n",
       "      <td>5.00</td>\n",
       "      <td>5.00</td>\n",
       "      <td>86.00</td>\n",
       "      <td>1900</td>\n",
       "      <td>2001</td>\n",
       "      <td>3.97</td>\n",
       "      <td>4.00</td>\n",
       "      <td>0.00</td>\n",
       "      <td>4.00</td>\n",
       "      <td>0.00</td>\n",
       "      <td>7200.00</td>\n",
       "      <td>10003.00</td>\n",
       "      <td>120</td>\n",
       "      <td>MN</td>\n",
       "    </tr>\n",
       "    <tr>\n",
       "      <th>2</th>\n",
       "      <td>10</td>\n",
       "      <td>243 MORELAND STREET</td>\n",
       "      <td>30.00</td>\n",
       "      <td>2807.00</td>\n",
       "      <td>1770.00</td>\n",
       "      <td>1770.00</td>\n",
       "      <td>1.00</td>\n",
       "      <td>2.00</td>\n",
       "      <td>50.00</td>\n",
       "      <td>2019</td>\n",
       "      <td>0</td>\n",
       "      <td>0.63</td>\n",
       "      <td>0.50</td>\n",
       "      <td>0.00</td>\n",
       "      <td>1.00</td>\n",
       "      <td>0.00</td>\n",
       "      <td>0.00</td>\n",
       "      <td>10306.00</td>\n",
       "      <td>1</td>\n",
       "      <td>SI</td>\n",
       "    </tr>\n",
       "    <tr>\n",
       "      <th>3</th>\n",
       "      <td>12</td>\n",
       "      <td>454 BEACH 125 STREET</td>\n",
       "      <td>70.00</td>\n",
       "      <td>4000.00</td>\n",
       "      <td>1286.00</td>\n",
       "      <td>1286.00</td>\n",
       "      <td>1.00</td>\n",
       "      <td>1.67</td>\n",
       "      <td>36.00</td>\n",
       "      <td>1950</td>\n",
       "      <td>0</td>\n",
       "      <td>0.32</td>\n",
       "      <td>0.50</td>\n",
       "      <td>0.00</td>\n",
       "      <td>1.00</td>\n",
       "      <td>0.00</td>\n",
       "      <td>0.00</td>\n",
       "      <td>11694.00</td>\n",
       "      <td>70</td>\n",
       "      <td>QN</td>\n",
       "    </tr>\n",
       "    <tr>\n",
       "      <th>4</th>\n",
       "      <td>13</td>\n",
       "      <td>460 BEACH 125 STREET</td>\n",
       "      <td>72.00</td>\n",
       "      <td>5000.00</td>\n",
       "      <td>2352.00</td>\n",
       "      <td>1344.00</td>\n",
       "      <td>1.00</td>\n",
       "      <td>1.00</td>\n",
       "      <td>55.00</td>\n",
       "      <td>1970</td>\n",
       "      <td>0</td>\n",
       "      <td>0.47</td>\n",
       "      <td>0.50</td>\n",
       "      <td>0.00</td>\n",
       "      <td>1.00</td>\n",
       "      <td>0.00</td>\n",
       "      <td>0.00</td>\n",
       "      <td>11694.00</td>\n",
       "      <td>50</td>\n",
       "      <td>QN</td>\n",
       "    </tr>\n",
       "  </tbody>\n",
       "</table>\n",
       "</div>"
      ],
      "text/plain": [
       "   Unnamed: 0                address    lot   lotarea  bldgarea  resarea  \\\n",
       "0           0   JOE DIMAGGIO HIGHWAY 401.00 246896.00      0.00      nan   \n",
       "1           7           146 2 AVENUE   1.00   9412.00  37353.00 30153.00   \n",
       "2          10    243 MORELAND STREET  30.00   2807.00   1770.00  1770.00   \n",
       "3          12   454 BEACH 125 STREET  70.00   4000.00   1286.00  1286.00   \n",
       "4          13   460 BEACH 125 STREET  72.00   5000.00   2352.00  1344.00   \n",
       "\n",
       "   numbldgs  numfloors  bldgdepth  yearbuilt  yearalter1  builtfar  residfar  \\\n",
       "0      0.00       0.00       0.00       1949           0      0.00      0.00   \n",
       "1      5.00       5.00      86.00       1900        2001      3.97      4.00   \n",
       "2      1.00       2.00      50.00       2019           0      0.63      0.50   \n",
       "3      1.00       1.67      36.00       1950           0      0.32      0.50   \n",
       "4      1.00       1.00      55.00       1970           0      0.47      0.50   \n",
       "\n",
       "   commfar  facilfar  officearea  retailarea  zipcode  Age borough  \n",
       "0     0.00      0.00         nan         nan      nan   71      MN  \n",
       "1     0.00      4.00        0.00     7200.00 10003.00  120      MN  \n",
       "2     0.00      1.00        0.00        0.00 10306.00    1      SI  \n",
       "3     0.00      1.00        0.00        0.00 11694.00   70      QN  \n",
       "4     0.00      1.00        0.00        0.00 11694.00   50      QN  "
      ]
     },
     "execution_count": 15,
     "metadata": {},
     "output_type": "execute_result"
    }
   ],
   "source": [
    "Orig_Pluto.head()"
   ]
  },
  {
   "cell_type": "code",
   "execution_count": 19,
   "metadata": {},
   "outputs": [
    {
     "data": {
      "text/plain": [
       "Unnamed: 0      int64\n",
       "address        object\n",
       "lot           float64\n",
       "lotarea       float64\n",
       "bldgarea      float64\n",
       "resarea       float64\n",
       "numbldgs      float64\n",
       "numfloors     float64\n",
       "bldgdepth     float64\n",
       "yearbuilt       int64\n",
       "yearalter1      int64\n",
       "builtfar      float64\n",
       "residfar      float64\n",
       "commfar       float64\n",
       "facilfar      float64\n",
       "officearea    float64\n",
       "retailarea    float64\n",
       "zipcode       float64\n",
       "Age             int64\n",
       "borough        object\n",
       "dtype: object"
      ]
     },
     "execution_count": 19,
     "metadata": {},
     "output_type": "execute_result"
    }
   ],
   "source": [
    "Orig_Pluto.dtypes"
   ]
  },
  {
   "cell_type": "code",
   "execution_count": 16,
   "metadata": {},
   "outputs": [],
   "source": [
    "Orig_Pluto['zipcode'] = Orig_Pluto['zipcode'].astype(\"str\")"
   ]
  },
  {
   "cell_type": "code",
   "execution_count": 17,
   "metadata": {},
   "outputs": [
    {
     "data": {
      "text/html": [
       "<div>\n",
       "<style scoped>\n",
       "    .dataframe tbody tr th:only-of-type {\n",
       "        vertical-align: middle;\n",
       "    }\n",
       "\n",
       "    .dataframe tbody tr th {\n",
       "        vertical-align: top;\n",
       "    }\n",
       "\n",
       "    .dataframe thead th {\n",
       "        text-align: right;\n",
       "    }\n",
       "</style>\n",
       "<table border=\"1\" class=\"dataframe\">\n",
       "  <thead>\n",
       "    <tr style=\"text-align: right;\">\n",
       "      <th></th>\n",
       "      <th>address</th>\n",
       "      <th>lot</th>\n",
       "      <th>lotarea</th>\n",
       "      <th>bldgarea</th>\n",
       "      <th>resarea</th>\n",
       "      <th>numbldgs</th>\n",
       "      <th>numfloors</th>\n",
       "      <th>bldgdepth</th>\n",
       "      <th>builtfar</th>\n",
       "      <th>residfar</th>\n",
       "      <th>zipcode</th>\n",
       "      <th>borough</th>\n",
       "      <th>Age</th>\n",
       "      <th>yearbuilt</th>\n",
       "    </tr>\n",
       "  </thead>\n",
       "  <tbody>\n",
       "    <tr>\n",
       "      <th>0</th>\n",
       "      <td>JOE DIMAGGIO HIGHWAY</td>\n",
       "      <td>401.00</td>\n",
       "      <td>246896.00</td>\n",
       "      <td>0.00</td>\n",
       "      <td>nan</td>\n",
       "      <td>0.00</td>\n",
       "      <td>0.00</td>\n",
       "      <td>0.00</td>\n",
       "      <td>0.00</td>\n",
       "      <td>0.00</td>\n",
       "      <td>nan</td>\n",
       "      <td>MN</td>\n",
       "      <td>71</td>\n",
       "      <td>1949</td>\n",
       "    </tr>\n",
       "    <tr>\n",
       "      <th>1</th>\n",
       "      <td>146 2 AVENUE</td>\n",
       "      <td>1.00</td>\n",
       "      <td>9412.00</td>\n",
       "      <td>37353.00</td>\n",
       "      <td>30153.00</td>\n",
       "      <td>5.00</td>\n",
       "      <td>5.00</td>\n",
       "      <td>86.00</td>\n",
       "      <td>3.97</td>\n",
       "      <td>4.00</td>\n",
       "      <td>10003.0</td>\n",
       "      <td>MN</td>\n",
       "      <td>120</td>\n",
       "      <td>1900</td>\n",
       "    </tr>\n",
       "    <tr>\n",
       "      <th>2</th>\n",
       "      <td>243 MORELAND STREET</td>\n",
       "      <td>30.00</td>\n",
       "      <td>2807.00</td>\n",
       "      <td>1770.00</td>\n",
       "      <td>1770.00</td>\n",
       "      <td>1.00</td>\n",
       "      <td>2.00</td>\n",
       "      <td>50.00</td>\n",
       "      <td>0.63</td>\n",
       "      <td>0.50</td>\n",
       "      <td>10306.0</td>\n",
       "      <td>SI</td>\n",
       "      <td>1</td>\n",
       "      <td>2019</td>\n",
       "    </tr>\n",
       "    <tr>\n",
       "      <th>3</th>\n",
       "      <td>454 BEACH 125 STREET</td>\n",
       "      <td>70.00</td>\n",
       "      <td>4000.00</td>\n",
       "      <td>1286.00</td>\n",
       "      <td>1286.00</td>\n",
       "      <td>1.00</td>\n",
       "      <td>1.67</td>\n",
       "      <td>36.00</td>\n",
       "      <td>0.32</td>\n",
       "      <td>0.50</td>\n",
       "      <td>11694.0</td>\n",
       "      <td>QN</td>\n",
       "      <td>70</td>\n",
       "      <td>1950</td>\n",
       "    </tr>\n",
       "    <tr>\n",
       "      <th>4</th>\n",
       "      <td>460 BEACH 125 STREET</td>\n",
       "      <td>72.00</td>\n",
       "      <td>5000.00</td>\n",
       "      <td>2352.00</td>\n",
       "      <td>1344.00</td>\n",
       "      <td>1.00</td>\n",
       "      <td>1.00</td>\n",
       "      <td>55.00</td>\n",
       "      <td>0.47</td>\n",
       "      <td>0.50</td>\n",
       "      <td>11694.0</td>\n",
       "      <td>QN</td>\n",
       "      <td>50</td>\n",
       "      <td>1970</td>\n",
       "    </tr>\n",
       "  </tbody>\n",
       "</table>\n",
       "</div>"
      ],
      "text/plain": [
       "                 address    lot   lotarea  bldgarea  resarea  numbldgs  \\\n",
       "0   JOE DIMAGGIO HIGHWAY 401.00 246896.00      0.00      nan      0.00   \n",
       "1           146 2 AVENUE   1.00   9412.00  37353.00 30153.00      5.00   \n",
       "2    243 MORELAND STREET  30.00   2807.00   1770.00  1770.00      1.00   \n",
       "3   454 BEACH 125 STREET  70.00   4000.00   1286.00  1286.00      1.00   \n",
       "4   460 BEACH 125 STREET  72.00   5000.00   2352.00  1344.00      1.00   \n",
       "\n",
       "   numfloors  bldgdepth  builtfar  residfar  zipcode borough  Age  yearbuilt  \n",
       "0       0.00       0.00      0.00      0.00      nan      MN   71       1949  \n",
       "1       5.00      86.00      3.97      4.00  10003.0      MN  120       1900  \n",
       "2       2.00      50.00      0.63      0.50  10306.0      SI    1       2019  \n",
       "3       1.67      36.00      0.32      0.50  11694.0      QN   70       1950  \n",
       "4       1.00      55.00      0.47      0.50  11694.0      QN   50       1970  "
      ]
     },
     "execution_count": 17,
     "metadata": {},
     "output_type": "execute_result"
    }
   ],
   "source": [
    "Pluto = Orig_Pluto[[\"address\",\"lot\",\"lotarea\",\"bldgarea\",\"resarea\",\"numbldgs\",\"numfloors\",\n",
    "                \"bldgdepth\",\"builtfar\",\"residfar\",\"zipcode\",\"borough\",\"Age\",\"yearbuilt\"]]\n",
    "Pluto.head()"
   ]
  },
  {
   "cell_type": "code",
   "execution_count": 18,
   "metadata": {},
   "outputs": [
    {
     "name": "stderr",
     "output_type": "stream",
     "text": [
      "C:\\Users\\const\\anaconda3\\lib\\site-packages\\ipykernel_launcher.py:1: SettingWithCopyWarning: \n",
      "A value is trying to be set on a copy of a slice from a DataFrame.\n",
      "Try using .loc[row_indexer,col_indexer] = value instead\n",
      "\n",
      "See the caveats in the documentation: https://pandas.pydata.org/pandas-docs/stable/user_guide/indexing.html#returning-a-view-versus-a-copy\n",
      "  \"\"\"Entry point for launching an IPython kernel.\n"
     ]
    }
   ],
   "source": [
    "Pluto['yearbuilt'] =  Pluto['yearbuilt'].astype(\"int\")"
   ]
  },
  {
   "cell_type": "code",
   "execution_count": 19,
   "metadata": {},
   "outputs": [
    {
     "data": {
      "text/html": [
       "<div>\n",
       "<style scoped>\n",
       "    .dataframe tbody tr th:only-of-type {\n",
       "        vertical-align: middle;\n",
       "    }\n",
       "\n",
       "    .dataframe tbody tr th {\n",
       "        vertical-align: top;\n",
       "    }\n",
       "\n",
       "    .dataframe thead th {\n",
       "        text-align: right;\n",
       "    }\n",
       "</style>\n",
       "<table border=\"1\" class=\"dataframe\">\n",
       "  <thead>\n",
       "    <tr style=\"text-align: right;\">\n",
       "      <th></th>\n",
       "      <th>address</th>\n",
       "      <th>lot</th>\n",
       "      <th>lotarea</th>\n",
       "      <th>bldgarea</th>\n",
       "      <th>resarea</th>\n",
       "      <th>numbldgs</th>\n",
       "      <th>numfloors</th>\n",
       "      <th>bldgdepth</th>\n",
       "      <th>builtfar</th>\n",
       "      <th>residfar</th>\n",
       "      <th>zipcode</th>\n",
       "      <th>borough</th>\n",
       "      <th>Age</th>\n",
       "      <th>yearbuilt</th>\n",
       "    </tr>\n",
       "  </thead>\n",
       "  <tbody>\n",
       "    <tr>\n",
       "      <th>0</th>\n",
       "      <td>JOE DIMAGGIO HIGHWAY</td>\n",
       "      <td>401.00</td>\n",
       "      <td>246896.00</td>\n",
       "      <td>0.00</td>\n",
       "      <td>nan</td>\n",
       "      <td>0.00</td>\n",
       "      <td>0.00</td>\n",
       "      <td>0.00</td>\n",
       "      <td>0.00</td>\n",
       "      <td>0.00</td>\n",
       "      <td>nan</td>\n",
       "      <td>MN</td>\n",
       "      <td>71</td>\n",
       "      <td>1949</td>\n",
       "    </tr>\n",
       "    <tr>\n",
       "      <th>1</th>\n",
       "      <td>146 2 AVENUE</td>\n",
       "      <td>1.00</td>\n",
       "      <td>9412.00</td>\n",
       "      <td>37353.00</td>\n",
       "      <td>30153.00</td>\n",
       "      <td>5.00</td>\n",
       "      <td>5.00</td>\n",
       "      <td>86.00</td>\n",
       "      <td>3.97</td>\n",
       "      <td>4.00</td>\n",
       "      <td>10003.0</td>\n",
       "      <td>MN</td>\n",
       "      <td>120</td>\n",
       "      <td>1900</td>\n",
       "    </tr>\n",
       "    <tr>\n",
       "      <th>2</th>\n",
       "      <td>243 MORELAND STREET</td>\n",
       "      <td>30.00</td>\n",
       "      <td>2807.00</td>\n",
       "      <td>1770.00</td>\n",
       "      <td>1770.00</td>\n",
       "      <td>1.00</td>\n",
       "      <td>2.00</td>\n",
       "      <td>50.00</td>\n",
       "      <td>0.63</td>\n",
       "      <td>0.50</td>\n",
       "      <td>10306.0</td>\n",
       "      <td>SI</td>\n",
       "      <td>1</td>\n",
       "      <td>2019</td>\n",
       "    </tr>\n",
       "    <tr>\n",
       "      <th>3</th>\n",
       "      <td>454 BEACH 125 STREET</td>\n",
       "      <td>70.00</td>\n",
       "      <td>4000.00</td>\n",
       "      <td>1286.00</td>\n",
       "      <td>1286.00</td>\n",
       "      <td>1.00</td>\n",
       "      <td>1.67</td>\n",
       "      <td>36.00</td>\n",
       "      <td>0.32</td>\n",
       "      <td>0.50</td>\n",
       "      <td>11694.0</td>\n",
       "      <td>QN</td>\n",
       "      <td>70</td>\n",
       "      <td>1950</td>\n",
       "    </tr>\n",
       "    <tr>\n",
       "      <th>4</th>\n",
       "      <td>460 BEACH 125 STREET</td>\n",
       "      <td>72.00</td>\n",
       "      <td>5000.00</td>\n",
       "      <td>2352.00</td>\n",
       "      <td>1344.00</td>\n",
       "      <td>1.00</td>\n",
       "      <td>1.00</td>\n",
       "      <td>55.00</td>\n",
       "      <td>0.47</td>\n",
       "      <td>0.50</td>\n",
       "      <td>11694.0</td>\n",
       "      <td>QN</td>\n",
       "      <td>50</td>\n",
       "      <td>1970</td>\n",
       "    </tr>\n",
       "  </tbody>\n",
       "</table>\n",
       "</div>"
      ],
      "text/plain": [
       "                 address    lot   lotarea  bldgarea  resarea  numbldgs  \\\n",
       "0   JOE DIMAGGIO HIGHWAY 401.00 246896.00      0.00      nan      0.00   \n",
       "1           146 2 AVENUE   1.00   9412.00  37353.00 30153.00      5.00   \n",
       "2    243 MORELAND STREET  30.00   2807.00   1770.00  1770.00      1.00   \n",
       "3   454 BEACH 125 STREET  70.00   4000.00   1286.00  1286.00      1.00   \n",
       "4   460 BEACH 125 STREET  72.00   5000.00   2352.00  1344.00      1.00   \n",
       "\n",
       "   numfloors  bldgdepth  builtfar  residfar  zipcode borough  Age  yearbuilt  \n",
       "0       0.00       0.00      0.00      0.00      nan      MN   71       1949  \n",
       "1       5.00      86.00      3.97      4.00  10003.0      MN  120       1900  \n",
       "2       2.00      50.00      0.63      0.50  10306.0      SI    1       2019  \n",
       "3       1.67      36.00      0.32      0.50  11694.0      QN   70       1950  \n",
       "4       1.00      55.00      0.47      0.50  11694.0      QN   50       1970  "
      ]
     },
     "execution_count": 19,
     "metadata": {},
     "output_type": "execute_result"
    }
   ],
   "source": [
    "Pluto.head()"
   ]
  },
  {
   "cell_type": "markdown",
   "metadata": {},
   "source": [
    "An issue came up where nan in `zipcode` column was not being read by isnull(). so to correct this I replaced it with np.Nan. This revealed 549 null data in the zipcode column"
   ]
  },
  {
   "cell_type": "code",
   "execution_count": 20,
   "metadata": {},
   "outputs": [
    {
     "name": "stderr",
     "output_type": "stream",
     "text": [
      "C:\\Users\\const\\anaconda3\\lib\\site-packages\\pandas\\core\\frame.py:4172: SettingWithCopyWarning: \n",
      "A value is trying to be set on a copy of a slice from a DataFrame\n",
      "\n",
      "See the caveats in the documentation: https://pandas.pydata.org/pandas-docs/stable/user_guide/indexing.html#returning-a-view-versus-a-copy\n",
      "  method=method,\n"
     ]
    }
   ],
   "source": [
    "Pluto.replace(\"nan\", np.NaN, inplace=True)\n"
   ]
  },
  {
   "cell_type": "code",
   "execution_count": 21,
   "metadata": {},
   "outputs": [],
   "source": [
    "Pluto.replace(0, np.NaN, inplace=True)"
   ]
  },
  {
   "cell_type": "code",
   "execution_count": 22,
   "metadata": {},
   "outputs": [
    {
     "data": {
      "text/plain": [
       "address          0\n",
       "lot              0\n",
       "lotarea          7\n",
       "bldgarea      2522\n",
       "resarea      58295\n",
       "numbldgs      1625\n",
       "numfloors     2309\n",
       "bldgdepth     5965\n",
       "builtfar      2843\n",
       "residfar     24119\n",
       "zipcode        549\n",
       "borough          0\n",
       "Age             12\n",
       "yearbuilt        0\n",
       "dtype: int64"
      ]
     },
     "execution_count": 22,
     "metadata": {},
     "output_type": "execute_result"
    }
   ],
   "source": [
    "Pluto.isnull().sum()"
   ]
  },
  {
   "cell_type": "markdown",
   "metadata": {},
   "source": [
    "### Merging datasets"
   ]
  },
  {
   "cell_type": "code",
   "execution_count": 23,
   "metadata": {},
   "outputs": [
    {
     "data": {
      "text/html": [
       "<div>\n",
       "<style scoped>\n",
       "    .dataframe tbody tr th:only-of-type {\n",
       "        vertical-align: middle;\n",
       "    }\n",
       "\n",
       "    .dataframe tbody tr th {\n",
       "        vertical-align: top;\n",
       "    }\n",
       "\n",
       "    .dataframe thead th {\n",
       "        text-align: right;\n",
       "    }\n",
       "</style>\n",
       "<table border=\"1\" class=\"dataframe\">\n",
       "  <thead>\n",
       "    <tr style=\"text-align: right;\">\n",
       "      <th></th>\n",
       "      <th>address</th>\n",
       "      <th>lot</th>\n",
       "      <th>lotarea</th>\n",
       "      <th>bldgarea</th>\n",
       "      <th>resarea</th>\n",
       "      <th>numbldgs</th>\n",
       "      <th>numfloors</th>\n",
       "      <th>bldgdepth</th>\n",
       "      <th>builtfar</th>\n",
       "      <th>residfar</th>\n",
       "      <th>...</th>\n",
       "      <th>borough</th>\n",
       "      <th>Age</th>\n",
       "      <th>yearbuilt</th>\n",
       "      <th>Complaint_Type</th>\n",
       "      <th>zipcode_y</th>\n",
       "      <th>Borough</th>\n",
       "      <th>Latitude</th>\n",
       "      <th>Longitude</th>\n",
       "      <th>count</th>\n",
       "      <th>HEAT/HOT WATER</th>\n",
       "    </tr>\n",
       "  </thead>\n",
       "  <tbody>\n",
       "    <tr>\n",
       "      <th>0</th>\n",
       "      <td>146 2 AVENUE</td>\n",
       "      <td>1.00</td>\n",
       "      <td>9412.00</td>\n",
       "      <td>37353.00</td>\n",
       "      <td>30153.00</td>\n",
       "      <td>5.00</td>\n",
       "      <td>5.00</td>\n",
       "      <td>86.00</td>\n",
       "      <td>3.97</td>\n",
       "      <td>4.00</td>\n",
       "      <td>...</td>\n",
       "      <td>MN</td>\n",
       "      <td>120.00</td>\n",
       "      <td>1900</td>\n",
       "      <td>HEAT/HOT WATER</td>\n",
       "      <td>10003.0</td>\n",
       "      <td>MANHATTAN</td>\n",
       "      <td>40.73</td>\n",
       "      <td>-73.99</td>\n",
       "      <td>21.00</td>\n",
       "      <td>1</td>\n",
       "    </tr>\n",
       "    <tr>\n",
       "      <th>1</th>\n",
       "      <td>146 2 AVENUE</td>\n",
       "      <td>1.00</td>\n",
       "      <td>9412.00</td>\n",
       "      <td>37353.00</td>\n",
       "      <td>30153.00</td>\n",
       "      <td>5.00</td>\n",
       "      <td>5.00</td>\n",
       "      <td>86.00</td>\n",
       "      <td>3.97</td>\n",
       "      <td>4.00</td>\n",
       "      <td>...</td>\n",
       "      <td>MN</td>\n",
       "      <td>120.00</td>\n",
       "      <td>1900</td>\n",
       "      <td>HEAT/HOT WATER</td>\n",
       "      <td>10003.0</td>\n",
       "      <td>MANHATTAN</td>\n",
       "      <td>40.73</td>\n",
       "      <td>-73.99</td>\n",
       "      <td>21.00</td>\n",
       "      <td>1</td>\n",
       "    </tr>\n",
       "    <tr>\n",
       "      <th>2</th>\n",
       "      <td>146 2 AVENUE</td>\n",
       "      <td>1.00</td>\n",
       "      <td>9412.00</td>\n",
       "      <td>37353.00</td>\n",
       "      <td>30153.00</td>\n",
       "      <td>5.00</td>\n",
       "      <td>5.00</td>\n",
       "      <td>86.00</td>\n",
       "      <td>3.97</td>\n",
       "      <td>4.00</td>\n",
       "      <td>...</td>\n",
       "      <td>MN</td>\n",
       "      <td>120.00</td>\n",
       "      <td>1900</td>\n",
       "      <td>HEAT/HOT WATER</td>\n",
       "      <td>10003.0</td>\n",
       "      <td>MANHATTAN</td>\n",
       "      <td>40.73</td>\n",
       "      <td>-73.99</td>\n",
       "      <td>21.00</td>\n",
       "      <td>1</td>\n",
       "    </tr>\n",
       "    <tr>\n",
       "      <th>3</th>\n",
       "      <td>146 2 AVENUE</td>\n",
       "      <td>1.00</td>\n",
       "      <td>9412.00</td>\n",
       "      <td>37353.00</td>\n",
       "      <td>30153.00</td>\n",
       "      <td>5.00</td>\n",
       "      <td>5.00</td>\n",
       "      <td>86.00</td>\n",
       "      <td>3.97</td>\n",
       "      <td>4.00</td>\n",
       "      <td>...</td>\n",
       "      <td>MN</td>\n",
       "      <td>120.00</td>\n",
       "      <td>1900</td>\n",
       "      <td>DOOR/WINDOW</td>\n",
       "      <td>10003.0</td>\n",
       "      <td>MANHATTAN</td>\n",
       "      <td>40.73</td>\n",
       "      <td>-73.99</td>\n",
       "      <td>21.00</td>\n",
       "      <td>0</td>\n",
       "    </tr>\n",
       "    <tr>\n",
       "      <th>4</th>\n",
       "      <td>146 2 AVENUE</td>\n",
       "      <td>1.00</td>\n",
       "      <td>9412.00</td>\n",
       "      <td>37353.00</td>\n",
       "      <td>30153.00</td>\n",
       "      <td>5.00</td>\n",
       "      <td>5.00</td>\n",
       "      <td>86.00</td>\n",
       "      <td>3.97</td>\n",
       "      <td>4.00</td>\n",
       "      <td>...</td>\n",
       "      <td>MN</td>\n",
       "      <td>120.00</td>\n",
       "      <td>1900</td>\n",
       "      <td>ELECTRIC</td>\n",
       "      <td>10003.0</td>\n",
       "      <td>MANHATTAN</td>\n",
       "      <td>40.73</td>\n",
       "      <td>-73.99</td>\n",
       "      <td>21.00</td>\n",
       "      <td>0</td>\n",
       "    </tr>\n",
       "  </tbody>\n",
       "</table>\n",
       "<p>5 rows × 21 columns</p>\n",
       "</div>"
      ],
      "text/plain": [
       "        address  lot  lotarea  bldgarea  resarea  numbldgs  numfloors  \\\n",
       "0  146 2 AVENUE 1.00  9412.00  37353.00 30153.00      5.00       5.00   \n",
       "1  146 2 AVENUE 1.00  9412.00  37353.00 30153.00      5.00       5.00   \n",
       "2  146 2 AVENUE 1.00  9412.00  37353.00 30153.00      5.00       5.00   \n",
       "3  146 2 AVENUE 1.00  9412.00  37353.00 30153.00      5.00       5.00   \n",
       "4  146 2 AVENUE 1.00  9412.00  37353.00 30153.00      5.00       5.00   \n",
       "\n",
       "   bldgdepth  builtfar  residfar  ... borough    Age  yearbuilt  \\\n",
       "0      86.00      3.97      4.00  ...      MN 120.00       1900   \n",
       "1      86.00      3.97      4.00  ...      MN 120.00       1900   \n",
       "2      86.00      3.97      4.00  ...      MN 120.00       1900   \n",
       "3      86.00      3.97      4.00  ...      MN 120.00       1900   \n",
       "4      86.00      3.97      4.00  ...      MN 120.00       1900   \n",
       "\n",
       "   Complaint_Type zipcode_y    Borough Latitude  Longitude  count  \\\n",
       "0  HEAT/HOT WATER   10003.0  MANHATTAN    40.73     -73.99  21.00   \n",
       "1  HEAT/HOT WATER   10003.0  MANHATTAN    40.73     -73.99  21.00   \n",
       "2  HEAT/HOT WATER   10003.0  MANHATTAN    40.73     -73.99  21.00   \n",
       "3     DOOR/WINDOW   10003.0  MANHATTAN    40.73     -73.99  21.00   \n",
       "4        ELECTRIC   10003.0  MANHATTAN    40.73     -73.99  21.00   \n",
       "\n",
       "   HEAT/HOT WATER  \n",
       "0               1  \n",
       "1               1  \n",
       "2               1  \n",
       "3               0  \n",
       "4               0  \n",
       "\n",
       "[5 rows x 21 columns]"
      ]
     },
     "execution_count": 23,
     "metadata": {},
     "output_type": "execute_result"
    }
   ],
   "source": [
    "MergedDF = pd.merge( left=Pluto, right=HPD, how='inner', on='address')\n",
    "MergedDF.head()"
   ]
  },
  {
   "cell_type": "code",
   "execution_count": 24,
   "metadata": {},
   "outputs": [
    {
     "data": {
      "text/html": [
       "<div>\n",
       "<style scoped>\n",
       "    .dataframe tbody tr th:only-of-type {\n",
       "        vertical-align: middle;\n",
       "    }\n",
       "\n",
       "    .dataframe tbody tr th {\n",
       "        vertical-align: top;\n",
       "    }\n",
       "\n",
       "    .dataframe thead th {\n",
       "        text-align: right;\n",
       "    }\n",
       "</style>\n",
       "<table border=\"1\" class=\"dataframe\">\n",
       "  <thead>\n",
       "    <tr style=\"text-align: right;\">\n",
       "      <th></th>\n",
       "      <th>address</th>\n",
       "      <th>lot</th>\n",
       "      <th>lotarea</th>\n",
       "      <th>bldgarea</th>\n",
       "      <th>resarea</th>\n",
       "      <th>numbldgs</th>\n",
       "      <th>numfloors</th>\n",
       "      <th>bldgdepth</th>\n",
       "      <th>builtfar</th>\n",
       "      <th>residfar</th>\n",
       "      <th>zipcode_x</th>\n",
       "      <th>borough</th>\n",
       "      <th>Age</th>\n",
       "      <th>yearbuilt</th>\n",
       "      <th>zipcode_y</th>\n",
       "      <th>Borough</th>\n",
       "      <th>Latitude</th>\n",
       "      <th>Longitude</th>\n",
       "      <th>count</th>\n",
       "      <th>HEAT/HOT WATER</th>\n",
       "    </tr>\n",
       "    <tr>\n",
       "      <th>Complaint_Type</th>\n",
       "      <th></th>\n",
       "      <th></th>\n",
       "      <th></th>\n",
       "      <th></th>\n",
       "      <th></th>\n",
       "      <th></th>\n",
       "      <th></th>\n",
       "      <th></th>\n",
       "      <th></th>\n",
       "      <th></th>\n",
       "      <th></th>\n",
       "      <th></th>\n",
       "      <th></th>\n",
       "      <th></th>\n",
       "      <th></th>\n",
       "      <th></th>\n",
       "      <th></th>\n",
       "      <th></th>\n",
       "      <th></th>\n",
       "      <th></th>\n",
       "    </tr>\n",
       "  </thead>\n",
       "  <tbody>\n",
       "    <tr>\n",
       "      <th>HEAT/HOT WATER</th>\n",
       "      <td>146 2 AVENUE</td>\n",
       "      <td>1.00</td>\n",
       "      <td>9412.00</td>\n",
       "      <td>37353.00</td>\n",
       "      <td>30153.00</td>\n",
       "      <td>5.00</td>\n",
       "      <td>5.00</td>\n",
       "      <td>86.00</td>\n",
       "      <td>3.97</td>\n",
       "      <td>4.00</td>\n",
       "      <td>10003.0</td>\n",
       "      <td>MN</td>\n",
       "      <td>120.00</td>\n",
       "      <td>1900</td>\n",
       "      <td>10003.0</td>\n",
       "      <td>MANHATTAN</td>\n",
       "      <td>40.73</td>\n",
       "      <td>-73.99</td>\n",
       "      <td>21.00</td>\n",
       "      <td>1</td>\n",
       "    </tr>\n",
       "    <tr>\n",
       "      <th>HEAT/HOT WATER</th>\n",
       "      <td>146 2 AVENUE</td>\n",
       "      <td>1.00</td>\n",
       "      <td>9412.00</td>\n",
       "      <td>37353.00</td>\n",
       "      <td>30153.00</td>\n",
       "      <td>5.00</td>\n",
       "      <td>5.00</td>\n",
       "      <td>86.00</td>\n",
       "      <td>3.97</td>\n",
       "      <td>4.00</td>\n",
       "      <td>10003.0</td>\n",
       "      <td>MN</td>\n",
       "      <td>120.00</td>\n",
       "      <td>1900</td>\n",
       "      <td>10003.0</td>\n",
       "      <td>MANHATTAN</td>\n",
       "      <td>40.73</td>\n",
       "      <td>-73.99</td>\n",
       "      <td>21.00</td>\n",
       "      <td>1</td>\n",
       "    </tr>\n",
       "    <tr>\n",
       "      <th>HEAT/HOT WATER</th>\n",
       "      <td>146 2 AVENUE</td>\n",
       "      <td>1.00</td>\n",
       "      <td>9412.00</td>\n",
       "      <td>37353.00</td>\n",
       "      <td>30153.00</td>\n",
       "      <td>5.00</td>\n",
       "      <td>5.00</td>\n",
       "      <td>86.00</td>\n",
       "      <td>3.97</td>\n",
       "      <td>4.00</td>\n",
       "      <td>10003.0</td>\n",
       "      <td>MN</td>\n",
       "      <td>120.00</td>\n",
       "      <td>1900</td>\n",
       "      <td>10003.0</td>\n",
       "      <td>MANHATTAN</td>\n",
       "      <td>40.73</td>\n",
       "      <td>-73.99</td>\n",
       "      <td>21.00</td>\n",
       "      <td>1</td>\n",
       "    </tr>\n",
       "    <tr>\n",
       "      <th>DOOR/WINDOW</th>\n",
       "      <td>146 2 AVENUE</td>\n",
       "      <td>1.00</td>\n",
       "      <td>9412.00</td>\n",
       "      <td>37353.00</td>\n",
       "      <td>30153.00</td>\n",
       "      <td>5.00</td>\n",
       "      <td>5.00</td>\n",
       "      <td>86.00</td>\n",
       "      <td>3.97</td>\n",
       "      <td>4.00</td>\n",
       "      <td>10003.0</td>\n",
       "      <td>MN</td>\n",
       "      <td>120.00</td>\n",
       "      <td>1900</td>\n",
       "      <td>10003.0</td>\n",
       "      <td>MANHATTAN</td>\n",
       "      <td>40.73</td>\n",
       "      <td>-73.99</td>\n",
       "      <td>21.00</td>\n",
       "      <td>0</td>\n",
       "    </tr>\n",
       "    <tr>\n",
       "      <th>ELECTRIC</th>\n",
       "      <td>146 2 AVENUE</td>\n",
       "      <td>1.00</td>\n",
       "      <td>9412.00</td>\n",
       "      <td>37353.00</td>\n",
       "      <td>30153.00</td>\n",
       "      <td>5.00</td>\n",
       "      <td>5.00</td>\n",
       "      <td>86.00</td>\n",
       "      <td>3.97</td>\n",
       "      <td>4.00</td>\n",
       "      <td>10003.0</td>\n",
       "      <td>MN</td>\n",
       "      <td>120.00</td>\n",
       "      <td>1900</td>\n",
       "      <td>10003.0</td>\n",
       "      <td>MANHATTAN</td>\n",
       "      <td>40.73</td>\n",
       "      <td>-73.99</td>\n",
       "      <td>21.00</td>\n",
       "      <td>0</td>\n",
       "    </tr>\n",
       "    <tr>\n",
       "      <th>...</th>\n",
       "      <td>...</td>\n",
       "      <td>...</td>\n",
       "      <td>...</td>\n",
       "      <td>...</td>\n",
       "      <td>...</td>\n",
       "      <td>...</td>\n",
       "      <td>...</td>\n",
       "      <td>...</td>\n",
       "      <td>...</td>\n",
       "      <td>...</td>\n",
       "      <td>...</td>\n",
       "      <td>...</td>\n",
       "      <td>...</td>\n",
       "      <td>...</td>\n",
       "      <td>...</td>\n",
       "      <td>...</td>\n",
       "      <td>...</td>\n",
       "      <td>...</td>\n",
       "      <td>...</td>\n",
       "      <td>...</td>\n",
       "    </tr>\n",
       "    <tr>\n",
       "      <th>HEAT/HOT WATER</th>\n",
       "      <td>1088 LIBERTY AVENUE</td>\n",
       "      <td>18.00</td>\n",
       "      <td>2500.00</td>\n",
       "      <td>3750.00</td>\n",
       "      <td>750.00</td>\n",
       "      <td>1.00</td>\n",
       "      <td>2.00</td>\n",
       "      <td>75.00</td>\n",
       "      <td>1.50</td>\n",
       "      <td>1.25</td>\n",
       "      <td>11208.0</td>\n",
       "      <td>BK</td>\n",
       "      <td>85.00</td>\n",
       "      <td>1935</td>\n",
       "      <td>11208.0</td>\n",
       "      <td>BROOKLYN</td>\n",
       "      <td>40.68</td>\n",
       "      <td>-73.87</td>\n",
       "      <td>43.00</td>\n",
       "      <td>1</td>\n",
       "    </tr>\n",
       "    <tr>\n",
       "      <th>HEAT/HOT WATER</th>\n",
       "      <td>1088 LIBERTY AVENUE</td>\n",
       "      <td>18.00</td>\n",
       "      <td>2500.00</td>\n",
       "      <td>3750.00</td>\n",
       "      <td>750.00</td>\n",
       "      <td>1.00</td>\n",
       "      <td>2.00</td>\n",
       "      <td>75.00</td>\n",
       "      <td>1.50</td>\n",
       "      <td>1.25</td>\n",
       "      <td>11208.0</td>\n",
       "      <td>BK</td>\n",
       "      <td>85.00</td>\n",
       "      <td>1935</td>\n",
       "      <td>11208.0</td>\n",
       "      <td>BROOKLYN</td>\n",
       "      <td>40.68</td>\n",
       "      <td>-73.87</td>\n",
       "      <td>43.00</td>\n",
       "      <td>1</td>\n",
       "    </tr>\n",
       "    <tr>\n",
       "      <th>HEAT/HOT WATER</th>\n",
       "      <td>1088 LIBERTY AVENUE</td>\n",
       "      <td>18.00</td>\n",
       "      <td>2500.00</td>\n",
       "      <td>3750.00</td>\n",
       "      <td>750.00</td>\n",
       "      <td>1.00</td>\n",
       "      <td>2.00</td>\n",
       "      <td>75.00</td>\n",
       "      <td>1.50</td>\n",
       "      <td>1.25</td>\n",
       "      <td>11208.0</td>\n",
       "      <td>BK</td>\n",
       "      <td>85.00</td>\n",
       "      <td>1935</td>\n",
       "      <td>11208.0</td>\n",
       "      <td>BROOKLYN</td>\n",
       "      <td>40.68</td>\n",
       "      <td>-73.87</td>\n",
       "      <td>43.00</td>\n",
       "      <td>1</td>\n",
       "    </tr>\n",
       "    <tr>\n",
       "      <th>HEAT/HOT WATER</th>\n",
       "      <td>1088 LIBERTY AVENUE</td>\n",
       "      <td>18.00</td>\n",
       "      <td>2500.00</td>\n",
       "      <td>3750.00</td>\n",
       "      <td>750.00</td>\n",
       "      <td>1.00</td>\n",
       "      <td>2.00</td>\n",
       "      <td>75.00</td>\n",
       "      <td>1.50</td>\n",
       "      <td>1.25</td>\n",
       "      <td>11208.0</td>\n",
       "      <td>BK</td>\n",
       "      <td>85.00</td>\n",
       "      <td>1935</td>\n",
       "      <td>11208.0</td>\n",
       "      <td>BROOKLYN</td>\n",
       "      <td>40.68</td>\n",
       "      <td>-73.87</td>\n",
       "      <td>43.00</td>\n",
       "      <td>1</td>\n",
       "    </tr>\n",
       "    <tr>\n",
       "      <th>HEAT/HOT WATER</th>\n",
       "      <td>1088 LIBERTY AVENUE</td>\n",
       "      <td>18.00</td>\n",
       "      <td>2500.00</td>\n",
       "      <td>3750.00</td>\n",
       "      <td>750.00</td>\n",
       "      <td>1.00</td>\n",
       "      <td>2.00</td>\n",
       "      <td>75.00</td>\n",
       "      <td>1.50</td>\n",
       "      <td>1.25</td>\n",
       "      <td>11208.0</td>\n",
       "      <td>BK</td>\n",
       "      <td>85.00</td>\n",
       "      <td>1935</td>\n",
       "      <td>11208.0</td>\n",
       "      <td>BROOKLYN</td>\n",
       "      <td>40.68</td>\n",
       "      <td>-73.87</td>\n",
       "      <td>43.00</td>\n",
       "      <td>1</td>\n",
       "    </tr>\n",
       "  </tbody>\n",
       "</table>\n",
       "<p>4764213 rows × 20 columns</p>\n",
       "</div>"
      ],
      "text/plain": [
       "                            address   lot  lotarea  bldgarea  resarea  \\\n",
       "Complaint_Type                                                          \n",
       "HEAT/HOT WATER         146 2 AVENUE  1.00  9412.00  37353.00 30153.00   \n",
       "HEAT/HOT WATER         146 2 AVENUE  1.00  9412.00  37353.00 30153.00   \n",
       "HEAT/HOT WATER         146 2 AVENUE  1.00  9412.00  37353.00 30153.00   \n",
       "DOOR/WINDOW            146 2 AVENUE  1.00  9412.00  37353.00 30153.00   \n",
       "ELECTRIC               146 2 AVENUE  1.00  9412.00  37353.00 30153.00   \n",
       "...                             ...   ...      ...       ...      ...   \n",
       "HEAT/HOT WATER  1088 LIBERTY AVENUE 18.00  2500.00   3750.00   750.00   \n",
       "HEAT/HOT WATER  1088 LIBERTY AVENUE 18.00  2500.00   3750.00   750.00   \n",
       "HEAT/HOT WATER  1088 LIBERTY AVENUE 18.00  2500.00   3750.00   750.00   \n",
       "HEAT/HOT WATER  1088 LIBERTY AVENUE 18.00  2500.00   3750.00   750.00   \n",
       "HEAT/HOT WATER  1088 LIBERTY AVENUE 18.00  2500.00   3750.00   750.00   \n",
       "\n",
       "                numbldgs  numfloors  bldgdepth  builtfar  residfar zipcode_x  \\\n",
       "Complaint_Type                                                                 \n",
       "HEAT/HOT WATER      5.00       5.00      86.00      3.97      4.00   10003.0   \n",
       "HEAT/HOT WATER      5.00       5.00      86.00      3.97      4.00   10003.0   \n",
       "HEAT/HOT WATER      5.00       5.00      86.00      3.97      4.00   10003.0   \n",
       "DOOR/WINDOW         5.00       5.00      86.00      3.97      4.00   10003.0   \n",
       "ELECTRIC            5.00       5.00      86.00      3.97      4.00   10003.0   \n",
       "...                  ...        ...        ...       ...       ...       ...   \n",
       "HEAT/HOT WATER      1.00       2.00      75.00      1.50      1.25   11208.0   \n",
       "HEAT/HOT WATER      1.00       2.00      75.00      1.50      1.25   11208.0   \n",
       "HEAT/HOT WATER      1.00       2.00      75.00      1.50      1.25   11208.0   \n",
       "HEAT/HOT WATER      1.00       2.00      75.00      1.50      1.25   11208.0   \n",
       "HEAT/HOT WATER      1.00       2.00      75.00      1.50      1.25   11208.0   \n",
       "\n",
       "               borough    Age  yearbuilt zipcode_y    Borough  Latitude  \\\n",
       "Complaint_Type                                                            \n",
       "HEAT/HOT WATER      MN 120.00       1900   10003.0  MANHATTAN     40.73   \n",
       "HEAT/HOT WATER      MN 120.00       1900   10003.0  MANHATTAN     40.73   \n",
       "HEAT/HOT WATER      MN 120.00       1900   10003.0  MANHATTAN     40.73   \n",
       "DOOR/WINDOW         MN 120.00       1900   10003.0  MANHATTAN     40.73   \n",
       "ELECTRIC            MN 120.00       1900   10003.0  MANHATTAN     40.73   \n",
       "...                ...    ...        ...       ...        ...       ...   \n",
       "HEAT/HOT WATER      BK  85.00       1935   11208.0   BROOKLYN     40.68   \n",
       "HEAT/HOT WATER      BK  85.00       1935   11208.0   BROOKLYN     40.68   \n",
       "HEAT/HOT WATER      BK  85.00       1935   11208.0   BROOKLYN     40.68   \n",
       "HEAT/HOT WATER      BK  85.00       1935   11208.0   BROOKLYN     40.68   \n",
       "HEAT/HOT WATER      BK  85.00       1935   11208.0   BROOKLYN     40.68   \n",
       "\n",
       "                Longitude  count  HEAT/HOT WATER  \n",
       "Complaint_Type                                    \n",
       "HEAT/HOT WATER     -73.99  21.00               1  \n",
       "HEAT/HOT WATER     -73.99  21.00               1  \n",
       "HEAT/HOT WATER     -73.99  21.00               1  \n",
       "DOOR/WINDOW        -73.99  21.00               0  \n",
       "ELECTRIC           -73.99  21.00               0  \n",
       "...                   ...    ...             ...  \n",
       "HEAT/HOT WATER     -73.87  43.00               1  \n",
       "HEAT/HOT WATER     -73.87  43.00               1  \n",
       "HEAT/HOT WATER     -73.87  43.00               1  \n",
       "HEAT/HOT WATER     -73.87  43.00               1  \n",
       "HEAT/HOT WATER     -73.87  43.00               1  \n",
       "\n",
       "[4764213 rows x 20 columns]"
      ]
     },
     "execution_count": 24,
     "metadata": {},
     "output_type": "execute_result"
    }
   ],
   "source": [
    "MergedDF.set_index('Complaint_Type')"
   ]
  },
  {
   "cell_type": "code",
   "execution_count": 25,
   "metadata": {},
   "outputs": [],
   "source": [
    "MergedDF.sort_values(\"Complaint_Type\", inplace=True)"
   ]
  },
  {
   "cell_type": "code",
   "execution_count": 26,
   "metadata": {},
   "outputs": [],
   "source": [
    "MergedDF = MergedDF.drop_duplicates()"
   ]
  },
  {
   "cell_type": "code",
   "execution_count": 27,
   "metadata": {},
   "outputs": [
    {
     "data": {
      "text/html": [
       "<div>\n",
       "<style scoped>\n",
       "    .dataframe tbody tr th:only-of-type {\n",
       "        vertical-align: middle;\n",
       "    }\n",
       "\n",
       "    .dataframe tbody tr th {\n",
       "        vertical-align: top;\n",
       "    }\n",
       "\n",
       "    .dataframe thead th {\n",
       "        text-align: right;\n",
       "    }\n",
       "</style>\n",
       "<table border=\"1\" class=\"dataframe\">\n",
       "  <thead>\n",
       "    <tr style=\"text-align: right;\">\n",
       "      <th></th>\n",
       "      <th>address</th>\n",
       "      <th>lot</th>\n",
       "      <th>lotarea</th>\n",
       "      <th>bldgarea</th>\n",
       "      <th>resarea</th>\n",
       "      <th>numbldgs</th>\n",
       "      <th>numfloors</th>\n",
       "      <th>bldgdepth</th>\n",
       "      <th>builtfar</th>\n",
       "      <th>residfar</th>\n",
       "      <th>...</th>\n",
       "      <th>borough</th>\n",
       "      <th>Age</th>\n",
       "      <th>yearbuilt</th>\n",
       "      <th>Complaint_Type</th>\n",
       "      <th>zipcode_y</th>\n",
       "      <th>Borough</th>\n",
       "      <th>Latitude</th>\n",
       "      <th>Longitude</th>\n",
       "      <th>count</th>\n",
       "      <th>HEAT/HOT WATER</th>\n",
       "    </tr>\n",
       "  </thead>\n",
       "  <tbody>\n",
       "    <tr>\n",
       "      <th>3849534</th>\n",
       "      <td>1890 ANDREWS AVENUE SOUTH</td>\n",
       "      <td>28.00</td>\n",
       "      <td>14299.00</td>\n",
       "      <td>59433.00</td>\n",
       "      <td>57183.00</td>\n",
       "      <td>2.00</td>\n",
       "      <td>6.00</td>\n",
       "      <td>116.00</td>\n",
       "      <td>4.16</td>\n",
       "      <td>3.44</td>\n",
       "      <td>...</td>\n",
       "      <td>BX</td>\n",
       "      <td>96.00</td>\n",
       "      <td>1924</td>\n",
       "      <td>AGENCY</td>\n",
       "      <td>10453.0</td>\n",
       "      <td>BRONX</td>\n",
       "      <td>40.85</td>\n",
       "      <td>-73.91</td>\n",
       "      <td>210.00</td>\n",
       "      <td>0</td>\n",
       "    </tr>\n",
       "    <tr>\n",
       "      <th>4098727</th>\n",
       "      <td>109-29 SUTPHIN BOULEVARD</td>\n",
       "      <td>7.00</td>\n",
       "      <td>11514.00</td>\n",
       "      <td>55015.00</td>\n",
       "      <td>55015.00</td>\n",
       "      <td>1.00</td>\n",
       "      <td>6.00</td>\n",
       "      <td>95.00</td>\n",
       "      <td>4.78</td>\n",
       "      <td>2.00</td>\n",
       "      <td>...</td>\n",
       "      <td>QN</td>\n",
       "      <td>16.00</td>\n",
       "      <td>2004</td>\n",
       "      <td>AGENCY</td>\n",
       "      <td>11435.0</td>\n",
       "      <td>QUEENS</td>\n",
       "      <td>40.69</td>\n",
       "      <td>-73.80</td>\n",
       "      <td>93.00</td>\n",
       "      <td>0</td>\n",
       "    </tr>\n",
       "    <tr>\n",
       "      <th>3105063</th>\n",
       "      <td>2297 SEDGWICK AVENUE</td>\n",
       "      <td>57.00</td>\n",
       "      <td>3676.00</td>\n",
       "      <td>14000.00</td>\n",
       "      <td>14000.00</td>\n",
       "      <td>1.00</td>\n",
       "      <td>4.00</td>\n",
       "      <td>48.00</td>\n",
       "      <td>3.81</td>\n",
       "      <td>3.44</td>\n",
       "      <td>...</td>\n",
       "      <td>BX</td>\n",
       "      <td>110.00</td>\n",
       "      <td>1910</td>\n",
       "      <td>AGENCY</td>\n",
       "      <td>10468.0</td>\n",
       "      <td>BRONX</td>\n",
       "      <td>40.86</td>\n",
       "      <td>-73.91</td>\n",
       "      <td>114.00</td>\n",
       "      <td>0</td>\n",
       "    </tr>\n",
       "    <tr>\n",
       "      <th>1682983</th>\n",
       "      <td>1725 61 STREET</td>\n",
       "      <td>68.00</td>\n",
       "      <td>2500.00</td>\n",
       "      <td>3337.00</td>\n",
       "      <td>3337.00</td>\n",
       "      <td>1.00</td>\n",
       "      <td>2.00</td>\n",
       "      <td>81.00</td>\n",
       "      <td>1.33</td>\n",
       "      <td>1.25</td>\n",
       "      <td>...</td>\n",
       "      <td>BK</td>\n",
       "      <td>89.00</td>\n",
       "      <td>1931</td>\n",
       "      <td>AGENCY</td>\n",
       "      <td>11204.0</td>\n",
       "      <td>BROOKLYN</td>\n",
       "      <td>40.62</td>\n",
       "      <td>-73.99</td>\n",
       "      <td>55.00</td>\n",
       "      <td>0</td>\n",
       "    </tr>\n",
       "    <tr>\n",
       "      <th>1947894</th>\n",
       "      <td>1038 LOWELL STREET</td>\n",
       "      <td>39.00</td>\n",
       "      <td>3900.00</td>\n",
       "      <td>10950.00</td>\n",
       "      <td>10950.00</td>\n",
       "      <td>1.00</td>\n",
       "      <td>5.00</td>\n",
       "      <td>68.00</td>\n",
       "      <td>2.81</td>\n",
       "      <td>3.44</td>\n",
       "      <td>...</td>\n",
       "      <td>BX</td>\n",
       "      <td>109.00</td>\n",
       "      <td>1911</td>\n",
       "      <td>AGENCY</td>\n",
       "      <td>10459.0</td>\n",
       "      <td>BRONX</td>\n",
       "      <td>40.83</td>\n",
       "      <td>-73.89</td>\n",
       "      <td>131.00</td>\n",
       "      <td>0</td>\n",
       "    </tr>\n",
       "  </tbody>\n",
       "</table>\n",
       "<p>5 rows × 21 columns</p>\n",
       "</div>"
      ],
      "text/plain": [
       "                           address   lot  lotarea  bldgarea  resarea  \\\n",
       "3849534  1890 ANDREWS AVENUE SOUTH 28.00 14299.00  59433.00 57183.00   \n",
       "4098727   109-29 SUTPHIN BOULEVARD  7.00 11514.00  55015.00 55015.00   \n",
       "3105063       2297 SEDGWICK AVENUE 57.00  3676.00  14000.00 14000.00   \n",
       "1682983             1725 61 STREET 68.00  2500.00   3337.00  3337.00   \n",
       "1947894         1038 LOWELL STREET 39.00  3900.00  10950.00 10950.00   \n",
       "\n",
       "         numbldgs  numfloors  bldgdepth  builtfar  residfar  ... borough  \\\n",
       "3849534      2.00       6.00     116.00      4.16      3.44  ...      BX   \n",
       "4098727      1.00       6.00      95.00      4.78      2.00  ...      QN   \n",
       "3105063      1.00       4.00      48.00      3.81      3.44  ...      BX   \n",
       "1682983      1.00       2.00      81.00      1.33      1.25  ...      BK   \n",
       "1947894      1.00       5.00      68.00      2.81      3.44  ...      BX   \n",
       "\n",
       "           Age  yearbuilt  Complaint_Type zipcode_y   Borough Latitude  \\\n",
       "3849534  96.00       1924          AGENCY   10453.0     BRONX    40.85   \n",
       "4098727  16.00       2004          AGENCY   11435.0    QUEENS    40.69   \n",
       "3105063 110.00       1910          AGENCY   10468.0     BRONX    40.86   \n",
       "1682983  89.00       1931          AGENCY   11204.0  BROOKLYN    40.62   \n",
       "1947894 109.00       1911          AGENCY   10459.0     BRONX    40.83   \n",
       "\n",
       "         Longitude  count  HEAT/HOT WATER  \n",
       "3849534     -73.91 210.00               0  \n",
       "4098727     -73.80  93.00               0  \n",
       "3105063     -73.91 114.00               0  \n",
       "1682983     -73.99  55.00               0  \n",
       "1947894     -73.89 131.00               0  \n",
       "\n",
       "[5 rows x 21 columns]"
      ]
     },
     "execution_count": 27,
     "metadata": {},
     "output_type": "execute_result"
    }
   ],
   "source": [
    "MergedDF.head(5)"
   ]
  },
  {
   "cell_type": "markdown",
   "metadata": {},
   "source": [
    "This will delete duplicate Complaint Types from same addresses that share other complaints."
   ]
  },
  {
   "cell_type": "code",
   "execution_count": 31,
   "metadata": {},
   "outputs": [
    {
     "data": {
      "text/plain": [
       "address           0\n",
       "lot               0\n",
       "lotarea           0\n",
       "bldgarea          0\n",
       "resarea           0\n",
       "numbldgs          0\n",
       "numfloors         0\n",
       "bldgdepth         0\n",
       "builtfar          0\n",
       "residfar          0\n",
       "zipcode_x         0\n",
       "borough           0\n",
       "Age               0\n",
       "yearbuilt         0\n",
       "Complaint_Type    0\n",
       "zipcode_y         0\n",
       "Borough           0\n",
       "Latitude          0\n",
       "Longitude         0\n",
       "count             0\n",
       "HEAT/HOT WATER    0\n",
       "dtype: int64"
      ]
     },
     "execution_count": 31,
     "metadata": {},
     "output_type": "execute_result"
    }
   ],
   "source": [
    "MergedDF.isnull().sum()"
   ]
  },
  {
   "cell_type": "code",
   "execution_count": 29,
   "metadata": {},
   "outputs": [],
   "source": [
    "MergedDF.fillna(MergedDF.median(), inplace=True)"
   ]
  },
  {
   "cell_type": "code",
   "execution_count": 30,
   "metadata": {},
   "outputs": [],
   "source": [
    "MergedDF.to_csv(\"MergedDF.csv\")"
   ]
  },
  {
   "cell_type": "code",
   "execution_count": 151,
   "metadata": {},
   "outputs": [
    {
     "data": {
      "text/plain": [
       "(688663, 21)"
      ]
     },
     "execution_count": 151,
     "metadata": {},
     "output_type": "execute_result"
    }
   ],
   "source": [
    "MergedDF.shape"
   ]
  },
  {
   "cell_type": "markdown",
   "metadata": {},
   "source": [
    "# Data Selection"
   ]
  },
  {
   "cell_type": "code",
   "execution_count": 2,
   "metadata": {},
   "outputs": [],
   "source": [
    "MergedDF = pd.read_csv(\"MergedDF.csv\")"
   ]
  },
  {
   "cell_type": "code",
   "execution_count": 32,
   "metadata": {},
   "outputs": [],
   "source": [
    "MergedDF.rename(columns={\"HEAT/HOT WATER\": \"HEAT_HOT_WATER\"}, inplace=True)"
   ]
  },
  {
   "cell_type": "code",
   "execution_count": 33,
   "metadata": {},
   "outputs": [],
   "source": [
    "Data =MergedDF.drop(['address','zipcode_x','zipcode_y', 'Latitude','Longitude','borough', 'Complaint_Type','Borough','HEAT_HOT_WATER','count'],axis=1)"
   ]
  },
  {
   "cell_type": "code",
   "execution_count": 34,
   "metadata": {},
   "outputs": [
    {
     "data": {
      "text/html": [
       "<div>\n",
       "<style scoped>\n",
       "    .dataframe tbody tr th:only-of-type {\n",
       "        vertical-align: middle;\n",
       "    }\n",
       "\n",
       "    .dataframe tbody tr th {\n",
       "        vertical-align: top;\n",
       "    }\n",
       "\n",
       "    .dataframe thead th {\n",
       "        text-align: right;\n",
       "    }\n",
       "</style>\n",
       "<table border=\"1\" class=\"dataframe\">\n",
       "  <thead>\n",
       "    <tr style=\"text-align: right;\">\n",
       "      <th></th>\n",
       "      <th>lot</th>\n",
       "      <th>lotarea</th>\n",
       "      <th>bldgarea</th>\n",
       "      <th>resarea</th>\n",
       "      <th>numbldgs</th>\n",
       "      <th>numfloors</th>\n",
       "      <th>bldgdepth</th>\n",
       "      <th>builtfar</th>\n",
       "      <th>residfar</th>\n",
       "      <th>Age</th>\n",
       "      <th>yearbuilt</th>\n",
       "    </tr>\n",
       "  </thead>\n",
       "  <tbody>\n",
       "    <tr>\n",
       "      <th>3849534</th>\n",
       "      <td>28.00</td>\n",
       "      <td>14299.00</td>\n",
       "      <td>59433.00</td>\n",
       "      <td>57183.00</td>\n",
       "      <td>2.00</td>\n",
       "      <td>6.00</td>\n",
       "      <td>116.00</td>\n",
       "      <td>4.16</td>\n",
       "      <td>3.44</td>\n",
       "      <td>96.00</td>\n",
       "      <td>1924</td>\n",
       "    </tr>\n",
       "    <tr>\n",
       "      <th>4098727</th>\n",
       "      <td>7.00</td>\n",
       "      <td>11514.00</td>\n",
       "      <td>55015.00</td>\n",
       "      <td>55015.00</td>\n",
       "      <td>1.00</td>\n",
       "      <td>6.00</td>\n",
       "      <td>95.00</td>\n",
       "      <td>4.78</td>\n",
       "      <td>2.00</td>\n",
       "      <td>16.00</td>\n",
       "      <td>2004</td>\n",
       "    </tr>\n",
       "    <tr>\n",
       "      <th>3105063</th>\n",
       "      <td>57.00</td>\n",
       "      <td>3676.00</td>\n",
       "      <td>14000.00</td>\n",
       "      <td>14000.00</td>\n",
       "      <td>1.00</td>\n",
       "      <td>4.00</td>\n",
       "      <td>48.00</td>\n",
       "      <td>3.81</td>\n",
       "      <td>3.44</td>\n",
       "      <td>110.00</td>\n",
       "      <td>1910</td>\n",
       "    </tr>\n",
       "    <tr>\n",
       "      <th>1682983</th>\n",
       "      <td>68.00</td>\n",
       "      <td>2500.00</td>\n",
       "      <td>3337.00</td>\n",
       "      <td>3337.00</td>\n",
       "      <td>1.00</td>\n",
       "      <td>2.00</td>\n",
       "      <td>81.00</td>\n",
       "      <td>1.33</td>\n",
       "      <td>1.25</td>\n",
       "      <td>89.00</td>\n",
       "      <td>1931</td>\n",
       "    </tr>\n",
       "    <tr>\n",
       "      <th>1947894</th>\n",
       "      <td>39.00</td>\n",
       "      <td>3900.00</td>\n",
       "      <td>10950.00</td>\n",
       "      <td>10950.00</td>\n",
       "      <td>1.00</td>\n",
       "      <td>5.00</td>\n",
       "      <td>68.00</td>\n",
       "      <td>2.81</td>\n",
       "      <td>3.44</td>\n",
       "      <td>109.00</td>\n",
       "      <td>1911</td>\n",
       "    </tr>\n",
       "  </tbody>\n",
       "</table>\n",
       "</div>"
      ],
      "text/plain": [
       "          lot  lotarea  bldgarea  resarea  numbldgs  numfloors  bldgdepth  \\\n",
       "3849534 28.00 14299.00  59433.00 57183.00      2.00       6.00     116.00   \n",
       "4098727  7.00 11514.00  55015.00 55015.00      1.00       6.00      95.00   \n",
       "3105063 57.00  3676.00  14000.00 14000.00      1.00       4.00      48.00   \n",
       "1682983 68.00  2500.00   3337.00  3337.00      1.00       2.00      81.00   \n",
       "1947894 39.00  3900.00  10950.00 10950.00      1.00       5.00      68.00   \n",
       "\n",
       "         builtfar  residfar    Age  yearbuilt  \n",
       "3849534      4.16      3.44  96.00       1924  \n",
       "4098727      4.78      2.00  16.00       2004  \n",
       "3105063      3.81      3.44 110.00       1910  \n",
       "1682983      1.33      1.25  89.00       1931  \n",
       "1947894      2.81      3.44 109.00       1911  "
      ]
     },
     "execution_count": 34,
     "metadata": {},
     "output_type": "execute_result"
    }
   ],
   "source": [
    "Data.head()"
   ]
  },
  {
   "cell_type": "code",
   "execution_count": 35,
   "metadata": {},
   "outputs": [
    {
     "data": {
      "text/plain": [
       "count   688663.00\n",
       "mean        89.14\n",
       "std         28.15\n",
       "min          1.00\n",
       "25%         87.00\n",
       "50%         94.00\n",
       "75%        108.00\n",
       "max        255.00\n",
       "Name: Age, dtype: float64"
      ]
     },
     "execution_count": 35,
     "metadata": {},
     "output_type": "execute_result"
    }
   ],
   "source": [
    "Data['Age'].describe()"
   ]
  },
  {
   "cell_type": "code",
   "execution_count": 38,
   "metadata": {},
   "outputs": [
    {
     "data": {
      "text/plain": [
       "array([[2.8000e+01, 5.7183e+04, 2.0000e+00, 6.0000e+00, 1.1600e+02,\n",
       "        3.4400e+00],\n",
       "       [7.0000e+00, 5.5015e+04, 1.0000e+00, 6.0000e+00, 9.5000e+01,\n",
       "        2.0000e+00],\n",
       "       [5.7000e+01, 1.4000e+04, 1.0000e+00, 4.0000e+00, 4.8000e+01,\n",
       "        3.4400e+00],\n",
       "       [6.8000e+01, 3.3370e+03, 1.0000e+00, 2.0000e+00, 8.1000e+01,\n",
       "        1.2500e+00],\n",
       "       [3.9000e+01, 1.0950e+04, 1.0000e+00, 5.0000e+00, 6.8000e+01,\n",
       "        3.4400e+00]])"
      ]
     },
     "execution_count": 38,
     "metadata": {},
     "output_type": "execute_result"
    }
   ],
   "source": [
    "# Let's Define X, and y for our dataset\n",
    "X=np.asarray(Data[['lot','resarea','numbldgs','numfloors','bldgdepth','residfar']])\n",
    "X[0:5]"
   ]
  },
  {
   "cell_type": "code",
   "execution_count": 39,
   "metadata": {},
   "outputs": [
    {
     "data": {
      "text/plain": [
       "3849534    0\n",
       "4098727    0\n",
       "3105063    0\n",
       "1682983    0\n",
       "1947894    0\n",
       "Name: HEAT_HOT_WATER, dtype: int32"
      ]
     },
     "execution_count": 39,
     "metadata": {},
     "output_type": "execute_result"
    }
   ],
   "source": [
    "y = MergedDF['HEAT_HOT_WATER']\n",
    "y[0:5]"
   ]
  },
  {
   "cell_type": "code",
   "execution_count": 43,
   "metadata": {},
   "outputs": [
    {
     "name": "stdout",
     "output_type": "stream",
     "text": [
      "Optimization terminated successfully.\n",
      "         Current function value: 0.527946\n",
      "         Iterations 6\n",
      "                          Results: Logit\n",
      "==================================================================\n",
      "Model:              Logit            Pseudo R-squared: -0.014     \n",
      "Dependent Variable: HEAT_HOT_WATER   AIC:              727165.6874\n",
      "Date:               2020-06-09 21:57 BIC:              727234.3425\n",
      "No. Observations:   688663           Log-Likelihood:   -3.6358e+05\n",
      "Df Model:           5                LL-Null:          -3.5854e+05\n",
      "Df Residuals:       688657           LLR p-value:      1.0000     \n",
      "Converged:          1.0000           Scale:            1.0000     \n",
      "No. Iterations:     6.0000                                        \n",
      "---------------------------------------------------------------------\n",
      "       Coef.     Std.Err.       z        P>|z|      [0.025     0.975]\n",
      "---------------------------------------------------------------------\n",
      "x1     0.0000      0.0000      9.9740    0.0000     0.0000     0.0000\n",
      "x2     0.0000      0.0000     49.4931    0.0000     0.0000     0.0000\n",
      "x3    -0.2053      0.0041    -49.5146    0.0000    -0.2134    -0.1972\n",
      "x4    -0.0766      0.0020    -39.0683    0.0000    -0.0805    -0.0728\n",
      "x5    -0.0105      0.0001    -93.4060    0.0000    -0.0108    -0.0103\n",
      "x6    -0.0150      0.0021     -6.9907    0.0000    -0.0192    -0.0108\n",
      "==================================================================\n",
      "\n"
     ]
    }
   ],
   "source": [
    "import statsmodels.api as sm\n",
    "logit_model=sm.Logit(y,X)\n",
    "result=logit_model.fit()\n",
    "print(result.summary2())"
   ]
  },
  {
   "cell_type": "markdown",
   "metadata": {},
   "source": [
    "#### Normalizing the dataset"
   ]
  },
  {
   "cell_type": "code",
   "execution_count": 41,
   "metadata": {},
   "outputs": [],
   "source": [
    "from sklearn import preprocessing\n",
    "from sklearn.preprocessing import RobustScaler\n",
    "from scipy import stats"
   ]
  },
  {
   "cell_type": "code",
   "execution_count": 8,
   "metadata": {},
   "outputs": [
    {
     "data": {
      "text/plain": [
       "array([[-0.85365854,  7.63791416,  4.        ,  1.        ,  1.10344828,\n",
       "         0.88888889],\n",
       "       [-0.73170732,  7.92981966,  0.        ,  1.5       ,  2.44827586,\n",
       "         0.88888889],\n",
       "       [-0.09756098,  1.44806375,  0.        ,  1.        ,  1.24137931,\n",
       "         0.64      ],\n",
       "       [-0.53658537, -0.14818957,  0.        , -0.5       , -0.20689655,\n",
       "        -0.55555556],\n",
       "       [-0.68292683,  1.8487348 ,  0.        ,  1.5       ,  1.10344828,\n",
       "         0.64      ]])"
      ]
     },
     "execution_count": 8,
     "metadata": {},
     "output_type": "execute_result"
    }
   ],
   "source": [
    "X = preprocessing.RobustScaler().fit(X).transform(X)\n",
    "X[0:5]"
   ]
  },
  {
   "cell_type": "code",
   "execution_count": 42,
   "metadata": {},
   "outputs": [
    {
     "data": {
      "text/plain": [
       "(array([2.31306633, 3.94058236, 0.63979489, 1.46323195, 2.86689618,\n",
       "        1.07274565]),\n",
       " -0.234274051987872)"
      ]
     },
     "execution_count": 42,
     "metadata": {},
     "output_type": "execute_result"
    }
   ],
   "source": [
    "stats.boxcox(X[0,])"
   ]
  },
  {
   "cell_type": "markdown",
   "metadata": {},
   "source": [
    "#### Train_Test_Split"
   ]
  },
  {
   "cell_type": "code",
   "execution_count": 45,
   "metadata": {},
   "outputs": [
    {
     "name": "stdout",
     "output_type": "stream",
     "text": [
      "Train set : (482064, 6) (482064,)\n",
      "Test set:  (206599, 6) (206599,)\n"
     ]
    }
   ],
   "source": [
    "from sklearn.model_selection import train_test_split\n",
    "\n",
    "X_train, X_test,y_train,y_test = train_test_split(X,y,test_size=0.3, random_state=4)\n",
    "print('Train set :', X_train.shape, y_train.shape)\n",
    "print('Test set: ', X_test.shape, y_test.shape)"
   ]
  },
  {
   "cell_type": "code",
   "execution_count": 10,
   "metadata": {},
   "outputs": [],
   "source": [
    "from sklearn import datasets\n",
    "from sklearn import svm"
   ]
  },
  {
   "cell_type": "code",
   "execution_count": null,
   "metadata": {},
   "outputs": [],
   "source": [
    "clf = svm.SVC(kernel='poly', C=1).fit(X_train, y_train)\n",
    "clf.score(X_test, y_test)"
   ]
  },
  {
   "cell_type": "markdown",
   "metadata": {},
   "source": [
    "# MODELING"
   ]
  },
  {
   "cell_type": "markdown",
   "metadata": {},
   "source": [
    "## **LOGISTIC REGRESSION**"
   ]
  },
  {
   "cell_type": "code",
   "execution_count": 46,
   "metadata": {},
   "outputs": [],
   "source": [
    "from sklearn.linear_model import LogisticRegression\n",
    "from sklearn.metrics import confusion_matrix\n",
    "\n",
    "LR = LogisticRegression(penalty ='l1',C=0.01, solver='liblinear', max_iter=100, fit_intercept=True, n_jobs=1,\n",
    "                       warm_start=True).fit(X_train, y_train)"
   ]
  },
  {
   "cell_type": "code",
   "execution_count": 47,
   "metadata": {},
   "outputs": [
    {
     "name": "stdout",
     "output_type": "stream",
     "text": [
      "y actual : \n",
      "0    161978\n",
      "1     44621\n",
      "Name: HEAT_HOT_WATER, dtype: int64\n",
      "y predicted : \n",
      "0    206599\n",
      "dtype: int64\n"
     ]
    }
   ],
   "source": [
    "#Dummy Classifier\n",
    "from sklearn.dummy import DummyClassifier\n",
    "clf = DummyClassifier(strategy= 'most_frequent').fit(X_train,y_train)\n",
    "y_pred = clf.predict(X_test)\n",
    "\n",
    "#Distribution of y test\n",
    "print('y actual : \\n' +  str(y_test.value_counts()))\n",
    "\n",
    "#Distribution of y predicted\n",
    "print('y predicted : \\n' + str(pd.Series(y_pred).value_counts()))"
   ]
  },
  {
   "cell_type": "code",
   "execution_count": 48,
   "metadata": {},
   "outputs": [
    {
     "name": "stdout",
     "output_type": "stream",
     "text": [
      "Accuracy Score : 0.7840212198510157\n",
      "Precision Score : 0.0\n",
      "Recall Score : 0.0\n"
     ]
    },
    {
     "name": "stderr",
     "output_type": "stream",
     "text": [
      "C:\\Users\\const\\anaconda3\\lib\\site-packages\\sklearn\\metrics\\_classification.py:1272: UndefinedMetricWarning: Precision is ill-defined and being set to 0.0 due to no predicted samples. Use `zero_division` parameter to control this behavior.\n",
      "  _warn_prf(average, modifier, msg_start, len(result))\n"
     ]
    },
    {
     "name": "stdout",
     "output_type": "stream",
     "text": [
      "F1 Score : 0.0\n",
      "Confusion Matrix : \n",
      "[[161978      0]\n",
      " [ 44621      0]]\n"
     ]
    }
   ],
   "source": [
    "\n",
    "# Model Evaluation metrics \n",
    "from sklearn.metrics import accuracy_score,recall_score,precision_score,f1_score\n",
    "print('Accuracy Score : ' + str(accuracy_score(y_test,y_pred)))\n",
    "print('Precision Score : ' + str(precision_score(y_test,y_pred)))\n",
    "print('Recall Score : ' + str(recall_score(y_test,y_pred)))\n",
    "print('F1 Score : ' + str(f1_score(y_test,y_pred)))\n",
    "\n",
    "#Dummy Classifier Confusion matrix\n",
    "from sklearn.metrics import confusion_matrix\n",
    "print('Confusion Matrix : \\n' + str(confusion_matrix(y_test,y_pred)))"
   ]
  },
  {
   "cell_type": "code",
   "execution_count": 49,
   "metadata": {},
   "outputs": [
    {
     "name": "stdout",
     "output_type": "stream",
     "text": [
      "Accuracy Score : 0.7840115392620487\n",
      "Precision Score : 0.375\n",
      "Recall Score : 6.723291723627888e-05\n",
      "F1 Score : 0.0001344417307132134\n",
      "Confusion Matrix : \n",
      "[[161973      5]\n",
      " [ 44618      3]]\n"
     ]
    }
   ],
   "source": [
    "clf = LogisticRegression().fit(X_train,y_train)\n",
    "y_pred = clf.predict(X_test)\n",
    "\n",
    "# Model Evaluation metrics \n",
    "from sklearn.metrics import accuracy_score,recall_score,precision_score,f1_score\n",
    "print('Accuracy Score : ' + str(accuracy_score(y_test,y_pred)))\n",
    "print('Precision Score : ' + str(precision_score(y_test,y_pred)))\n",
    "print('Recall Score : ' + str(recall_score(y_test,y_pred)))\n",
    "print('F1 Score : ' + str(f1_score(y_test,y_pred)))\n",
    "\n",
    "#Logistic Regression Classifier Confusion matrix\n",
    "from sklearn.metrics import confusion_matrix\n",
    "print('Confusion Matrix : \\n' + str(confusion_matrix(y_test,y_pred)))"
   ]
  },
  {
   "cell_type": "code",
   "execution_count": null,
   "metadata": {},
   "outputs": [],
   "source": [
    "from sklearn.model_selection import GridSearchCV"
   ]
  },
  {
   "cell_type": "code",
   "execution_count": null,
   "metadata": {},
   "outputs": [],
   "source": [
    "import math\n",
    "import pandas\n",
    "from sklearn.preprocessing import MinMaxScaler\n",
    "from sklearn.svm import SVR\n",
    "from sklearn.model_selection import GridSearchCV, cross_validate\n",
    "from sklearn.utils import shuffle"
   ]
  },
  {
   "cell_type": "code",
   "execution_count": null,
   "metadata": {},
   "outputs": [],
   "source": [
    "def svr_model(X, y):\n",
    "    gsc = GridSearchCV(\n",
    "        estimator=SVR(kernel='rbf'),\n",
    "        param_grid={\n",
    "            'C': [0.1, 1, 100, 1000],\n",
    "            'epsilon': [0.0001, 0.0005, 0.001, 0.005, 0.01, 0.05, 0.1, 0.5, 1, 5, 10],\n",
    "            'gamma': [0.0001, 0.001, 0.005, 0.1, 1, 3, 5]\n",
    "        },\n",
    "        cv=5, scoring='neg_mean_squared_error', verbose=0, n_jobs=-1)\n",
    "\n",
    "    grid_result = gsc.fit(X, y)\n",
    "    best_params = grid_result.best_params_\n",
    "    best_svr = SVR(kernel='rbf', C=best_params[\"C\"], epsilon=best_params[\"epsilon\"], gamma=best_params[\"gamma\"],\n",
    "                   coef0=0.1, shrinking=True,\n",
    "                   tol=0.001, cache_size=200, verbose=False, max_iter=-1)\n",
    "\n",
    "    scoring = {\n",
    "               'abs_error': 'neg_mean_absolute_error',\n",
    "               'squared_error': 'neg_mean_squared_error'}\n",
    "\n",
    "    scores = cross_validate(best_svr, X, y, cv=10, scoring=scoring, return_train_score=True)\n",
    "    return \"MAE :\", abs(scores['test_abs_error'].mean()), \"| RMSE :\", math.sqrt(abs(scores['test_squared_error'].mean()))"
   ]
  },
  {
   "cell_type": "code",
   "execution_count": null,
   "metadata": {},
   "outputs": [],
   "source": [
    "svr_model(X,y)"
   ]
  },
  {
   "cell_type": "markdown",
   "metadata": {},
   "source": [
    "#### Predict using testset:"
   ]
  },
  {
   "cell_type": "code",
   "execution_count": null,
   "metadata": {},
   "outputs": [],
   "source": [
    "yhat = LR.predict(X_test)\n",
    "yhat"
   ]
  },
  {
   "cell_type": "markdown",
   "metadata": {},
   "source": [
    "#### predict_proba returns estimates for all classes"
   ]
  },
  {
   "cell_type": "code",
   "execution_count": null,
   "metadata": {},
   "outputs": [],
   "source": [
    "yhat_prob = LR.predict_proba(X_test)\n",
    "yhat_prob"
   ]
  },
  {
   "cell_type": "code",
   "execution_count": null,
   "metadata": {},
   "outputs": [],
   "source": [
    "y_pred = LR.predict(X_test)\n",
    "print('Accuracy of logistic regression classifier on test set: {:.2f}'.format(LR.score(X_test, y_test)))"
   ]
  },
  {
   "cell_type": "markdown",
   "metadata": {},
   "source": [
    "## K - NEAREST NEIGHBOR"
   ]
  },
  {
   "cell_type": "code",
   "execution_count": null,
   "metadata": {},
   "outputs": [],
   "source": [
    "from sklearn.neighbors import KNeighborsClassifier\n",
    "import matplotlib.pyplot as plt"
   ]
  },
  {
   "cell_type": "markdown",
   "metadata": {},
   "source": [
    "#### training"
   ]
  },
  {
   "cell_type": "code",
   "execution_count": null,
   "metadata": {},
   "outputs": [],
   "source": [
    "K=100\n",
    "\n",
    "neigh = KNeighborsClassifier(n_neighbors=K).fit(X_train,y_train)\n",
    "neigh"
   ]
  },
  {
   "cell_type": "markdown",
   "metadata": {},
   "source": [
    "#### Predicting"
   ]
  },
  {
   "cell_type": "code",
   "execution_count": null,
   "metadata": {},
   "outputs": [],
   "source": [
    "yhat=neigh.predict(X_test)\n",
    "yhat[0:5]"
   ]
  },
  {
   "cell_type": "markdown",
   "metadata": {},
   "source": [
    "#### Accuracy Evaluation"
   ]
  },
  {
   "cell_type": "code",
   "execution_count": null,
   "metadata": {},
   "outputs": [],
   "source": [
    "from sklearn import metrics"
   ]
  },
  {
   "cell_type": "code",
   "execution_count": null,
   "metadata": {},
   "outputs": [],
   "source": [
    "from sklearn import metrics\n",
    "\n",
    "print(\"Train set Accuracy: \", metrics.accuracy_score(y_train, neigh.predict(X_train)))\n",
    "print(\"Test set Accuracy: \", metrics.accuracy_score(y_test, neigh.predict(X_test)))"
   ]
  },
  {
   "cell_type": "markdown",
   "metadata": {},
   "source": [
    "**How to choose right K**"
   ]
  },
  {
   "cell_type": "code",
   "execution_count": null,
   "metadata": {},
   "outputs": [],
   "source": [
    "ks=25\n",
    "mean_acc = np.zeros((ks-1))\n",
    "std_acc = np.zeros((ks-1))\n",
    "ConfusionMatrix=[]\n",
    "\n",
    "for n in range(1,ks):\n",
    "    #Train Model and Ppredict\n",
    "    neigh = KNeighborsClassifier(n_neighbors=n).fit(X_train, y_train)\n",
    "    yhat=neigh.predict(X_test)\n",
    "    mean_acc[n-1] = metrics.accuracy_score(y_test, yhat)\n",
    "    \n",
    "    std_acc[n-1]=np.std(yhat == y_test)/np.sqrt(yhat.shape[0])\n",
    "    \n",
    "mean_acc"
   ]
  },
  {
   "cell_type": "code",
   "execution_count": null,
   "metadata": {},
   "outputs": [],
   "source": [
    "plt.plot(range(1,ks),mean_acc,'g')\n",
    "plt.fill_between(range(1,ks),mean_acc - 1 * std_acc,mean_acc + 1 * std_acc, alpha=0.10)\n",
    "plt.legend(('Accuracy ', '+/- 3xstd'))\n",
    "plt.ylabel('Accuracy ')\n",
    "plt.xlabel('Number of Nabors (K)')\n",
    "plt.tight_layout()\n",
    "plt.show()"
   ]
  },
  {
   "cell_type": "code",
   "execution_count": null,
   "metadata": {},
   "outputs": [],
   "source": [
    "print( \"The best accuracy was with\", mean_acc.max(), \"with k=\", mean_acc.argmax()+1) "
   ]
  },
  {
   "cell_type": "markdown",
   "metadata": {},
   "source": [
    "### In Conclusion\n",
    "I do not think that KNN algorithm makes the most sense in this case"
   ]
  },
  {
   "cell_type": "markdown",
   "metadata": {},
   "source": [
    "# SVM"
   ]
  },
  {
   "cell_type": "code",
   "execution_count": null,
   "metadata": {},
   "outputs": [],
   "source": [
    "Data.head()"
   ]
  },
  {
   "cell_type": "code",
   "execution_count": null,
   "metadata": {},
   "outputs": [],
   "source": [
    "Data.dtypes"
   ]
  },
  {
   "cell_type": "code",
   "execution_count": 11,
   "metadata": {},
   "outputs": [],
   "source": [
    "from sklearn import svm, datasets\n",
    "from sklearn.svm import SVC\n",
    "from sklearn.model_selection import GridSearchCV"
   ]
  },
  {
   "cell_type": "code",
   "execution_count": 13,
   "metadata": {},
   "outputs": [],
   "source": [
    "parameters = {'kernel':('linear','rbf'), 'gamma':[1,0.1,0.01,0.001],\n",
    "              'C':[0.1,1,10,100]}\n",
    "grid = GridSearchCV(SVC(),parameters, refit=True,verbose=10, n_jobs=2)"
   ]
  },
  {
   "cell_type": "code",
   "execution_count": null,
   "metadata": {},
   "outputs": [],
   "source": [
    "from tqdm import tqdm\n",
    "\n",
    "tqdm.pandas(desc=\"My progressbar\")"
   ]
  },
  {
   "cell_type": "code",
   "execution_count": null,
   "metadata": {},
   "outputs": [
    {
     "name": "stdout",
     "output_type": "stream",
     "text": [
      "Fitting 5 folds for each of 32 candidates, totalling 160 fits\n"
     ]
    },
    {
     "name": "stderr",
     "output_type": "stream",
     "text": [
      "[Parallel(n_jobs=2)]: Using backend LokyBackend with 2 concurrent workers.\n",
      "[Parallel(n_jobs=2)]: Done   1 tasks      | elapsed: 22.3min\n",
      "[Parallel(n_jobs=2)]: Done   4 tasks      | elapsed: 51.0min\n",
      "[Parallel(n_jobs=2)]: Done   9 tasks      | elapsed: 71.2min\n"
     ]
    }
   ],
   "source": [
    "grid.fit(X_train, y_train)"
   ]
  },
  {
   "cell_type": "markdown",
   "metadata": {},
   "source": [
    "fitting "
   ]
  },
  {
   "cell_type": "code",
   "execution_count": null,
   "metadata": {},
   "outputs": [],
   "source": [
    "grid.fit(Data_x, MergedDF['HEAT_HOT_WATER'])"
   ]
  },
  {
   "cell_type": "markdown",
   "metadata": {},
   "source": [
    "## Evaluation"
   ]
  },
  {
   "cell_type": "code",
   "execution_count": null,
   "metadata": {},
   "outputs": [],
   "source": [
    "yhat = clf.predict(X_test)\n",
    "yhat [0:5]"
   ]
  },
  {
   "cell_type": "code",
   "execution_count": null,
   "metadata": {},
   "outputs": [],
   "source": [
    "from sklearn.metrics import classification_report, confusion_matrix\n",
    "import itertools"
   ]
  },
  {
   "cell_type": "code",
   "execution_count": null,
   "metadata": {},
   "outputs": [],
   "source": [
    "from sklearn.metrics import f1_score\n",
    "f1_score(y_test, yhat, average='weighted') "
   ]
  },
  {
   "cell_type": "code",
   "execution_count": null,
   "metadata": {},
   "outputs": [],
   "source": [
    "from sklearn.metrics import jaccard_similarity_score\n",
    "jaccard_similarity_score(y_test, yhat)"
   ]
  },
  {
   "cell_type": "code",
   "execution_count": null,
   "metadata": {},
   "outputs": [],
   "source": [
    "accuracy = metrics.accuracy_score(y_test,yhat)*100\n",
    "accuracy"
   ]
  },
  {
   "cell_type": "markdown",
   "metadata": {},
   "source": [
    "# Random Forest"
   ]
  },
  {
   "cell_type": "code",
   "execution_count": null,
   "metadata": {},
   "outputs": [],
   "source": [
    "feature_list = list(Data)"
   ]
  },
  {
   "cell_type": "code",
   "execution_count": null,
   "metadata": {},
   "outputs": [],
   "source": [
    "from sklearn.ensemble import RandomForestRegressor\n",
    "\n",
    "# Instantiate model with 1000 decision trees\n",
    "rf = RandomForestRegressor(n_estimators = 1000, random_state=42)\n",
    "\n",
    "#Train the model on training data\n",
    "rf.fit(X_train, y_train)"
   ]
  },
  {
   "cell_type": "code",
   "execution_count": 63,
   "metadata": {},
   "outputs": [
    {
     "data": {
      "text/plain": [
       "RandomForestClassifier(bootstrap=True, ccp_alpha=0.0, class_weight=None,\n",
       "                       criterion='gini', max_depth=None, max_features='sqrt',\n",
       "                       max_leaf_nodes=None, max_samples=None,\n",
       "                       min_impurity_decrease=0.0, min_impurity_split=None,\n",
       "                       min_samples_leaf=1, min_samples_split=2,\n",
       "                       min_weight_fraction_leaf=0.0, n_estimators=100,\n",
       "                       n_jobs=None, oob_score=False, random_state=None,\n",
       "                       verbose=0, warm_start=False)"
      ]
     },
     "execution_count": 63,
     "metadata": {},
     "output_type": "execute_result"
    }
   ],
   "source": [
    "from sklearn.ensemble import RandomForestClassifier\n",
    "\n",
    "model = RandomForestClassifier(n_estimators=100,\n",
    "                              bootstrap =True,\n",
    "                              max_features = 'sqrt')\n",
    "\n",
    "model.fit(X_train, y_train)"
   ]
  },
  {
   "cell_type": "code",
   "execution_count": 64,
   "metadata": {},
   "outputs": [],
   "source": [
    "rf_pred = model.predict(X_test)\n",
    "rf_probs = model.predict_proba(X_test)[:,1]"
   ]
  },
  {
   "cell_type": "code",
   "execution_count": 65,
   "metadata": {},
   "outputs": [
    {
     "name": "stdout",
     "output_type": "stream",
     "text": [
      "this is the roc value:  0.4672526083369931\n"
     ]
    }
   ],
   "source": [
    "from sklearn.metrics import roc_auc_score\n",
    "\n",
    "roc_value = roc_auc_score(y_test, rf_probs)\n",
    "print(\"this is the roc value: \", roc_value)"
   ]
  },
  {
   "cell_type": "code",
   "execution_count": 66,
   "metadata": {},
   "outputs": [
    {
     "name": "stdout",
     "output_type": "stream",
     "text": [
      "Mean Absolute Error:  0.25 degrees.\n"
     ]
    }
   ],
   "source": [
    "#Use the forest's predict method on the test data\n",
    "predictions = model.predict(X_test)\n",
    "\n",
    "#Calculate the absolute errors\n",
    "errors = abs(predictions - y_test)\n",
    "\n",
    "# Print out the mean absolute error (MAE)\n",
    "print(\"Mean Absolute Error: \",round(np.mean(errors),2),\n",
    "     'degrees.')"
   ]
  },
  {
   "cell_type": "markdown",
   "metadata": {},
   "source": [
    "# XGBOOST"
   ]
  },
  {
   "cell_type": "code",
   "execution_count": 51,
   "metadata": {},
   "outputs": [
    {
     "name": "stdout",
     "output_type": "stream",
     "text": [
      "Collecting xgboost\n",
      "  Downloading xgboost-1.1.1-py3-none-win_amd64.whl (54.4 MB)\n",
      "Requirement already satisfied: numpy in c:\\users\\const\\anaconda3\\lib\\site-packages (from xgboost) (1.18.1)\n",
      "Requirement already satisfied: scipy in c:\\users\\const\\anaconda3\\lib\\site-packages (from xgboost) (1.4.1)\n",
      "Installing collected packages: xgboost\n",
      "Successfully installed xgboost-1.1.1\n"
     ]
    }
   ],
   "source": [
    "!pip install xgboost"
   ]
  },
  {
   "cell_type": "code",
   "execution_count": 52,
   "metadata": {},
   "outputs": [],
   "source": [
    "from sklearn import svm, datasets\n",
    "from sklearn.svm import SVC\n",
    "from sklearn.model_selection import GridSearchCV\n",
    "from numpy import loadtxt\n",
    "from xgboost import XGBClassifier"
   ]
  },
  {
   "cell_type": "code",
   "execution_count": 60,
   "metadata": {},
   "outputs": [],
   "source": [
    "# fit model no training data\n",
    "model = XGBClassifier(learning_rate=0.001,n_estimators=750,objective='binary:logistic')"
   ]
  },
  {
   "cell_type": "code",
   "execution_count": 55,
   "metadata": {},
   "outputs": [],
   "source": [
    "parameters = {'gamma':[0.01,1],\n",
    "              'C':[0.01,1]}\n",
    "grid = GridSearchCV(model,parameters, refit=True,verbose=10, n_jobs=1)"
   ]
  },
  {
   "cell_type": "code",
   "execution_count": 61,
   "metadata": {},
   "outputs": [
    {
     "data": {
      "text/plain": [
       "XGBClassifier(base_score=0.5, booster='gbtree', colsample_bylevel=1,\n",
       "              colsample_bynode=1, colsample_bytree=1, gamma=0, gpu_id=-1,\n",
       "              importance_type='gain', interaction_constraints='',\n",
       "              learning_rate=0.001, max_delta_step=0, max_depth=6,\n",
       "              min_child_weight=1, missing=nan, monotone_constraints='()',\n",
       "              n_estimators=750, n_jobs=0, num_parallel_tree=1,\n",
       "              objective='binary:logistic', random_state=0, reg_alpha=0,\n",
       "              reg_lambda=1, scale_pos_weight=1, subsample=1,\n",
       "              tree_method='exact', validate_parameters=1, verbosity=None)"
      ]
     },
     "execution_count": 61,
     "metadata": {},
     "output_type": "execute_result"
    }
   ],
   "source": [
    "# fit model no training data\n",
    "model.fit(X_train, y_train)"
   ]
  },
  {
   "cell_type": "code",
   "execution_count": 62,
   "metadata": {},
   "outputs": [],
   "source": [
    "# make predictions for test data\n",
    "y_pred = model.predict(X_test)\n",
    "predictions = [round(value) for value in y_pred]"
   ]
  },
  {
   "cell_type": "code",
   "execution_count": 58,
   "metadata": {},
   "outputs": [
    {
     "name": "stdout",
     "output_type": "stream",
     "text": [
      "Accuracy: 78.41%\n"
     ]
    }
   ],
   "source": [
    "accuracy = accuracy_score(y_test, predictions)\n",
    "print(\"Accuracy: %.2f%%\" % (accuracy * 100.0))"
   ]
  },
  {
   "cell_type": "code",
   "execution_count": null,
   "metadata": {},
   "outputs": [],
   "source": []
  }
 ],
 "metadata": {
  "kernelspec": {
   "display_name": "Python 3",
   "language": "python",
   "name": "python3"
  },
  "language_info": {
   "codemirror_mode": {
    "name": "ipython",
    "version": 3
   },
   "file_extension": ".py",
   "mimetype": "text/x-python",
   "name": "python",
   "nbconvert_exporter": "python",
   "pygments_lexer": "ipython3",
   "version": "3.8.5"
  }
 },
 "nbformat": 4,
 "nbformat_minor": 4
}

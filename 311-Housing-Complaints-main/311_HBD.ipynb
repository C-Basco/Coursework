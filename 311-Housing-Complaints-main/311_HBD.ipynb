{
 "cells": [
  {
   "cell_type": "markdown",
   "metadata": {},
   "source": [
    "# Problem Satement\n",
    "\n",
    "The goal is to help The Department of Housing and Development manage 311 complaints that are not necessarily urgent. Large volumes of complaints are impacting the overall operations of the agency.\n",
    "\n",
    "The agency is looking to manage the large volume of complaints by answering the following quastions:\n",
    "\n",
    "1. Which type of complaint should be focused on \n",
    "2. Are there any particular boroughs that should be focused on due to this type of complaint\n",
    "3. Does the complaint type have any obvious relationships with characteristics of the buildings\n",
    "4. can we build a predictive model to be built for future prediciton of the complaint type"
   ]
  },
  {
   "cell_type": "code",
   "execution_count": null,
   "metadata": {},
   "outputs": [],
   "source": [
    "#if Folium Libraries don't Load\n",
    "# \"\"\"!conda install -c conda-forge folium=0.11.0 --yes \"\"\""
   ]
  },
  {
   "cell_type": "code",
   "execution_count": null,
   "metadata": {},
   "outputs": [],
   "source": [
    "# !pip install plotly.express"
   ]
  },
  {
   "cell_type": "code",
   "execution_count": 1,
   "metadata": {},
   "outputs": [],
   "source": [
    "import pandas as pd\n",
    "import json\n",
    "import math\n",
    "import plotly.express as px\n",
    "import numpy as np\n",
    "from sklearn import neighbors\n",
    "\n",
    "from folium import plugins\n",
    "\n",
    "from sklearn.cluster import KMeans\n",
    "from sklearn.decomposition import PCA\n",
    "\n",
    "import matplotlib.pyplot as plt\n",
    "import matplotlib.cm as cm\n",
    "import matplotlib.colors as colors\n",
    "\n",
    "import seaborn as sns"
   ]
  },
  {
   "cell_type": "markdown",
   "metadata": {},
   "source": [
    "## Load Data"
   ]
  },
  {
   "cell_type": "code",
   "execution_count": 2,
   "metadata": {},
   "outputs": [],
   "source": [
    "Orig_HBD = pd.read_csv(\"311_Service_Requests_from_2010_to_Present_min.csv\")"
   ]
  },
  {
   "cell_type": "code",
   "execution_count": 36,
   "metadata": {},
   "outputs": [
    {
     "data": {
      "text/plain": [
       "(6019843, 16)"
      ]
     },
     "execution_count": 36,
     "metadata": {},
     "output_type": "execute_result"
    }
   ],
   "source": [
    "Orig_HBD.shape"
   ]
  },
  {
   "cell_type": "markdown",
   "metadata": {},
   "source": [
    "We can see there is 6,019,843 samples and 16 features or columns"
   ]
  },
  {
   "cell_type": "markdown",
   "metadata": {},
   "source": [
    "### Column Descriptions\n",
    "\n",
    "**Uunique Key:** Uniques identifier of Service Requests(SR) in open dataset\n",
    "\n",
    "**Created Date:** Date SR was requested\n",
    "\n",
    "**Closed Date:** Date SR was closed by responding agency\n",
    "\n",
    "**Complaint Type:** This is the first lvl of hierarchy identifying the topic of the incident or condition. May have corresponding descriptor or not.\n",
    "\n",
    "**Location Type:** Describes the type of location used in the address information.\n",
    "\n",
    "**Incident Zip:** Zip code, provided by geo validation.\n",
    "\n",
    "**Incident Address:** House number of incident address provided by submitter.\n",
    "\n",
    "**Street Name:** Street name of incident.\n",
    "\n",
    "**Address Type:** The type of incident location information available.\n",
    "\n",
    "**City:** City of the incident.\n",
    "\n",
    "**Status:** Status of SR submitted.\n",
    "\n",
    "**Resolution Description:** Describes last action taken on the SR by the responding agency. May describe next or future steps.\n",
    "\n",
    "**Borough:** Self described.\n",
    "\n",
    "**Latitude:** Self described.\n",
    "\n",
    "**Longitiude:** Self described."
   ]
  },
  {
   "cell_type": "code",
   "execution_count": 37,
   "metadata": {
    "collapsed": true
   },
   "outputs": [
    {
     "data": {
      "text/html": [
       "<div>\n",
       "<style scoped>\n",
       "    .dataframe tbody tr th:only-of-type {\n",
       "        vertical-align: middle;\n",
       "    }\n",
       "\n",
       "    .dataframe tbody tr th {\n",
       "        vertical-align: top;\n",
       "    }\n",
       "\n",
       "    .dataframe thead th {\n",
       "        text-align: right;\n",
       "    }\n",
       "</style>\n",
       "<table border=\"1\" class=\"dataframe\">\n",
       "  <thead>\n",
       "    <tr style=\"text-align: right;\">\n",
       "      <th></th>\n",
       "      <th>Unnamed: 0</th>\n",
       "      <th>Unique Key</th>\n",
       "      <th>Created Date</th>\n",
       "      <th>Closed Date</th>\n",
       "      <th>Complaint Type</th>\n",
       "      <th>Location Type</th>\n",
       "      <th>Incident Zip</th>\n",
       "      <th>Incident Address</th>\n",
       "      <th>Street Name</th>\n",
       "      <th>Address Type</th>\n",
       "      <th>City</th>\n",
       "      <th>Status</th>\n",
       "      <th>Resolution Description</th>\n",
       "      <th>Borough</th>\n",
       "      <th>Latitude</th>\n",
       "      <th>Longitude</th>\n",
       "    </tr>\n",
       "  </thead>\n",
       "  <tbody>\n",
       "    <tr>\n",
       "      <th>0</th>\n",
       "      <td>0</td>\n",
       "      <td>45531130</td>\n",
       "      <td>02/02/2020 06:09:17 AM</td>\n",
       "      <td>NaN</td>\n",
       "      <td>HEAT/HOT WATER</td>\n",
       "      <td>RESIDENTIAL BUILDING</td>\n",
       "      <td>10019.00</td>\n",
       "      <td>426 WEST   52 STREET</td>\n",
       "      <td>WEST   52 STREET</td>\n",
       "      <td>ADDRESS</td>\n",
       "      <td>NEW YORK</td>\n",
       "      <td>Open</td>\n",
       "      <td>The following complaint conditions are still o...</td>\n",
       "      <td>MANHATTAN</td>\n",
       "      <td>40.77</td>\n",
       "      <td>-73.99</td>\n",
       "    </tr>\n",
       "    <tr>\n",
       "      <th>1</th>\n",
       "      <td>1</td>\n",
       "      <td>45529784</td>\n",
       "      <td>02/02/2020 02:15:24 PM</td>\n",
       "      <td>NaN</td>\n",
       "      <td>UNSANITARY CONDITION</td>\n",
       "      <td>RESIDENTIAL BUILDING</td>\n",
       "      <td>11204.00</td>\n",
       "      <td>1751 67 STREET</td>\n",
       "      <td>67 STREET</td>\n",
       "      <td>ADDRESS</td>\n",
       "      <td>BROOKLYN</td>\n",
       "      <td>Open</td>\n",
       "      <td>The following complaint conditions are still o...</td>\n",
       "      <td>BROOKLYN</td>\n",
       "      <td>40.62</td>\n",
       "      <td>-73.99</td>\n",
       "    </tr>\n",
       "    <tr>\n",
       "      <th>2</th>\n",
       "      <td>2</td>\n",
       "      <td>45527528</td>\n",
       "      <td>02/02/2020 02:27:41 AM</td>\n",
       "      <td>NaN</td>\n",
       "      <td>HEAT/HOT WATER</td>\n",
       "      <td>RESIDENTIAL BUILDING</td>\n",
       "      <td>11372.00</td>\n",
       "      <td>87-15 37 AVENUE</td>\n",
       "      <td>37 AVENUE</td>\n",
       "      <td>ADDRESS</td>\n",
       "      <td>Jackson Heights</td>\n",
       "      <td>Open</td>\n",
       "      <td>The following complaint conditions are still o...</td>\n",
       "      <td>QUEENS</td>\n",
       "      <td>40.75</td>\n",
       "      <td>-73.88</td>\n",
       "    </tr>\n",
       "    <tr>\n",
       "      <th>3</th>\n",
       "      <td>3</td>\n",
       "      <td>45530329</td>\n",
       "      <td>02/02/2020 12:13:18 PM</td>\n",
       "      <td>NaN</td>\n",
       "      <td>HEAT/HOT WATER</td>\n",
       "      <td>RESIDENTIAL BUILDING</td>\n",
       "      <td>10458.00</td>\n",
       "      <td>2405 SOUTHERN BOULEVARD</td>\n",
       "      <td>SOUTHERN BOULEVARD</td>\n",
       "      <td>ADDRESS</td>\n",
       "      <td>BRONX</td>\n",
       "      <td>Open</td>\n",
       "      <td>The following complaint conditions are still o...</td>\n",
       "      <td>BRONX</td>\n",
       "      <td>40.85</td>\n",
       "      <td>-73.88</td>\n",
       "    </tr>\n",
       "    <tr>\n",
       "      <th>4</th>\n",
       "      <td>4</td>\n",
       "      <td>45528814</td>\n",
       "      <td>02/02/2020 01:59:44 PM</td>\n",
       "      <td>NaN</td>\n",
       "      <td>APPLIANCE</td>\n",
       "      <td>RESIDENTIAL BUILDING</td>\n",
       "      <td>11209.00</td>\n",
       "      <td>223 78 STREET</td>\n",
       "      <td>78 STREET</td>\n",
       "      <td>ADDRESS</td>\n",
       "      <td>BROOKLYN</td>\n",
       "      <td>Open</td>\n",
       "      <td>The following complaint conditions are still o...</td>\n",
       "      <td>BROOKLYN</td>\n",
       "      <td>40.63</td>\n",
       "      <td>-74.03</td>\n",
       "    </tr>\n",
       "  </tbody>\n",
       "</table>\n",
       "</div>"
      ],
      "text/plain": [
       "   Unnamed: 0  Unique Key            Created Date Closed Date  \\\n",
       "0           0    45531130  02/02/2020 06:09:17 AM         NaN   \n",
       "1           1    45529784  02/02/2020 02:15:24 PM         NaN   \n",
       "2           2    45527528  02/02/2020 02:27:41 AM         NaN   \n",
       "3           3    45530329  02/02/2020 12:13:18 PM         NaN   \n",
       "4           4    45528814  02/02/2020 01:59:44 PM         NaN   \n",
       "\n",
       "         Complaint Type         Location Type  Incident Zip  \\\n",
       "0        HEAT/HOT WATER  RESIDENTIAL BUILDING      10019.00   \n",
       "1  UNSANITARY CONDITION  RESIDENTIAL BUILDING      11204.00   \n",
       "2        HEAT/HOT WATER  RESIDENTIAL BUILDING      11372.00   \n",
       "3        HEAT/HOT WATER  RESIDENTIAL BUILDING      10458.00   \n",
       "4             APPLIANCE  RESIDENTIAL BUILDING      11209.00   \n",
       "\n",
       "          Incident Address         Street Name Address Type             City  \\\n",
       "0     426 WEST   52 STREET    WEST   52 STREET      ADDRESS         NEW YORK   \n",
       "1           1751 67 STREET           67 STREET      ADDRESS         BROOKLYN   \n",
       "2          87-15 37 AVENUE           37 AVENUE      ADDRESS  Jackson Heights   \n",
       "3  2405 SOUTHERN BOULEVARD  SOUTHERN BOULEVARD      ADDRESS            BRONX   \n",
       "4            223 78 STREET           78 STREET      ADDRESS         BROOKLYN   \n",
       "\n",
       "  Status                             Resolution Description    Borough  \\\n",
       "0   Open  The following complaint conditions are still o...  MANHATTAN   \n",
       "1   Open  The following complaint conditions are still o...   BROOKLYN   \n",
       "2   Open  The following complaint conditions are still o...     QUEENS   \n",
       "3   Open  The following complaint conditions are still o...      BRONX   \n",
       "4   Open  The following complaint conditions are still o...   BROOKLYN   \n",
       "\n",
       "   Latitude  Longitude  \n",
       "0     40.77     -73.99  \n",
       "1     40.62     -73.99  \n",
       "2     40.75     -73.88  \n",
       "3     40.85     -73.88  \n",
       "4     40.63     -74.03  "
      ]
     },
     "execution_count": 37,
     "metadata": {},
     "output_type": "execute_result"
    }
   ],
   "source": [
    "Orig_HBD.head()"
   ]
  },
  {
   "cell_type": "markdown",
   "metadata": {},
   "source": [
    "Off the bat we saee there are some missing data in the `Closed Date` column."
   ]
  },
  {
   "cell_type": "code",
   "execution_count": 38,
   "metadata": {},
   "outputs": [
    {
     "data": {
      "text/plain": [
       "Unnamed: 0                     0\n",
       "Unique Key                     0\n",
       "Created Date                   0\n",
       "Closed Date               126657\n",
       "Complaint Type                 0\n",
       "Location Type              52824\n",
       "Incident Zip               80697\n",
       "Incident Address           52825\n",
       "Street Name                52825\n",
       "Address Type               84765\n",
       "City                       80274\n",
       "Status                         0\n",
       "Resolution Description      7826\n",
       "Borough                        0\n",
       "Latitude                   80671\n",
       "Longitude                  80671\n",
       "dtype: int64"
      ]
     },
     "execution_count": 38,
     "metadata": {},
     "output_type": "execute_result"
    }
   ],
   "source": [
    "Na = Orig_HBD.isnull().sum()\n",
    "Na"
   ]
  },
  {
   "cell_type": "markdown",
   "metadata": {},
   "source": [
    "We will come back to the missing Data and right now focus on the two Features that are the focus of our attention: `Complaint Type` and `Borough` which have no missing data."
   ]
  },
  {
   "cell_type": "markdown",
   "metadata": {},
   "source": [
    "## Data PreProcessing and Selection"
   ]
  },
  {
   "cell_type": "markdown",
   "metadata": {},
   "source": [
    "I'm going to create another dataframe with the columns the will be usefull in determining the Answer to Question 1: Which Complaint Type should the Agency focus on first.\n",
    "\n",
    "But first I'm going to rename the columns for simplicity sake."
   ]
  },
  {
   "cell_type": "code",
   "execution_count": 3,
   "metadata": {},
   "outputs": [],
   "source": [
    "HBD = Orig_HBD.rename(columns={'Complaint Type':'Complaint_Type', 'Incident Zip':'Incident_Zip',\n",
    "                               'Unique Key':'Unique_Key', 'Created Date':'Created_Date','Closed Date':'Closed_Date',\n",
    "                               'Location Type':'Location_Type','Address Type':'Address_Type', 'Street Name':'Street_Name'})"
   ]
  },
  {
   "cell_type": "markdown",
   "metadata": {},
   "source": [
    "#### Going to explore the `Complaint_Type` feature."
   ]
  },
  {
   "cell_type": "code",
   "execution_count": 4,
   "metadata": {},
   "outputs": [
    {
     "data": {
      "text/plain": [
       "HEAT/HOT WATER            1261574\n",
       "HEATING                    887850\n",
       "PLUMBING                   711130\n",
       "GENERAL CONSTRUCTION       500863\n",
       "UNSANITARY CONDITION       451643\n",
       "PAINT - PLASTER            361257\n",
       "PAINT/PLASTER              346438\n",
       "ELECTRIC                   307310\n",
       "NONCONST                   260890\n",
       "DOOR/WINDOW                205278\n",
       "WATER LEAK                 193631\n",
       "GENERAL                    151308\n",
       "FLOORING/STAIRS            137402\n",
       "APPLIANCE                  112831\n",
       "HPD Literature Request      52824\n",
       "SAFETY                      51529\n",
       "OUTSIDE BUILDING             7142\n",
       "ELEVATOR                     6725\n",
       "Unsanitary Condition         5499\n",
       "CONSTRUCTION                 5078\n",
       "General                      1163\n",
       "Safety                        424\n",
       "STRUCTURAL                     16\n",
       "Plumbing                       11\n",
       "AGENCY                          9\n",
       "VACANT APARTMENT                6\n",
       "Outside Building                6\n",
       "Appliance                       4\n",
       "Electric                        1\n",
       "Mold                            1\n",
       "Name: Complaint_Type, dtype: int64"
      ]
     },
     "execution_count": 4,
     "metadata": {},
     "output_type": "execute_result"
    }
   ],
   "source": [
    "HBD['Complaint_Type'].value_counts()"
   ]
  },
  {
   "cell_type": "markdown",
   "metadata": {},
   "source": [
    "We can see there are a couple of issues with the unique values found in the Complaint_Type column. First, there are duplicates in both Upper and Lower case. So we need to correct that in order to combine those two unique values. To do so I just used the `str.upper()` function."
   ]
  },
  {
   "cell_type": "code",
   "execution_count": 5,
   "metadata": {},
   "outputs": [],
   "source": [
    "HBD['Complaint_Type']=HBD['Complaint_Type'].str.upper()\n",
    "HBD.replace(\"PAINT - PLASTER\", \"PAINT/PLASTER\", inplace=True)"
   ]
  },
  {
   "cell_type": "code",
   "execution_count": 6,
   "metadata": {},
   "outputs": [
    {
     "data": {
      "text/plain": [
       "HEAT/HOT WATER            1261574\n",
       "HEATING                    887850\n",
       "PLUMBING                   711141\n",
       "PAINT/PLASTER              707695\n",
       "GENERAL CONSTRUCTION       500863\n",
       "UNSANITARY CONDITION       457142\n",
       "ELECTRIC                   307311\n",
       "NONCONST                   260890\n",
       "DOOR/WINDOW                205278\n",
       "WATER LEAK                 193631\n",
       "GENERAL                    152471\n",
       "FLOORING/STAIRS            137402\n",
       "APPLIANCE                  112835\n",
       "HPD LITERATURE REQUEST      52824\n",
       "SAFETY                      51953\n",
       "OUTSIDE BUILDING             7148\n",
       "ELEVATOR                     6725\n",
       "CONSTRUCTION                 5078\n",
       "STRUCTURAL                     16\n",
       "AGENCY                          9\n",
       "VACANT APARTMENT                6\n",
       "MOLD                            1\n",
       "Name: Complaint_Type, dtype: int64"
      ]
     },
     "execution_count": 6,
     "metadata": {},
     "output_type": "execute_result"
    }
   ],
   "source": [
    "HBD['Complaint_Type'].value_counts()"
   ]
  },
  {
   "cell_type": "markdown",
   "metadata": {},
   "source": [
    "#### Lets look at the top 5 Complaint Types."
   ]
  },
  {
   "cell_type": "code",
   "execution_count": 7,
   "metadata": {
    "scrolled": true
   },
   "outputs": [
    {
     "data": {
      "text/plain": [
       "HEAT/HOT WATER          1261574\n",
       "HEATING                  887850\n",
       "PLUMBING                 711141\n",
       "PAINT/PLASTER            707695\n",
       "GENERAL CONSTRUCTION     500863\n",
       "Name: Complaint_Type, dtype: int64"
      ]
     },
     "execution_count": 7,
     "metadata": {},
     "output_type": "execute_result"
    }
   ],
   "source": [
    "HBD['Complaint_Type'].value_counts().iloc[:5]"
   ]
  },
  {
   "cell_type": "code",
   "execution_count": 8,
   "metadata": {},
   "outputs": [
    {
     "data": {
      "text/plain": [
       "count            6019843\n",
       "unique                22\n",
       "top       HEAT/HOT WATER\n",
       "freq             1261574\n",
       "Name: Complaint_Type, dtype: object"
      ]
     },
     "execution_count": 8,
     "metadata": {},
     "output_type": "execute_result"
    }
   ],
   "source": [
    "HBD['Complaint_Type'].describe()"
   ]
  },
  {
   "cell_type": "markdown",
   "metadata": {},
   "source": [
    "It looks like the Complaint Type with the highest volume is HEAT/HOT WATER."
   ]
  },
  {
   "cell_type": "code",
   "execution_count": null,
   "metadata": {},
   "outputs": [],
   "source": [
    "#Convert to datetime\n",
    "HBD['Created_Date'] = pd.to_datetime(HBD['Created_Date'])"
   ]
  },
  {
   "cell_type": "markdown",
   "metadata": {},
   "source": [
    "#### Let's explore the data further and look at the difference of Complaint types over the years"
   ]
  },
  {
   "cell_type": "code",
   "execution_count": null,
   "metadata": {},
   "outputs": [],
   "source": [
    "Dates_14vCur = HBD[(HBD.Created_Date.dt.strftime(\"%Y\") >='2014')]"
   ]
  },
  {
   "cell_type": "code",
   "execution_count": null,
   "metadata": {},
   "outputs": [],
   "source": [
    "Dates_14vCur['Complaint_Type'].value_counts()"
   ]
  },
  {
   "cell_type": "code",
   "execution_count": null,
   "metadata": {},
   "outputs": [],
   "source": [
    "Dates_v13 = HBD[(HBD.Created_Date.dt.strftime(\"%Y\") <= '2013')]"
   ]
  },
  {
   "cell_type": "code",
   "execution_count": null,
   "metadata": {},
   "outputs": [],
   "source": [
    "Dates_v13['Complaint_Type'].value_counts()"
   ]
  },
  {
   "cell_type": "markdown",
   "metadata": {},
   "source": [
    "It seems some new complaint Types were added after 2014. Upon further research it appears HEATING has been converted to HEAT/HOT WATER so now we will merge those two unique types. "
   ]
  },
  {
   "cell_type": "code",
   "execution_count": 139,
   "metadata": {},
   "outputs": [],
   "source": [
    "HBD.replace(\"HEATING\", \"HEAT/HOT WATER\", inplace=True)\n",
    "\n",
    "## Save to csv\n",
    "HBD.to_csv('HBD_v1.csv')"
   ]
  },
  {
   "cell_type": "markdown",
   "metadata": {},
   "source": [
    "Lets look at the Cases that have been closed vs the cases that are open"
   ]
  },
  {
   "cell_type": "markdown",
   "metadata": {},
   "source": [
    "#### Closed Cases"
   ]
  },
  {
   "cell_type": "code",
   "execution_count": null,
   "metadata": {},
   "outputs": [],
   "source": [
    "import matplotlib as mpl\n",
    "import matplotlib.pyplot as plt"
   ]
  },
  {
   "cell_type": "markdown",
   "metadata": {},
   "source": [
    "Let's take a look again at those null counts"
   ]
  },
  {
   "cell_type": "code",
   "execution_count": null,
   "metadata": {},
   "outputs": [],
   "source": [
    "Na"
   ]
  },
  {
   "cell_type": "markdown",
   "metadata": {},
   "source": [
    "Looks like there is 126,657 samples with Null data in Closed_Date. So because open cases don't have closed dates these will be the cases that are open and samples with a closed date are cases that are closed"
   ]
  },
  {
   "cell_type": "code",
   "execution_count": null,
   "metadata": {},
   "outputs": [],
   "source": [
    "HBD_Closed = HBD.dropna(subset=[\"Closed_Date\"], axis=0)\n",
    "HBD_Closed['Complaint_Type'].value_counts()"
   ]
  },
  {
   "cell_type": "code",
   "execution_count": null,
   "metadata": {},
   "outputs": [],
   "source": [
    "pd.notna('Closed_Date')"
   ]
  },
  {
   "cell_type": "code",
   "execution_count": null,
   "metadata": {},
   "outputs": [],
   "source": [
    "HBD_Closed.Complaint_Type.value_counts().plot(kind='bar',\n",
    "                                             figsize=(10,5))"
   ]
  },
  {
   "cell_type": "code",
   "execution_count": null,
   "metadata": {},
   "outputs": [],
   "source": [
    "HBD_Open = HBD[(HBD['Closed_Date'].isnull())]\n",
    "HBD_Open['Complaint_Type'].value_counts()"
   ]
  },
  {
   "cell_type": "code",
   "execution_count": null,
   "metadata": {},
   "outputs": [],
   "source": [
    "HBD_Open.Complaint_Type.value_counts().plot(kind='bar', figsize=(10,5))"
   ]
  },
  {
   "cell_type": "markdown",
   "metadata": {},
   "source": [
    "So it look like the complaints that get tended to first are vastly different than the ones that are still open. \n",
    "\n",
    "But since the Problem Statement is focusing on Volume of complaints and not necessarily focusing on handling the current cases that are open, the complaint type we will be focusing on is HEAT/HOT WATER since it is has the largest volume by far. "
   ]
  },
  {
   "cell_type": "markdown",
   "metadata": {},
   "source": [
    "## Exploring  Complaint Type and Borough"
   ]
  },
  {
   "cell_type": "code",
   "execution_count": 9,
   "metadata": {},
   "outputs": [
    {
     "data": {
      "text/html": [
       "<div>\n",
       "<style scoped>\n",
       "    .dataframe tbody tr th:only-of-type {\n",
       "        vertical-align: middle;\n",
       "    }\n",
       "\n",
       "    .dataframe tbody tr th {\n",
       "        vertical-align: top;\n",
       "    }\n",
       "\n",
       "    .dataframe thead th {\n",
       "        text-align: right;\n",
       "    }\n",
       "</style>\n",
       "<table border=\"1\" class=\"dataframe\">\n",
       "  <thead>\n",
       "    <tr style=\"text-align: right;\">\n",
       "      <th></th>\n",
       "      <th>Unnamed: 0</th>\n",
       "      <th>Unique_Key</th>\n",
       "      <th>Created_Date</th>\n",
       "      <th>Closed_Date</th>\n",
       "      <th>Complaint_Type</th>\n",
       "      <th>Location_Type</th>\n",
       "      <th>Incident_Zip</th>\n",
       "      <th>Incident Address</th>\n",
       "      <th>Street_Name</th>\n",
       "      <th>Address_Type</th>\n",
       "      <th>City</th>\n",
       "      <th>Status</th>\n",
       "      <th>Resolution Description</th>\n",
       "      <th>Borough</th>\n",
       "      <th>Latitude</th>\n",
       "      <th>Longitude</th>\n",
       "    </tr>\n",
       "  </thead>\n",
       "  <tbody>\n",
       "    <tr>\n",
       "      <th>0</th>\n",
       "      <td>0</td>\n",
       "      <td>45531130</td>\n",
       "      <td>02/02/2020 06:09:17 AM</td>\n",
       "      <td>NaN</td>\n",
       "      <td>HEAT/HOT WATER</td>\n",
       "      <td>RESIDENTIAL BUILDING</td>\n",
       "      <td>10019.0</td>\n",
       "      <td>426 WEST   52 STREET</td>\n",
       "      <td>WEST   52 STREET</td>\n",
       "      <td>ADDRESS</td>\n",
       "      <td>NEW YORK</td>\n",
       "      <td>Open</td>\n",
       "      <td>The following complaint conditions are still o...</td>\n",
       "      <td>MANHATTAN</td>\n",
       "      <td>40.765132</td>\n",
       "      <td>-73.988993</td>\n",
       "    </tr>\n",
       "    <tr>\n",
       "      <th>2</th>\n",
       "      <td>2</td>\n",
       "      <td>45527528</td>\n",
       "      <td>02/02/2020 02:27:41 AM</td>\n",
       "      <td>NaN</td>\n",
       "      <td>HEAT/HOT WATER</td>\n",
       "      <td>RESIDENTIAL BUILDING</td>\n",
       "      <td>11372.0</td>\n",
       "      <td>87-15 37 AVENUE</td>\n",
       "      <td>37 AVENUE</td>\n",
       "      <td>ADDRESS</td>\n",
       "      <td>Jackson Heights</td>\n",
       "      <td>Open</td>\n",
       "      <td>The following complaint conditions are still o...</td>\n",
       "      <td>QUEENS</td>\n",
       "      <td>40.750269</td>\n",
       "      <td>-73.879432</td>\n",
       "    </tr>\n",
       "    <tr>\n",
       "      <th>3</th>\n",
       "      <td>3</td>\n",
       "      <td>45530329</td>\n",
       "      <td>02/02/2020 12:13:18 PM</td>\n",
       "      <td>NaN</td>\n",
       "      <td>HEAT/HOT WATER</td>\n",
       "      <td>RESIDENTIAL BUILDING</td>\n",
       "      <td>10458.0</td>\n",
       "      <td>2405 SOUTHERN BOULEVARD</td>\n",
       "      <td>SOUTHERN BOULEVARD</td>\n",
       "      <td>ADDRESS</td>\n",
       "      <td>BRONX</td>\n",
       "      <td>Open</td>\n",
       "      <td>The following complaint conditions are still o...</td>\n",
       "      <td>BRONX</td>\n",
       "      <td>40.853773</td>\n",
       "      <td>-73.881558</td>\n",
       "    </tr>\n",
       "    <tr>\n",
       "      <th>5</th>\n",
       "      <td>5</td>\n",
       "      <td>45530344</td>\n",
       "      <td>02/02/2020 07:52:08 AM</td>\n",
       "      <td>NaN</td>\n",
       "      <td>HEAT/HOT WATER</td>\n",
       "      <td>RESIDENTIAL BUILDING</td>\n",
       "      <td>10456.0</td>\n",
       "      <td>1131 MORRIS AVENUE</td>\n",
       "      <td>MORRIS AVENUE</td>\n",
       "      <td>ADDRESS</td>\n",
       "      <td>BRONX</td>\n",
       "      <td>Open</td>\n",
       "      <td>The following complaint conditions are still o...</td>\n",
       "      <td>BRONX</td>\n",
       "      <td>40.831381</td>\n",
       "      <td>-73.915218</td>\n",
       "    </tr>\n",
       "    <tr>\n",
       "      <th>7</th>\n",
       "      <td>7</td>\n",
       "      <td>45527939</td>\n",
       "      <td>02/02/2020 09:00:54 AM</td>\n",
       "      <td>NaN</td>\n",
       "      <td>HEAT/HOT WATER</td>\n",
       "      <td>RESIDENTIAL BUILDING</td>\n",
       "      <td>11372.0</td>\n",
       "      <td>37-20 81 STREET</td>\n",
       "      <td>81 STREET</td>\n",
       "      <td>ADDRESS</td>\n",
       "      <td>Jackson Heights</td>\n",
       "      <td>Open</td>\n",
       "      <td>The following complaint conditions are still o...</td>\n",
       "      <td>QUEENS</td>\n",
       "      <td>40.749320</td>\n",
       "      <td>-73.885190</td>\n",
       "    </tr>\n",
       "  </tbody>\n",
       "</table>\n",
       "</div>"
      ],
      "text/plain": [
       "   Unnamed: 0  Unique_Key            Created_Date Closed_Date  Complaint_Type  \\\n",
       "0           0    45531130  02/02/2020 06:09:17 AM         NaN  HEAT/HOT WATER   \n",
       "2           2    45527528  02/02/2020 02:27:41 AM         NaN  HEAT/HOT WATER   \n",
       "3           3    45530329  02/02/2020 12:13:18 PM         NaN  HEAT/HOT WATER   \n",
       "5           5    45530344  02/02/2020 07:52:08 AM         NaN  HEAT/HOT WATER   \n",
       "7           7    45527939  02/02/2020 09:00:54 AM         NaN  HEAT/HOT WATER   \n",
       "\n",
       "          Location_Type  Incident_Zip         Incident Address  \\\n",
       "0  RESIDENTIAL BUILDING       10019.0     426 WEST   52 STREET   \n",
       "2  RESIDENTIAL BUILDING       11372.0          87-15 37 AVENUE   \n",
       "3  RESIDENTIAL BUILDING       10458.0  2405 SOUTHERN BOULEVARD   \n",
       "5  RESIDENTIAL BUILDING       10456.0       1131 MORRIS AVENUE   \n",
       "7  RESIDENTIAL BUILDING       11372.0          37-20 81 STREET   \n",
       "\n",
       "          Street_Name Address_Type             City Status  \\\n",
       "0    WEST   52 STREET      ADDRESS         NEW YORK   Open   \n",
       "2           37 AVENUE      ADDRESS  Jackson Heights   Open   \n",
       "3  SOUTHERN BOULEVARD      ADDRESS            BRONX   Open   \n",
       "5       MORRIS AVENUE      ADDRESS            BRONX   Open   \n",
       "7           81 STREET      ADDRESS  Jackson Heights   Open   \n",
       "\n",
       "                              Resolution Description    Borough   Latitude  \\\n",
       "0  The following complaint conditions are still o...  MANHATTAN  40.765132   \n",
       "2  The following complaint conditions are still o...     QUEENS  40.750269   \n",
       "3  The following complaint conditions are still o...      BRONX  40.853773   \n",
       "5  The following complaint conditions are still o...      BRONX  40.831381   \n",
       "7  The following complaint conditions are still o...     QUEENS  40.749320   \n",
       "\n",
       "   Longitude  \n",
       "0 -73.988993  \n",
       "2 -73.879432  \n",
       "3 -73.881558  \n",
       "5 -73.915218  \n",
       "7 -73.885190  "
      ]
     },
     "execution_count": 9,
     "metadata": {},
     "output_type": "execute_result"
    }
   ],
   "source": [
    "HBD_Boro = HBD[(HBD['Complaint_Type'] == 'HEAT/HOT WATER')]\n",
    "HBD_Boro.head()"
   ]
  },
  {
   "cell_type": "code",
   "execution_count": 46,
   "metadata": {},
   "outputs": [
    {
     "data": {
      "text/plain": [
       "(1261574, 16)"
      ]
     },
     "execution_count": 46,
     "metadata": {},
     "output_type": "execute_result"
    }
   ],
   "source": [
    "HBD_Boro.shape"
   ]
  },
  {
   "cell_type": "markdown",
   "metadata": {},
   "source": [
    "#### Let's remove the columns that are not going to be useful as we explore the relationship between Complaint Type and Borough."
   ]
  },
  {
   "cell_type": "code",
   "execution_count": 10,
   "metadata": {},
   "outputs": [],
   "source": [
    "HBD_Boro = HBD_Boro.drop(['Unnamed: 0','Closed_Date','Location_Type',\n",
    "               'Status','Resolution Description','City','Address_Type'], axis=1)"
   ]
  },
  {
   "cell_type": "code",
   "execution_count": 11,
   "metadata": {},
   "outputs": [
    {
     "data": {
      "text/plain": [
       "Unique_Key             0\n",
       "Created_Date           0\n",
       "Complaint_Type         0\n",
       "Incident_Zip        7116\n",
       "Incident Address       0\n",
       "Street_Name            0\n",
       "Borough                0\n",
       "Latitude            7115\n",
       "Longitude           7115\n",
       "dtype: int64"
      ]
     },
     "execution_count": 11,
     "metadata": {},
     "output_type": "execute_result"
    }
   ],
   "source": [
    "HBD_Boro.isnull().sum()"
   ]
  },
  {
   "cell_type": "code",
   "execution_count": 12,
   "metadata": {},
   "outputs": [
    {
     "data": {
      "text/plain": [
       "BRONX            410853\n",
       "BROOKLYN         384523\n",
       "MANHATTAN        285526\n",
       "QUEENS           168318\n",
       "STATEN ISLAND     12353\n",
       "Unspecified           1\n",
       "Name: Borough, dtype: int64"
      ]
     },
     "execution_count": 12,
     "metadata": {},
     "output_type": "execute_result"
    }
   ],
   "source": [
    "HBD_Boro.Borough.value_counts()"
   ]
  },
  {
   "cell_type": "code",
   "execution_count": 13,
   "metadata": {},
   "outputs": [
    {
     "data": {
      "image/png": "[encoded data removed]",
      "text/plain": [
       "<Figure size 720x576 with 1 Axes>"
      ]
     },
     "metadata": {
      "needs_background": "light"
     },
     "output_type": "display_data"
    }
   ],
   "source": [
    "HBD_Boro.Borough.value_counts().plot(kind='bar', figsize=(10,8))\n",
    "#\n",
    "plt.xlabel('Boroughs')\n",
    "plt.ylabel('Counts')\n",
    "plt.title('Borough Frequency')\n",
    "#\n",
    "plt.show()"
   ]
  },
  {
   "cell_type": "code",
   "execution_count": 14,
   "metadata": {},
   "outputs": [
    {
     "data": {
      "text/plain": [
       "GRAND CONCOURSE    22287\n",
       "BROADWAY           15368\n",
       "ELMHURST AVENUE    11377\n",
       "OCEAN AVENUE       10110\n",
       "MORRIS AVENUE       9727\n",
       "Name: Street_Name, dtype: int64"
      ]
     },
     "execution_count": 14,
     "metadata": {},
     "output_type": "execute_result"
    }
   ],
   "source": [
    "HBD_Boro.Street_Name.value_counts().head()"
   ]
  },
  {
   "cell_type": "code",
   "execution_count": null,
   "metadata": {},
   "outputs": [],
   "source": [
    "HBD_Boro[HBD_Boro['Street_Name'] == 'GRAND CONCOURSE'].head()"
   ]
  },
  {
   "cell_type": "markdown",
   "metadata": {},
   "source": [
    "It looks like the Borough with the most frequent complaints is the BRONX and not suprisingly the top most Street Names that called in the complaints is also in the Bronx as well"
   ]
  },
  {
   "cell_type": "markdown",
   "metadata": {},
   "source": [
    "#### To VISUALIZE this I will map it out"
   ]
  },
  {
   "cell_type": "code",
   "execution_count": 50,
   "metadata": {},
   "outputs": [],
   "source": [
    "import folium"
   ]
  },
  {
   "cell_type": "code",
   "execution_count": 51,
   "metadata": {},
   "outputs": [],
   "source": [
    "# Create a map and display it\n",
    "def generateBaseMap(default_location=[40.71, -74.00], default_zoom_start=12):\n",
    "    nycmap = folium.Map(location=default_location, zoom_start=default_zoom_start)\n",
    "    return nycmap\n"
   ]
  },
  {
   "cell_type": "markdown",
   "metadata": {},
   "source": [
    "Now recall out missing data in this dataframe. Both Latitude and Longitude have missing data. Unfortunately we have no choice but to remove the missing data in order to map our occurances. "
   ]
  },
  {
   "cell_type": "code",
   "execution_count": 52,
   "metadata": {
    "scrolled": true
   },
   "outputs": [
    {
     "data": {
      "text/plain": [
       "Unique_Key          0\n",
       "Created_Date        0\n",
       "Complaint_Type      0\n",
       "Incident_Zip        1\n",
       "Incident Address    0\n",
       "Street_Name         0\n",
       "Borough             0\n",
       "Latitude            0\n",
       "Longitude           0\n",
       "dtype: int64"
      ]
     },
     "execution_count": 52,
     "metadata": {},
     "output_type": "execute_result"
    }
   ],
   "source": [
    "HBD_Boro = HBD_Boro.dropna(subset=[\"Latitude\"], axis=0)\n",
    "HBD_Boro = HBD_Boro.dropna(subset=['Longitude'],axis=0)\n",
    "HBD_Boro.isnull().sum()"
   ]
  },
  {
   "cell_type": "code",
   "execution_count": 53,
   "metadata": {
    "collapsed": true
   },
   "outputs": [
    {
     "ename": "AttributeError",
     "evalue": "'str' object has no attribute 'year'",
     "output_type": "error",
     "traceback": [
      "\u001b[1;31m---------------------------------------------------------------------------\u001b[0m",
      "\u001b[1;31mAttributeError\u001b[0m                            Traceback (most recent call last)",
      "\u001b[1;32m<ipython-input-53-1d69438a93ba>\u001b[0m in \u001b[0;36m<module>\u001b[1;34m\u001b[0m\n\u001b[1;32m----> 1\u001b[1;33m \u001b[0mnumber_of_occurances\u001b[0m \u001b[1;33m=\u001b[0m \u001b[0mpd\u001b[0m\u001b[1;33m.\u001b[0m\u001b[0mDataFrame\u001b[0m\u001b[1;33m(\u001b[0m\u001b[0mHBD_Boro\u001b[0m\u001b[1;33m.\u001b[0m\u001b[0mCreated_Date\u001b[0m\u001b[1;33m.\u001b[0m\u001b[0mapply\u001b[0m\u001b[1;33m(\u001b[0m\u001b[1;32mlambda\u001b[0m \u001b[0mx\u001b[0m\u001b[1;33m:\u001b[0m \u001b[0mx\u001b[0m\u001b[1;33m.\u001b[0m\u001b[0myear\u001b[0m\u001b[1;33m)\u001b[0m\u001b[1;33m)\u001b[0m\u001b[1;33m\u001b[0m\u001b[1;33m\u001b[0m\u001b[0m\n\u001b[0m\u001b[0;32m      2\u001b[0m \u001b[0mnumber_of_occurances\u001b[0m\u001b[1;33m.\u001b[0m\u001b[0mrename\u001b[0m\u001b[1;33m(\u001b[0m\u001b[0mcolumns\u001b[0m\u001b[1;33m=\u001b[0m\u001b[1;33m{\u001b[0m\u001b[1;34m\"Created_Date\"\u001b[0m\u001b[1;33m:\u001b[0m \u001b[1;34m\"Year_Created\"\u001b[0m\u001b[1;33m}\u001b[0m\u001b[1;33m,\u001b[0m \u001b[0minplace\u001b[0m\u001b[1;33m=\u001b[0m\u001b[1;32mTrue\u001b[0m\u001b[1;33m)\u001b[0m\u001b[1;33m\u001b[0m\u001b[1;33m\u001b[0m\u001b[0m\n\u001b[0;32m      3\u001b[0m \u001b[1;31m# number_of_occurances.reset_index(inplace=True)\u001b[0m\u001b[1;33m\u001b[0m\u001b[1;33m\u001b[0m\u001b[1;33m\u001b[0m\u001b[0m\n\u001b[0;32m      4\u001b[0m \u001b[0mnumber_of_occurances\u001b[0m\u001b[1;33m[\u001b[0m\u001b[1;34m'Count'\u001b[0m\u001b[1;33m]\u001b[0m \u001b[1;33m=\u001b[0m \u001b[1;36m1\u001b[0m\u001b[1;33m\u001b[0m\u001b[1;33m\u001b[0m\u001b[0m\n\u001b[0;32m      5\u001b[0m \u001b[0mnumber_of_occurances\u001b[0m\u001b[1;33m.\u001b[0m\u001b[0mhead\u001b[0m\u001b[1;33m(\u001b[0m\u001b[1;33m)\u001b[0m\u001b[1;33m\u001b[0m\u001b[1;33m\u001b[0m\u001b[0m\n",
      "\u001b[1;32m~\\anaconda3\\lib\\site-packages\\pandas\\core\\series.py\u001b[0m in \u001b[0;36mapply\u001b[1;34m(self, func, convert_dtype, args, **kwds)\u001b[0m\n\u001b[0;32m   3846\u001b[0m             \u001b[1;32melse\u001b[0m\u001b[1;33m:\u001b[0m\u001b[1;33m\u001b[0m\u001b[1;33m\u001b[0m\u001b[0m\n\u001b[0;32m   3847\u001b[0m                 \u001b[0mvalues\u001b[0m \u001b[1;33m=\u001b[0m \u001b[0mself\u001b[0m\u001b[1;33m.\u001b[0m\u001b[0mastype\u001b[0m\u001b[1;33m(\u001b[0m\u001b[0mobject\u001b[0m\u001b[1;33m)\u001b[0m\u001b[1;33m.\u001b[0m\u001b[0mvalues\u001b[0m\u001b[1;33m\u001b[0m\u001b[1;33m\u001b[0m\u001b[0m\n\u001b[1;32m-> 3848\u001b[1;33m                 \u001b[0mmapped\u001b[0m \u001b[1;33m=\u001b[0m \u001b[0mlib\u001b[0m\u001b[1;33m.\u001b[0m\u001b[0mmap_infer\u001b[0m\u001b[1;33m(\u001b[0m\u001b[0mvalues\u001b[0m\u001b[1;33m,\u001b[0m \u001b[0mf\u001b[0m\u001b[1;33m,\u001b[0m \u001b[0mconvert\u001b[0m\u001b[1;33m=\u001b[0m\u001b[0mconvert_dtype\u001b[0m\u001b[1;33m)\u001b[0m\u001b[1;33m\u001b[0m\u001b[1;33m\u001b[0m\u001b[0m\n\u001b[0m\u001b[0;32m   3849\u001b[0m \u001b[1;33m\u001b[0m\u001b[0m\n\u001b[0;32m   3850\u001b[0m         \u001b[1;32mif\u001b[0m \u001b[0mlen\u001b[0m\u001b[1;33m(\u001b[0m\u001b[0mmapped\u001b[0m\u001b[1;33m)\u001b[0m \u001b[1;32mand\u001b[0m \u001b[0misinstance\u001b[0m\u001b[1;33m(\u001b[0m\u001b[0mmapped\u001b[0m\u001b[1;33m[\u001b[0m\u001b[1;36m0\u001b[0m\u001b[1;33m]\u001b[0m\u001b[1;33m,\u001b[0m \u001b[0mSeries\u001b[0m\u001b[1;33m)\u001b[0m\u001b[1;33m:\u001b[0m\u001b[1;33m\u001b[0m\u001b[1;33m\u001b[0m\u001b[0m\n",
      "\u001b[1;32mpandas\\_libs\\lib.pyx\u001b[0m in \u001b[0;36mpandas._libs.lib.map_infer\u001b[1;34m()\u001b[0m\n",
      "\u001b[1;32m<ipython-input-53-1d69438a93ba>\u001b[0m in \u001b[0;36m<lambda>\u001b[1;34m(x)\u001b[0m\n\u001b[1;32m----> 1\u001b[1;33m \u001b[0mnumber_of_occurances\u001b[0m \u001b[1;33m=\u001b[0m \u001b[0mpd\u001b[0m\u001b[1;33m.\u001b[0m\u001b[0mDataFrame\u001b[0m\u001b[1;33m(\u001b[0m\u001b[0mHBD_Boro\u001b[0m\u001b[1;33m.\u001b[0m\u001b[0mCreated_Date\u001b[0m\u001b[1;33m.\u001b[0m\u001b[0mapply\u001b[0m\u001b[1;33m(\u001b[0m\u001b[1;32mlambda\u001b[0m \u001b[0mx\u001b[0m\u001b[1;33m:\u001b[0m \u001b[0mx\u001b[0m\u001b[1;33m.\u001b[0m\u001b[0myear\u001b[0m\u001b[1;33m)\u001b[0m\u001b[1;33m)\u001b[0m\u001b[1;33m\u001b[0m\u001b[1;33m\u001b[0m\u001b[0m\n\u001b[0m\u001b[0;32m      2\u001b[0m \u001b[0mnumber_of_occurances\u001b[0m\u001b[1;33m.\u001b[0m\u001b[0mrename\u001b[0m\u001b[1;33m(\u001b[0m\u001b[0mcolumns\u001b[0m\u001b[1;33m=\u001b[0m\u001b[1;33m{\u001b[0m\u001b[1;34m\"Created_Date\"\u001b[0m\u001b[1;33m:\u001b[0m \u001b[1;34m\"Year_Created\"\u001b[0m\u001b[1;33m}\u001b[0m\u001b[1;33m,\u001b[0m \u001b[0minplace\u001b[0m\u001b[1;33m=\u001b[0m\u001b[1;32mTrue\u001b[0m\u001b[1;33m)\u001b[0m\u001b[1;33m\u001b[0m\u001b[1;33m\u001b[0m\u001b[0m\n\u001b[0;32m      3\u001b[0m \u001b[1;31m# number_of_occurances.reset_index(inplace=True)\u001b[0m\u001b[1;33m\u001b[0m\u001b[1;33m\u001b[0m\u001b[1;33m\u001b[0m\u001b[0m\n\u001b[0;32m      4\u001b[0m \u001b[0mnumber_of_occurances\u001b[0m\u001b[1;33m[\u001b[0m\u001b[1;34m'Count'\u001b[0m\u001b[1;33m]\u001b[0m \u001b[1;33m=\u001b[0m \u001b[1;36m1\u001b[0m\u001b[1;33m\u001b[0m\u001b[1;33m\u001b[0m\u001b[0m\n\u001b[0;32m      5\u001b[0m \u001b[0mnumber_of_occurances\u001b[0m\u001b[1;33m.\u001b[0m\u001b[0mhead\u001b[0m\u001b[1;33m(\u001b[0m\u001b[1;33m)\u001b[0m\u001b[1;33m\u001b[0m\u001b[1;33m\u001b[0m\u001b[0m\n",
      "\u001b[1;31mAttributeError\u001b[0m: 'str' object has no attribute 'year'"
     ]
    }
   ],
   "source": [
    "number_of_occurances = pd.DataFrame(HBD_Boro.Created_Date.apply(lambda x: x.year))\n",
    "number_of_occurances.rename(columns={\"Created_Date\": \"Year_Created\"}, inplace=True)\n",
    "# number_of_occurances.reset_index(inplace=True)\n",
    "number_of_occurances['Count'] = 1\n",
    "number_of_occurances.head()"
   ]
  },
  {
   "cell_type": "code",
   "execution_count": null,
   "metadata": {},
   "outputs": [],
   "source": [
    "number_of_occurances = number_of_occurances.join(HBD_Boro)\n",
    "number_of_occurances.head()"
   ]
  },
  {
   "cell_type": "code",
   "execution_count": null,
   "metadata": {},
   "outputs": [],
   "source": [
    "from folium.plugins import HeatMap\n",
    "nyc_map = generateBaseMap()\n",
    "HeatMap(data=number_of_occurances[['Latitude', 'Longitude','Count']].groupby(['Latitude','Longitude']).sum().reset_index().values.tolist(),\n",
    "                                                                                                                        radius=8,max_zoom=13).add_to(nyc_map)"
   ]
  },
  {
   "cell_type": "code",
   "execution_count": null,
   "metadata": {},
   "outputs": [],
   "source": [
    "nyc_map"
   ]
  },
  {
   "cell_type": "code",
   "execution_count": null,
   "metadata": {},
   "outputs": [],
   "source": [
    "nyc_map.add_child(folium.ClickForMarker(popup='Potential Location'))"
   ]
  },
  {
   "cell_type": "markdown",
   "metadata": {},
   "source": [
    "Looking at the heat map we can see the areas of high concentration. Visually you can see theat the Bronx has the most consisting mapping of high concentration. \n",
    "\n",
    "Now that we have selected the Complaint Type we will be focusing along with the Borough that requires the most attention we will now move on to explore these characteristics further"
   ]
  },
  {
   "cell_type": "markdown",
   "metadata": {},
   "source": [
    "# Identitfy Relationship between Building characteristics and Top Complaint Type"
   ]
  },
  {
   "cell_type": "markdown",
   "metadata": {},
   "source": [
    "We are going to load in the Pluto Dataset. This dataset contains tax lot data files for over seventy data fields derived from extracts of mainframe data files maintained by the Department of City Planning(DCP), Department of Finance(DOF),Department of Citywide Administrative Services(DCAS), and from information contained in Llandmarks Preservation Commision(LPC)publications and website"
   ]
  },
  {
   "cell_type": "markdown",
   "metadata": {},
   "source": [
    "## Data selection with Pluto"
   ]
  },
  {
   "cell_type": "code",
   "execution_count": 15,
   "metadata": {},
   "outputs": [
    {
     "name": "stderr",
     "output_type": "stream",
     "text": [
      "C:\\Users\\const\\anaconda3\\lib\\site-packages\\IPython\\core\\interactiveshell.py:3063: DtypeWarning: Columns (17,18,20,22,62) have mixed types.Specify dtype option on import or set low_memory=False.\n",
      "  interactivity=interactivity, compiler=compiler, result=result)\n"
     ]
    }
   ],
   "source": [
    "Orig_Pluto =pd.read_csv(\"pluto_20v3.csv\")"
   ]
  },
  {
   "cell_type": "code",
   "execution_count": 55,
   "metadata": {},
   "outputs": [
    {
     "data": {
      "text/plain": [
       "(858979, 90)"
      ]
     },
     "execution_count": 55,
     "metadata": {},
     "output_type": "execute_result"
    }
   ],
   "source": [
    "Orig_Pluto.shape"
   ]
  },
  {
   "cell_type": "markdown",
   "metadata": {},
   "source": [
    "We can see this dataset has 858,979 samples and 90 features. First off that's alot of features so we should investigate the Problem set to narrow those down. \n",
    "\n",
    "Since we are exploring the Bronx we will limit the data to reflect that. "
   ]
  },
  {
   "cell_type": "code",
   "execution_count": 16,
   "metadata": {},
   "outputs": [],
   "source": [
    "Pluto = Orig_Pluto[[\"address\",\"lot\",\"lotarea\",\"bldgarea\",\"resarea\",\"numbldgs\",\"numfloors\",\n",
    "                      \"bldgdepth\",\"yearbuilt\",\"builtfar\",\"residfar\",\"commfar\",\"facilfar\",\n",
    "                      \"xcoord\",\"ycoord\",\"latitude\",\"longitude\",\"yearalter1\",\n",
    "                      \"officearea\",\"retailarea\",\"zipcode\",\"borough\"]]"
   ]
  },
  {
   "cell_type": "code",
   "execution_count": 17,
   "metadata": {},
   "outputs": [
    {
     "data": {
      "text/plain": [
       "address         465\n",
       "lot               0\n",
       "lotarea         621\n",
       "bldgarea        474\n",
       "resarea       48030\n",
       "numbldgs        621\n",
       "numfloors       621\n",
       "bldgdepth       621\n",
       "yearbuilt       465\n",
       "builtfar        937\n",
       "residfar        465\n",
       "commfar         465\n",
       "facilfar        465\n",
       "xcoord         1419\n",
       "ycoord         1419\n",
       "latitude       1419\n",
       "longitude      1419\n",
       "yearalter1      465\n",
       "officearea    48030\n",
       "retailarea    48030\n",
       "zipcode        2037\n",
       "borough           0\n",
       "dtype: int64"
      ]
     },
     "execution_count": 17,
     "metadata": {},
     "output_type": "execute_result"
    }
   ],
   "source": [
    "Pluto.isnull().sum()"
   ]
  },
  {
   "cell_type": "markdown",
   "metadata": {},
   "source": [
    "Need to be able to calculate Age from difference in years so there is a couple of steps we have to take. \n",
    "\n",
    "    1. Drop NAs so can convert to int\n",
    "    2. Convert yearbuilt to int\n",
    "    3. Calculate differene"
   ]
  },
  {
   "cell_type": "code",
   "execution_count": 18,
   "metadata": {},
   "outputs": [],
   "source": [
    "Pluto = Pluto.dropna(subset=[\"yearbuilt\"], axis=0)"
   ]
  },
  {
   "cell_type": "code",
   "execution_count": 19,
   "metadata": {},
   "outputs": [
    {
     "data": {
      "text/plain": [
       "address        object\n",
       "lot             int64\n",
       "lotarea       float64\n",
       "bldgarea      float64\n",
       "resarea       float64\n",
       "numbldgs      float64\n",
       "numfloors     float64\n",
       "bldgdepth     float64\n",
       "yearbuilt     float64\n",
       "builtfar      float64\n",
       "residfar      float64\n",
       "commfar       float64\n",
       "facilfar      float64\n",
       "xcoord        float64\n",
       "ycoord        float64\n",
       "latitude      float64\n",
       "longitude     float64\n",
       "yearalter1    float64\n",
       "officearea    float64\n",
       "retailarea    float64\n",
       "zipcode       float64\n",
       "borough        object\n",
       "dtype: object"
      ]
     },
     "execution_count": 19,
     "metadata": {},
     "output_type": "execute_result"
    }
   ],
   "source": [
    "Pluto.dtypes"
   ]
  },
  {
   "cell_type": "markdown",
   "metadata": {},
   "source": [
    "There are also already some data type discrepencies that have to be attended to "
   ]
  },
  {
   "cell_type": "code",
   "execution_count": 20,
   "metadata": {},
   "outputs": [],
   "source": [
    "#Pluto['yearbuilt'] = pd.to_datetime(Pluto['yearbuilt'])\n",
    "#Pluto['yearalter1'] = pd.to_datetime(Pluto['yearalter1'])\n",
    "Pluto['yearbuilt'] =  Pluto['yearbuilt'].astype(\"int\")\n",
    "Pluto['yearalter1'] = Pluto['yearalter1'].astype(\"int\")\n",
    "    \n",
    "Pluto['zipcode'] = Pluto['zipcode'].astype(\"str\")\n",
    "Pluto['lot'] = Pluto['lot'].astype(\"float64\")"
   ]
  },
  {
   "cell_type": "code",
   "execution_count": 21,
   "metadata": {},
   "outputs": [],
   "source": [
    "# We dropped NAs but we are also going to drop 0s\n",
    "Pluto = Pluto[Pluto.yearbuilt != 0]\n",
    "\n",
    "Pluto[\"Age\"] = 2020 - Pluto[\"yearbuilt\"]"
   ]
  },
  {
   "cell_type": "markdown",
   "metadata": {},
   "source": [
    "Create new dataframe with the columns we are going to use"
   ]
  },
  {
   "cell_type": "code",
   "execution_count": 22,
   "metadata": {},
   "outputs": [
    {
     "data": {
      "text/html": [
       "<div>\n",
       "<style scoped>\n",
       "    .dataframe tbody tr th:only-of-type {\n",
       "        vertical-align: middle;\n",
       "    }\n",
       "\n",
       "    .dataframe tbody tr th {\n",
       "        vertical-align: top;\n",
       "    }\n",
       "\n",
       "    .dataframe thead th {\n",
       "        text-align: right;\n",
       "    }\n",
       "</style>\n",
       "<table border=\"1\" class=\"dataframe\">\n",
       "  <thead>\n",
       "    <tr style=\"text-align: right;\">\n",
       "      <th></th>\n",
       "      <th>address</th>\n",
       "      <th>lot</th>\n",
       "      <th>lotarea</th>\n",
       "      <th>bldgarea</th>\n",
       "      <th>resarea</th>\n",
       "      <th>numbldgs</th>\n",
       "      <th>numfloors</th>\n",
       "      <th>bldgdepth</th>\n",
       "      <th>yearbuilt</th>\n",
       "      <th>yearalter1</th>\n",
       "      <th>builtfar</th>\n",
       "      <th>residfar</th>\n",
       "      <th>commfar</th>\n",
       "      <th>facilfar</th>\n",
       "      <th>officearea</th>\n",
       "      <th>retailarea</th>\n",
       "      <th>zipcode</th>\n",
       "      <th>Age</th>\n",
       "      <th>borough</th>\n",
       "    </tr>\n",
       "  </thead>\n",
       "  <tbody>\n",
       "    <tr>\n",
       "      <th>0</th>\n",
       "      <td>JOE DIMAGGIO HIGHWAY</td>\n",
       "      <td>401.0</td>\n",
       "      <td>246896.0</td>\n",
       "      <td>0.0</td>\n",
       "      <td>NaN</td>\n",
       "      <td>0.0</td>\n",
       "      <td>0.00</td>\n",
       "      <td>0.0</td>\n",
       "      <td>1949</td>\n",
       "      <td>0</td>\n",
       "      <td>0.00</td>\n",
       "      <td>0.0</td>\n",
       "      <td>0.0</td>\n",
       "      <td>0.0</td>\n",
       "      <td>NaN</td>\n",
       "      <td>NaN</td>\n",
       "      <td>nan</td>\n",
       "      <td>71</td>\n",
       "      <td>MN</td>\n",
       "    </tr>\n",
       "    <tr>\n",
       "      <th>7</th>\n",
       "      <td>146 2 AVENUE</td>\n",
       "      <td>1.0</td>\n",
       "      <td>9412.0</td>\n",
       "      <td>37353.0</td>\n",
       "      <td>30153.0</td>\n",
       "      <td>5.0</td>\n",
       "      <td>5.00</td>\n",
       "      <td>86.0</td>\n",
       "      <td>1900</td>\n",
       "      <td>2001</td>\n",
       "      <td>3.97</td>\n",
       "      <td>4.0</td>\n",
       "      <td>0.0</td>\n",
       "      <td>4.0</td>\n",
       "      <td>0.0</td>\n",
       "      <td>7200.0</td>\n",
       "      <td>10003.0</td>\n",
       "      <td>120</td>\n",
       "      <td>MN</td>\n",
       "    </tr>\n",
       "    <tr>\n",
       "      <th>10</th>\n",
       "      <td>243 MORELAND STREET</td>\n",
       "      <td>30.0</td>\n",
       "      <td>2807.0</td>\n",
       "      <td>1770.0</td>\n",
       "      <td>1770.0</td>\n",
       "      <td>1.0</td>\n",
       "      <td>2.00</td>\n",
       "      <td>50.0</td>\n",
       "      <td>2019</td>\n",
       "      <td>0</td>\n",
       "      <td>0.63</td>\n",
       "      <td>0.5</td>\n",
       "      <td>0.0</td>\n",
       "      <td>1.0</td>\n",
       "      <td>0.0</td>\n",
       "      <td>0.0</td>\n",
       "      <td>10306.0</td>\n",
       "      <td>1</td>\n",
       "      <td>SI</td>\n",
       "    </tr>\n",
       "    <tr>\n",
       "      <th>12</th>\n",
       "      <td>454 BEACH 125 STREET</td>\n",
       "      <td>70.0</td>\n",
       "      <td>4000.0</td>\n",
       "      <td>1286.0</td>\n",
       "      <td>1286.0</td>\n",
       "      <td>1.0</td>\n",
       "      <td>1.67</td>\n",
       "      <td>36.0</td>\n",
       "      <td>1950</td>\n",
       "      <td>0</td>\n",
       "      <td>0.32</td>\n",
       "      <td>0.5</td>\n",
       "      <td>0.0</td>\n",
       "      <td>1.0</td>\n",
       "      <td>0.0</td>\n",
       "      <td>0.0</td>\n",
       "      <td>11694.0</td>\n",
       "      <td>70</td>\n",
       "      <td>QN</td>\n",
       "    </tr>\n",
       "    <tr>\n",
       "      <th>13</th>\n",
       "      <td>460 BEACH 125 STREET</td>\n",
       "      <td>72.0</td>\n",
       "      <td>5000.0</td>\n",
       "      <td>2352.0</td>\n",
       "      <td>1344.0</td>\n",
       "      <td>1.0</td>\n",
       "      <td>1.00</td>\n",
       "      <td>55.0</td>\n",
       "      <td>1970</td>\n",
       "      <td>0</td>\n",
       "      <td>0.47</td>\n",
       "      <td>0.5</td>\n",
       "      <td>0.0</td>\n",
       "      <td>1.0</td>\n",
       "      <td>0.0</td>\n",
       "      <td>0.0</td>\n",
       "      <td>11694.0</td>\n",
       "      <td>50</td>\n",
       "      <td>QN</td>\n",
       "    </tr>\n",
       "  </tbody>\n",
       "</table>\n",
       "</div>"
      ],
      "text/plain": [
       "                  address    lot   lotarea  bldgarea  resarea  numbldgs  \\\n",
       "0    JOE DIMAGGIO HIGHWAY  401.0  246896.0       0.0      NaN       0.0   \n",
       "7            146 2 AVENUE    1.0    9412.0   37353.0  30153.0       5.0   \n",
       "10    243 MORELAND STREET   30.0    2807.0    1770.0   1770.0       1.0   \n",
       "12   454 BEACH 125 STREET   70.0    4000.0    1286.0   1286.0       1.0   \n",
       "13   460 BEACH 125 STREET   72.0    5000.0    2352.0   1344.0       1.0   \n",
       "\n",
       "    numfloors  bldgdepth  yearbuilt  yearalter1  builtfar  residfar  commfar  \\\n",
       "0        0.00        0.0       1949           0      0.00       0.0      0.0   \n",
       "7        5.00       86.0       1900        2001      3.97       4.0      0.0   \n",
       "10       2.00       50.0       2019           0      0.63       0.5      0.0   \n",
       "12       1.67       36.0       1950           0      0.32       0.5      0.0   \n",
       "13       1.00       55.0       1970           0      0.47       0.5      0.0   \n",
       "\n",
       "    facilfar  officearea  retailarea  zipcode  Age borough  \n",
       "0        0.0         NaN         NaN      nan   71      MN  \n",
       "7        4.0         0.0      7200.0  10003.0  120      MN  \n",
       "10       1.0         0.0         0.0  10306.0    1      SI  \n",
       "12       1.0         0.0         0.0  11694.0   70      QN  \n",
       "13       1.0         0.0         0.0  11694.0   50      QN  "
      ]
     },
     "execution_count": 22,
     "metadata": {},
     "output_type": "execute_result"
    }
   ],
   "source": [
    "Pluto_v1 = Pluto[[\"address\",\"lot\",\"lotarea\",\"bldgarea\",\"resarea\",\"numbldgs\",\"numfloors\",\n",
    "                \"bldgdepth\",\"yearbuilt\",\"yearalter1\",\"builtfar\",\"residfar\",\"commfar\",\"facilfar\",\n",
    "                  \"officearea\",\"retailarea\",\"zipcode\",\"Age\", \"borough\"]]\n",
    "Pluto_v1.head()"
   ]
  },
  {
   "cell_type": "code",
   "execution_count": 33,
   "metadata": {},
   "outputs": [
    {
     "data": {
      "text/plain": [
       "(816441, 17)"
      ]
     },
     "execution_count": 33,
     "metadata": {},
     "output_type": "execute_result"
    }
   ],
   "source": [
    "Pluto_v1.shape"
   ]
  },
  {
   "cell_type": "code",
   "execution_count": 23,
   "metadata": {},
   "outputs": [
    {
     "data": {
      "text/plain": [
       "address          0\n",
       "lot              0\n",
       "lotarea          0\n",
       "bldgarea         2\n",
       "resarea       7137\n",
       "numbldgs         0\n",
       "numfloors        0\n",
       "bldgdepth        0\n",
       "yearbuilt        0\n",
       "yearalter1       0\n",
       "builtfar         9\n",
       "residfar         0\n",
       "commfar          0\n",
       "facilfar         0\n",
       "officearea    7137\n",
       "retailarea    7137\n",
       "zipcode          0\n",
       "Age              0\n",
       "borough          0\n",
       "dtype: int64"
      ]
     },
     "execution_count": 23,
     "metadata": {},
     "output_type": "execute_result"
    }
   ],
   "source": [
    "Pluto_v1.isnull().sum()"
   ]
  },
  {
   "cell_type": "markdown",
   "metadata": {},
   "source": [
    "So there are a decent amount of missing values. Since I will be merging data I want to minimize any problems that might occur from these missing values.\n",
    "\n",
    "We have two options to drop the missing values or to replace the missing values. The three largest missing values is ResArea, OfficeArea and RetailArea\n",
    "\n",
    "will replace the 0s with the mean of that column and nans so it will be **resarea, officearea, retailarea and builtfar** that we will replace NANs"
   ]
  },
  {
   "cell_type": "code",
   "execution_count": 13,
   "metadata": {},
   "outputs": [
    {
     "data": {
      "text/plain": [
       "Index(['address', 'lot', 'lotarea', 'bldgarea', 'resarea', 'numbldgs',\n",
       "       'numfloors', 'bldgdepth', 'yearbuilt', 'builtfar', 'residfar',\n",
       "       'commfar', 'facilfar', 'officearea', 'retailarea', 'zipcode', 'Age',\n",
       "       'Age_Alter', 'borough'],\n",
       "      dtype='object')"
      ]
     },
     "execution_count": 13,
     "metadata": {},
     "output_type": "execute_result"
    }
   ],
   "source": [
    "Pluto_v1.columns.unique()"
   ]
  },
  {
   "cell_type": "code",
   "execution_count": 127,
   "metadata": {},
   "outputs": [],
   "source": [
    "Pluto_v1.to_csv('Pluto_v1.csv')"
   ]
  },
  {
   "cell_type": "markdown",
   "metadata": {},
   "source": [
    "#### So no create new dataframe from the borough we will be focusing on"
   ]
  },
  {
   "cell_type": "code",
   "execution_count": 24,
   "metadata": {},
   "outputs": [],
   "source": [
    "Pluto_BX = Pluto_v1[(Pluto_v1['borough'] == 'BX')]"
   ]
  },
  {
   "cell_type": "code",
   "execution_count": 25,
   "metadata": {},
   "outputs": [
    {
     "data": {
      "text/html": [
       "<div>\n",
       "<style scoped>\n",
       "    .dataframe tbody tr th:only-of-type {\n",
       "        vertical-align: middle;\n",
       "    }\n",
       "\n",
       "    .dataframe tbody tr th {\n",
       "        vertical-align: top;\n",
       "    }\n",
       "\n",
       "    .dataframe thead th {\n",
       "        text-align: right;\n",
       "    }\n",
       "</style>\n",
       "<table border=\"1\" class=\"dataframe\">\n",
       "  <thead>\n",
       "    <tr style=\"text-align: right;\">\n",
       "      <th></th>\n",
       "      <th>address</th>\n",
       "      <th>lot</th>\n",
       "      <th>lotarea</th>\n",
       "      <th>bldgarea</th>\n",
       "      <th>resarea</th>\n",
       "      <th>numbldgs</th>\n",
       "      <th>numfloors</th>\n",
       "      <th>bldgdepth</th>\n",
       "      <th>yearbuilt</th>\n",
       "      <th>yearalter1</th>\n",
       "      <th>builtfar</th>\n",
       "      <th>residfar</th>\n",
       "      <th>commfar</th>\n",
       "      <th>facilfar</th>\n",
       "      <th>officearea</th>\n",
       "      <th>retailarea</th>\n",
       "      <th>zipcode</th>\n",
       "      <th>Age</th>\n",
       "      <th>borough</th>\n",
       "    </tr>\n",
       "  </thead>\n",
       "  <tbody>\n",
       "    <tr>\n",
       "      <th>138</th>\n",
       "      <td>1516 ASTOR AVENUE</td>\n",
       "      <td>27.0</td>\n",
       "      <td>3034.0</td>\n",
       "      <td>2660.0</td>\n",
       "      <td>2660.0</td>\n",
       "      <td>2.0</td>\n",
       "      <td>2.0</td>\n",
       "      <td>36.0</td>\n",
       "      <td>1945</td>\n",
       "      <td>0</td>\n",
       "      <td>0.88</td>\n",
       "      <td>0.75</td>\n",
       "      <td>0.0</td>\n",
       "      <td>2.0</td>\n",
       "      <td>0.0</td>\n",
       "      <td>0.0</td>\n",
       "      <td>10469.0</td>\n",
       "      <td>75</td>\n",
       "      <td>BX</td>\n",
       "    </tr>\n",
       "    <tr>\n",
       "      <th>156</th>\n",
       "      <td>2237 WOODHULL AVENUE</td>\n",
       "      <td>28.0</td>\n",
       "      <td>3208.0</td>\n",
       "      <td>1888.0</td>\n",
       "      <td>1392.0</td>\n",
       "      <td>1.0</td>\n",
       "      <td>1.5</td>\n",
       "      <td>31.0</td>\n",
       "      <td>1950</td>\n",
       "      <td>0</td>\n",
       "      <td>0.59</td>\n",
       "      <td>0.75</td>\n",
       "      <td>0.0</td>\n",
       "      <td>2.0</td>\n",
       "      <td>0.0</td>\n",
       "      <td>0.0</td>\n",
       "      <td>10469.0</td>\n",
       "      <td>70</td>\n",
       "      <td>BX</td>\n",
       "    </tr>\n",
       "    <tr>\n",
       "      <th>410</th>\n",
       "      <td>919 CRANFORD AVENUE</td>\n",
       "      <td>12.0</td>\n",
       "      <td>3000.0</td>\n",
       "      <td>2244.0</td>\n",
       "      <td>2244.0</td>\n",
       "      <td>2.0</td>\n",
       "      <td>2.0</td>\n",
       "      <td>51.0</td>\n",
       "      <td>1915</td>\n",
       "      <td>0</td>\n",
       "      <td>0.75</td>\n",
       "      <td>0.75</td>\n",
       "      <td>0.0</td>\n",
       "      <td>2.0</td>\n",
       "      <td>0.0</td>\n",
       "      <td>0.0</td>\n",
       "      <td>10466.0</td>\n",
       "      <td>105</td>\n",
       "      <td>BX</td>\n",
       "    </tr>\n",
       "    <tr>\n",
       "      <th>411</th>\n",
       "      <td>903 CRANFORD AVENUE</td>\n",
       "      <td>18.0</td>\n",
       "      <td>2700.0</td>\n",
       "      <td>1344.0</td>\n",
       "      <td>1344.0</td>\n",
       "      <td>2.0</td>\n",
       "      <td>2.5</td>\n",
       "      <td>38.0</td>\n",
       "      <td>1925</td>\n",
       "      <td>0</td>\n",
       "      <td>0.50</td>\n",
       "      <td>0.75</td>\n",
       "      <td>0.0</td>\n",
       "      <td>2.0</td>\n",
       "      <td>0.0</td>\n",
       "      <td>0.0</td>\n",
       "      <td>10466.0</td>\n",
       "      <td>95</td>\n",
       "      <td>BX</td>\n",
       "    </tr>\n",
       "    <tr>\n",
       "      <th>615</th>\n",
       "      <td>443 WEST 259 STREET</td>\n",
       "      <td>569.0</td>\n",
       "      <td>3242.0</td>\n",
       "      <td>1810.0</td>\n",
       "      <td>1810.0</td>\n",
       "      <td>1.0</td>\n",
       "      <td>2.5</td>\n",
       "      <td>35.0</td>\n",
       "      <td>1920</td>\n",
       "      <td>0</td>\n",
       "      <td>0.56</td>\n",
       "      <td>0.50</td>\n",
       "      <td>0.0</td>\n",
       "      <td>1.0</td>\n",
       "      <td>0.0</td>\n",
       "      <td>0.0</td>\n",
       "      <td>10471.0</td>\n",
       "      <td>100</td>\n",
       "      <td>BX</td>\n",
       "    </tr>\n",
       "  </tbody>\n",
       "</table>\n",
       "</div>"
      ],
      "text/plain": [
       "                  address    lot  lotarea  bldgarea  resarea  numbldgs  \\\n",
       "138     1516 ASTOR AVENUE   27.0   3034.0    2660.0   2660.0       2.0   \n",
       "156  2237 WOODHULL AVENUE   28.0   3208.0    1888.0   1392.0       1.0   \n",
       "410   919 CRANFORD AVENUE   12.0   3000.0    2244.0   2244.0       2.0   \n",
       "411   903 CRANFORD AVENUE   18.0   2700.0    1344.0   1344.0       2.0   \n",
       "615   443 WEST 259 STREET  569.0   3242.0    1810.0   1810.0       1.0   \n",
       "\n",
       "     numfloors  bldgdepth  yearbuilt  yearalter1  builtfar  residfar  commfar  \\\n",
       "138        2.0       36.0       1945           0      0.88      0.75      0.0   \n",
       "156        1.5       31.0       1950           0      0.59      0.75      0.0   \n",
       "410        2.0       51.0       1915           0      0.75      0.75      0.0   \n",
       "411        2.5       38.0       1925           0      0.50      0.75      0.0   \n",
       "615        2.5       35.0       1920           0      0.56      0.50      0.0   \n",
       "\n",
       "     facilfar  officearea  retailarea  zipcode  Age borough  \n",
       "138       2.0         0.0         0.0  10469.0   75      BX  \n",
       "156       2.0         0.0         0.0  10469.0   70      BX  \n",
       "410       2.0         0.0         0.0  10466.0  105      BX  \n",
       "411       2.0         0.0         0.0  10466.0   95      BX  \n",
       "615       1.0         0.0         0.0  10471.0  100      BX  "
      ]
     },
     "execution_count": 25,
     "metadata": {},
     "output_type": "execute_result"
    }
   ],
   "source": [
    "Pluto_BX.head()"
   ]
  },
  {
   "cell_type": "code",
   "execution_count": 26,
   "metadata": {},
   "outputs": [
    {
     "name": "stderr",
     "output_type": "stream",
     "text": [
      "C:\\Users\\const\\anaconda3\\lib\\site-packages\\pandas\\core\\frame.py:3997: SettingWithCopyWarning: \n",
      "A value is trying to be set on a copy of a slice from a DataFrame\n",
      "\n",
      "See the caveats in the documentation: https://pandas.pydata.org/pandas-docs/stable/user_guide/indexing.html#returning-a-view-versus-a-copy\n",
      "  errors=errors,\n"
     ]
    }
   ],
   "source": [
    "Pluto_BX.drop(['borough'],axis=1, inplace=True)"
   ]
  },
  {
   "cell_type": "code",
   "execution_count": 27,
   "metadata": {},
   "outputs": [
    {
     "data": {
      "text/plain": [
       "(83391, 18)"
      ]
     },
     "execution_count": 27,
     "metadata": {},
     "output_type": "execute_result"
    }
   ],
   "source": [
    "Pluto_BX.shape"
   ]
  },
  {
   "cell_type": "markdown",
   "metadata": {},
   "source": [
    "Lets drop the duplicates that will be in our dataframe"
   ]
  },
  {
   "cell_type": "code",
   "execution_count": 69,
   "metadata": {},
   "outputs": [
    {
     "data": {
      "text/html": [
       "<div>\n",
       "<style scoped>\n",
       "    .dataframe tbody tr th:only-of-type {\n",
       "        vertical-align: middle;\n",
       "    }\n",
       "\n",
       "    .dataframe tbody tr th {\n",
       "        vertical-align: top;\n",
       "    }\n",
       "\n",
       "    .dataframe thead th {\n",
       "        text-align: right;\n",
       "    }\n",
       "</style>\n",
       "<table border=\"1\" class=\"dataframe\">\n",
       "  <thead>\n",
       "    <tr style=\"text-align: right;\">\n",
       "      <th></th>\n",
       "      <th>address</th>\n",
       "      <th>lot</th>\n",
       "      <th>lotarea</th>\n",
       "      <th>bldgarea</th>\n",
       "      <th>resarea</th>\n",
       "      <th>numbldgs</th>\n",
       "      <th>numfloors</th>\n",
       "      <th>bldgdepth</th>\n",
       "      <th>yearbuilt</th>\n",
       "      <th>builtfar</th>\n",
       "      <th>residfar</th>\n",
       "      <th>commfar</th>\n",
       "      <th>facilfar</th>\n",
       "      <th>officearea</th>\n",
       "      <th>retailarea</th>\n",
       "      <th>zipcode</th>\n",
       "      <th>Age</th>\n",
       "    </tr>\n",
       "  </thead>\n",
       "  <tbody>\n",
       "    <tr>\n",
       "      <th>138</th>\n",
       "      <td>1516 ASTOR AVENUE</td>\n",
       "      <td>27.00</td>\n",
       "      <td>3034.00</td>\n",
       "      <td>2660.00</td>\n",
       "      <td>2660.00</td>\n",
       "      <td>2.00</td>\n",
       "      <td>2.00</td>\n",
       "      <td>36.00</td>\n",
       "      <td>1945</td>\n",
       "      <td>0.88</td>\n",
       "      <td>0.75</td>\n",
       "      <td>0.00</td>\n",
       "      <td>2.00</td>\n",
       "      <td>0.00</td>\n",
       "      <td>0.00</td>\n",
       "      <td>10469.0</td>\n",
       "      <td>75</td>\n",
       "    </tr>\n",
       "    <tr>\n",
       "      <th>156</th>\n",
       "      <td>2237 WOODHULL AVENUE</td>\n",
       "      <td>28.00</td>\n",
       "      <td>3208.00</td>\n",
       "      <td>1888.00</td>\n",
       "      <td>1392.00</td>\n",
       "      <td>1.00</td>\n",
       "      <td>1.50</td>\n",
       "      <td>31.00</td>\n",
       "      <td>1950</td>\n",
       "      <td>0.59</td>\n",
       "      <td>0.75</td>\n",
       "      <td>0.00</td>\n",
       "      <td>2.00</td>\n",
       "      <td>0.00</td>\n",
       "      <td>0.00</td>\n",
       "      <td>10469.0</td>\n",
       "      <td>70</td>\n",
       "    </tr>\n",
       "    <tr>\n",
       "      <th>410</th>\n",
       "      <td>919 CRANFORD AVENUE</td>\n",
       "      <td>12.00</td>\n",
       "      <td>3000.00</td>\n",
       "      <td>2244.00</td>\n",
       "      <td>2244.00</td>\n",
       "      <td>2.00</td>\n",
       "      <td>2.00</td>\n",
       "      <td>51.00</td>\n",
       "      <td>1915</td>\n",
       "      <td>0.75</td>\n",
       "      <td>0.75</td>\n",
       "      <td>0.00</td>\n",
       "      <td>2.00</td>\n",
       "      <td>0.00</td>\n",
       "      <td>0.00</td>\n",
       "      <td>10466.0</td>\n",
       "      <td>105</td>\n",
       "    </tr>\n",
       "    <tr>\n",
       "      <th>411</th>\n",
       "      <td>903 CRANFORD AVENUE</td>\n",
       "      <td>18.00</td>\n",
       "      <td>2700.00</td>\n",
       "      <td>1344.00</td>\n",
       "      <td>1344.00</td>\n",
       "      <td>2.00</td>\n",
       "      <td>2.50</td>\n",
       "      <td>38.00</td>\n",
       "      <td>1925</td>\n",
       "      <td>0.50</td>\n",
       "      <td>0.75</td>\n",
       "      <td>0.00</td>\n",
       "      <td>2.00</td>\n",
       "      <td>0.00</td>\n",
       "      <td>0.00</td>\n",
       "      <td>10466.0</td>\n",
       "      <td>95</td>\n",
       "    </tr>\n",
       "    <tr>\n",
       "      <th>615</th>\n",
       "      <td>443 WEST 259 STREET</td>\n",
       "      <td>569.00</td>\n",
       "      <td>3242.00</td>\n",
       "      <td>1810.00</td>\n",
       "      <td>1810.00</td>\n",
       "      <td>1.00</td>\n",
       "      <td>2.50</td>\n",
       "      <td>35.00</td>\n",
       "      <td>1920</td>\n",
       "      <td>0.56</td>\n",
       "      <td>0.50</td>\n",
       "      <td>0.00</td>\n",
       "      <td>1.00</td>\n",
       "      <td>0.00</td>\n",
       "      <td>0.00</td>\n",
       "      <td>10471.0</td>\n",
       "      <td>100</td>\n",
       "    </tr>\n",
       "  </tbody>\n",
       "</table>\n",
       "</div>"
      ],
      "text/plain": [
       "                  address    lot  lotarea  bldgarea  resarea  numbldgs  \\\n",
       "138     1516 ASTOR AVENUE  27.00  3034.00   2660.00  2660.00      2.00   \n",
       "156  2237 WOODHULL AVENUE  28.00  3208.00   1888.00  1392.00      1.00   \n",
       "410   919 CRANFORD AVENUE  12.00  3000.00   2244.00  2244.00      2.00   \n",
       "411   903 CRANFORD AVENUE  18.00  2700.00   1344.00  1344.00      2.00   \n",
       "615   443 WEST 259 STREET 569.00  3242.00   1810.00  1810.00      1.00   \n",
       "\n",
       "     numfloors  bldgdepth  yearbuilt  builtfar  residfar  commfar  facilfar  \\\n",
       "138       2.00      36.00       1945      0.88      0.75     0.00      2.00   \n",
       "156       1.50      31.00       1950      0.59      0.75     0.00      2.00   \n",
       "410       2.00      51.00       1915      0.75      0.75     0.00      2.00   \n",
       "411       2.50      38.00       1925      0.50      0.75     0.00      2.00   \n",
       "615       2.50      35.00       1920      0.56      0.50     0.00      1.00   \n",
       "\n",
       "     officearea  retailarea  zipcode  Age  \n",
       "138        0.00        0.00  10469.0   75  \n",
       "156        0.00        0.00  10469.0   70  \n",
       "410        0.00        0.00  10466.0  105  \n",
       "411        0.00        0.00  10466.0   95  \n",
       "615        0.00        0.00  10471.0  100  "
      ]
     },
     "execution_count": 69,
     "metadata": {},
     "output_type": "execute_result"
    }
   ],
   "source": [
    "Pluto_BX.drop_duplicates().head()"
   ]
  },
  {
   "cell_type": "code",
   "execution_count": 70,
   "metadata": {},
   "outputs": [
    {
     "data": {
      "text/plain": [
       "(83391, 17)"
      ]
     },
     "execution_count": 70,
     "metadata": {},
     "output_type": "execute_result"
    }
   ],
   "source": [
    "Pluto_BX.shape"
   ]
  },
  {
   "cell_type": "markdown",
   "metadata": {},
   "source": [
    "Lets look at the missing data now and sum them"
   ]
  },
  {
   "cell_type": "code",
   "execution_count": 71,
   "metadata": {},
   "outputs": [
    {
     "data": {
      "text/plain": [
       "address         0\n",
       "lot             0\n",
       "lotarea         0\n",
       "bldgarea        0\n",
       "resarea       894\n",
       "numbldgs        0\n",
       "numfloors       0\n",
       "bldgdepth       0\n",
       "yearbuilt       0\n",
       "builtfar        0\n",
       "residfar        0\n",
       "commfar         0\n",
       "facilfar        0\n",
       "officearea    894\n",
       "retailarea    894\n",
       "zipcode         0\n",
       "Age             0\n",
       "dtype: int64"
      ]
     },
     "execution_count": 71,
     "metadata": {},
     "output_type": "execute_result"
    }
   ],
   "source": [
    "Pluto_BX.isnull().sum()"
   ]
  },
  {
   "cell_type": "code",
   "execution_count": 28,
   "metadata": {},
   "outputs": [],
   "source": [
    "#Change format of how float is displayed\n",
    "pd.options.display.float_format = \"{:.2f}\".format"
   ]
  },
  {
   "cell_type": "code",
   "execution_count": 73,
   "metadata": {},
   "outputs": [
    {
     "data": {
      "text/plain": [
       "count      82497.00\n",
       "mean        6124.73\n",
       "std        57465.18\n",
       "min            0.00\n",
       "25%         1280.00\n",
       "50%         1892.00\n",
       "75%         2709.00\n",
       "max     13211398.00\n",
       "Name: resarea, dtype: float64"
      ]
     },
     "execution_count": 73,
     "metadata": {},
     "output_type": "execute_result"
    }
   ],
   "source": [
    "Pluto_BX['resarea'].describe()"
   ]
  },
  {
   "cell_type": "markdown",
   "metadata": {},
   "source": [
    " There is a huge disparity between the min and max. The best option here is to normalize the data. I will normalize this during the prediction process using scikitLearn.\n",
    "\n",
    "Since we are exploring characteristics of buildings to our complaint type we will be grouping the data by zipcode which is shared by both datasets. Then we wil revisit this issue."
   ]
  },
  {
   "cell_type": "code",
   "execution_count": null,
   "metadata": {},
   "outputs": [],
   "source": [
    "#Pluto_BX.zipcode.value_counts()"
   ]
  },
  {
   "cell_type": "code",
   "execution_count": null,
   "metadata": {},
   "outputs": [],
   "source": [
    "#Pdf_grp = Pluto_BX.groupby(['zipcode'],as_index=False).mean()\n",
    "#Pdf_grp.head()"
   ]
  },
  {
   "cell_type": "markdown",
   "metadata": {},
   "source": [
    "So now that we have our pluto dataset it's time to compare this data to the data from The Housing Department of Preservation and Development. \n",
    "\n",
    "First thing we will do is merge the two datasets to get a better look. We will merge them by the common column, zip code"
   ]
  },
  {
   "cell_type": "markdown",
   "metadata": {},
   "source": [
    "#### The Housing Department of Preservation and Development"
   ]
  },
  {
   "cell_type": "code",
   "execution_count": 29,
   "metadata": {},
   "outputs": [],
   "source": [
    "HBD_BX = HBD[(HBD['Complaint_Type'] == 'HEAT/HOT WATER')]"
   ]
  },
  {
   "cell_type": "code",
   "execution_count": 30,
   "metadata": {
    "collapsed": true
   },
   "outputs": [
    {
     "data": {
      "text/html": [
       "<div>\n",
       "<style scoped>\n",
       "    .dataframe tbody tr th:only-of-type {\n",
       "        vertical-align: middle;\n",
       "    }\n",
       "\n",
       "    .dataframe tbody tr th {\n",
       "        vertical-align: top;\n",
       "    }\n",
       "\n",
       "    .dataframe thead th {\n",
       "        text-align: right;\n",
       "    }\n",
       "</style>\n",
       "<table border=\"1\" class=\"dataframe\">\n",
       "  <thead>\n",
       "    <tr style=\"text-align: right;\">\n",
       "      <th></th>\n",
       "      <th>Unnamed: 0</th>\n",
       "      <th>Unique_Key</th>\n",
       "      <th>Created_Date</th>\n",
       "      <th>Closed_Date</th>\n",
       "      <th>Complaint_Type</th>\n",
       "      <th>Location_Type</th>\n",
       "      <th>Incident_Zip</th>\n",
       "      <th>Incident Address</th>\n",
       "      <th>Street_Name</th>\n",
       "      <th>Address_Type</th>\n",
       "      <th>City</th>\n",
       "      <th>Status</th>\n",
       "      <th>Resolution Description</th>\n",
       "      <th>Borough</th>\n",
       "      <th>Latitude</th>\n",
       "      <th>Longitude</th>\n",
       "    </tr>\n",
       "  </thead>\n",
       "  <tbody>\n",
       "    <tr>\n",
       "      <th>3</th>\n",
       "      <td>3</td>\n",
       "      <td>45530329</td>\n",
       "      <td>02/02/2020 12:13:18 PM</td>\n",
       "      <td>NaN</td>\n",
       "      <td>HEAT/HOT WATER</td>\n",
       "      <td>RESIDENTIAL BUILDING</td>\n",
       "      <td>10458.00</td>\n",
       "      <td>2405 SOUTHERN BOULEVARD</td>\n",
       "      <td>SOUTHERN BOULEVARD</td>\n",
       "      <td>ADDRESS</td>\n",
       "      <td>BRONX</td>\n",
       "      <td>Open</td>\n",
       "      <td>The following complaint conditions are still o...</td>\n",
       "      <td>BRONX</td>\n",
       "      <td>40.85</td>\n",
       "      <td>-73.88</td>\n",
       "    </tr>\n",
       "    <tr>\n",
       "      <th>5</th>\n",
       "      <td>5</td>\n",
       "      <td>45530344</td>\n",
       "      <td>02/02/2020 07:52:08 AM</td>\n",
       "      <td>NaN</td>\n",
       "      <td>HEAT/HOT WATER</td>\n",
       "      <td>RESIDENTIAL BUILDING</td>\n",
       "      <td>10456.00</td>\n",
       "      <td>1131 MORRIS AVENUE</td>\n",
       "      <td>MORRIS AVENUE</td>\n",
       "      <td>ADDRESS</td>\n",
       "      <td>BRONX</td>\n",
       "      <td>Open</td>\n",
       "      <td>The following complaint conditions are still o...</td>\n",
       "      <td>BRONX</td>\n",
       "      <td>40.83</td>\n",
       "      <td>-73.92</td>\n",
       "    </tr>\n",
       "    <tr>\n",
       "      <th>10</th>\n",
       "      <td>10</td>\n",
       "      <td>45530349</td>\n",
       "      <td>02/02/2020 05:38:39 AM</td>\n",
       "      <td>NaN</td>\n",
       "      <td>HEAT/HOT WATER</td>\n",
       "      <td>RESIDENTIAL BUILDING</td>\n",
       "      <td>10459.00</td>\n",
       "      <td>1032 ALDUS STREET</td>\n",
       "      <td>ALDUS STREET</td>\n",
       "      <td>ADDRESS</td>\n",
       "      <td>BRONX</td>\n",
       "      <td>Open</td>\n",
       "      <td>The following complaint conditions are still o...</td>\n",
       "      <td>BRONX</td>\n",
       "      <td>40.82</td>\n",
       "      <td>-73.89</td>\n",
       "    </tr>\n",
       "    <tr>\n",
       "      <th>19</th>\n",
       "      <td>19</td>\n",
       "      <td>45529362</td>\n",
       "      <td>02/02/2020 01:38:25 PM</td>\n",
       "      <td>NaN</td>\n",
       "      <td>HEAT/HOT WATER</td>\n",
       "      <td>RESIDENTIAL BUILDING</td>\n",
       "      <td>10473.00</td>\n",
       "      <td>880 BOYNTON AVENUE</td>\n",
       "      <td>BOYNTON AVENUE</td>\n",
       "      <td>ADDRESS</td>\n",
       "      <td>BRONX</td>\n",
       "      <td>Open</td>\n",
       "      <td>The complaint you filed is a duplicate of a co...</td>\n",
       "      <td>BRONX</td>\n",
       "      <td>40.82</td>\n",
       "      <td>-73.88</td>\n",
       "    </tr>\n",
       "    <tr>\n",
       "      <th>29</th>\n",
       "      <td>29</td>\n",
       "      <td>45528454</td>\n",
       "      <td>02/02/2020 10:25:32 PM</td>\n",
       "      <td>NaN</td>\n",
       "      <td>HEAT/HOT WATER</td>\n",
       "      <td>RESIDENTIAL BUILDING</td>\n",
       "      <td>10463.00</td>\n",
       "      <td>3110 KINGSBRIDGE TERRACE</td>\n",
       "      <td>KINGSBRIDGE TERRACE</td>\n",
       "      <td>ADDRESS</td>\n",
       "      <td>BRONX</td>\n",
       "      <td>Open</td>\n",
       "      <td>The complaint you filed is a duplicate of a co...</td>\n",
       "      <td>BRONX</td>\n",
       "      <td>40.88</td>\n",
       "      <td>-73.90</td>\n",
       "    </tr>\n",
       "  </tbody>\n",
       "</table>\n",
       "</div>"
      ],
      "text/plain": [
       "    Unnamed: 0  Unique_Key            Created_Date Closed_Date  \\\n",
       "3            3    45530329  02/02/2020 12:13:18 PM         NaN   \n",
       "5            5    45530344  02/02/2020 07:52:08 AM         NaN   \n",
       "10          10    45530349  02/02/2020 05:38:39 AM         NaN   \n",
       "19          19    45529362  02/02/2020 01:38:25 PM         NaN   \n",
       "29          29    45528454  02/02/2020 10:25:32 PM         NaN   \n",
       "\n",
       "    Complaint_Type         Location_Type  Incident_Zip  \\\n",
       "3   HEAT/HOT WATER  RESIDENTIAL BUILDING      10458.00   \n",
       "5   HEAT/HOT WATER  RESIDENTIAL BUILDING      10456.00   \n",
       "10  HEAT/HOT WATER  RESIDENTIAL BUILDING      10459.00   \n",
       "19  HEAT/HOT WATER  RESIDENTIAL BUILDING      10473.00   \n",
       "29  HEAT/HOT WATER  RESIDENTIAL BUILDING      10463.00   \n",
       "\n",
       "            Incident Address          Street_Name Address_Type   City Status  \\\n",
       "3    2405 SOUTHERN BOULEVARD   SOUTHERN BOULEVARD      ADDRESS  BRONX   Open   \n",
       "5         1131 MORRIS AVENUE        MORRIS AVENUE      ADDRESS  BRONX   Open   \n",
       "10         1032 ALDUS STREET         ALDUS STREET      ADDRESS  BRONX   Open   \n",
       "19        880 BOYNTON AVENUE       BOYNTON AVENUE      ADDRESS  BRONX   Open   \n",
       "29  3110 KINGSBRIDGE TERRACE  KINGSBRIDGE TERRACE      ADDRESS  BRONX   Open   \n",
       "\n",
       "                               Resolution Description Borough  Latitude  \\\n",
       "3   The following complaint conditions are still o...   BRONX     40.85   \n",
       "5   The following complaint conditions are still o...   BRONX     40.83   \n",
       "10  The following complaint conditions are still o...   BRONX     40.82   \n",
       "19  The complaint you filed is a duplicate of a co...   BRONX     40.82   \n",
       "29  The complaint you filed is a duplicate of a co...   BRONX     40.88   \n",
       "\n",
       "    Longitude  \n",
       "3      -73.88  \n",
       "5      -73.92  \n",
       "10     -73.89  \n",
       "19     -73.88  \n",
       "29     -73.90  "
      ]
     },
     "execution_count": 30,
     "metadata": {},
     "output_type": "execute_result"
    }
   ],
   "source": [
    "HBD_BX = HBD_BX[(HBD_BX['Borough'] == 'BRONX')]\n",
    "HBD_BX.head()"
   ]
  },
  {
   "cell_type": "code",
   "execution_count": 34,
   "metadata": {},
   "outputs": [],
   "source": [
    "HBD_BX = HBD_BX.drop(['Unnamed: 0','Unique_Key','Closed_Date','Created_Date',\n",
    "               'Status','Resolution Description','City','Address_Type','Borough'],axis=1)"
   ]
  },
  {
   "cell_type": "code",
   "execution_count": 35,
   "metadata": {},
   "outputs": [
    {
     "data": {
      "text/plain": [
       "Complaint_Type       object\n",
       "Location_Type        object\n",
       "Incident_Zip        float64\n",
       "Incident Address     object\n",
       "Street_Name          object\n",
       "Latitude            float64\n",
       "Longitude           float64\n",
       "dtype: object"
      ]
     },
     "execution_count": 35,
     "metadata": {},
     "output_type": "execute_result"
    }
   ],
   "source": [
    "HBD_BX.dtypes"
   ]
  },
  {
   "cell_type": "code",
   "execution_count": 36,
   "metadata": {},
   "outputs": [
    {
     "data": {
      "text/plain": [
       "Complaint_Type         0\n",
       "Location_Type          0\n",
       "Incident_Zip        1883\n",
       "Incident Address       0\n",
       "Street_Name            0\n",
       "Latitude            1883\n",
       "Longitude           1883\n",
       "dtype: int64"
      ]
     },
     "execution_count": 36,
     "metadata": {},
     "output_type": "execute_result"
    }
   ],
   "source": [
    "HBD_BX.isnull().sum()"
   ]
  },
  {
   "cell_type": "markdown",
   "metadata": {},
   "source": [
    "Since we will be merging on Address we will make sure there are no null values there."
   ]
  },
  {
   "cell_type": "code",
   "execution_count": 37,
   "metadata": {},
   "outputs": [],
   "source": [
    "HBD_BX['Incident_Zip'] = HBD_BX['Incident_Zip'].astype(\"str\")\n",
    "HBD_BX.rename(columns={\"Incident_Zip\": \"zipcode\"}, inplace=True)\n",
    "HBD_BX.rename(columns={\"Incident Address\": \"address\"}, inplace=True)"
   ]
  },
  {
   "cell_type": "code",
   "execution_count": 38,
   "metadata": {},
   "outputs": [],
   "source": [
    "HBD_BX['count'] = HBD_BX.groupby(['address'])['Complaint_Type'].transform('count')"
   ]
  },
  {
   "cell_type": "code",
   "execution_count": 39,
   "metadata": {},
   "outputs": [],
   "source": [
    "HBD_BX.dropna(subset=[\"address\"], axis=0, inplace=True)"
   ]
  },
  {
   "cell_type": "code",
   "execution_count": 40,
   "metadata": {},
   "outputs": [
    {
     "data": {
      "text/html": [
       "<div>\n",
       "<style scoped>\n",
       "    .dataframe tbody tr th:only-of-type {\n",
       "        vertical-align: middle;\n",
       "    }\n",
       "\n",
       "    .dataframe tbody tr th {\n",
       "        vertical-align: top;\n",
       "    }\n",
       "\n",
       "    .dataframe thead th {\n",
       "        text-align: right;\n",
       "    }\n",
       "</style>\n",
       "<table border=\"1\" class=\"dataframe\">\n",
       "  <thead>\n",
       "    <tr style=\"text-align: right;\">\n",
       "      <th></th>\n",
       "      <th>Complaint_Type</th>\n",
       "      <th>Location_Type</th>\n",
       "      <th>zipcode</th>\n",
       "      <th>address</th>\n",
       "      <th>Street_Name</th>\n",
       "      <th>Latitude</th>\n",
       "      <th>Longitude</th>\n",
       "      <th>count</th>\n",
       "    </tr>\n",
       "  </thead>\n",
       "  <tbody>\n",
       "    <tr>\n",
       "      <th>3</th>\n",
       "      <td>HEAT/HOT WATER</td>\n",
       "      <td>RESIDENTIAL BUILDING</td>\n",
       "      <td>10458.0</td>\n",
       "      <td>2405 SOUTHERN BOULEVARD</td>\n",
       "      <td>SOUTHERN BOULEVARD</td>\n",
       "      <td>40.85</td>\n",
       "      <td>-73.88</td>\n",
       "      <td>138</td>\n",
       "    </tr>\n",
       "    <tr>\n",
       "      <th>5</th>\n",
       "      <td>HEAT/HOT WATER</td>\n",
       "      <td>RESIDENTIAL BUILDING</td>\n",
       "      <td>10456.0</td>\n",
       "      <td>1131 MORRIS AVENUE</td>\n",
       "      <td>MORRIS AVENUE</td>\n",
       "      <td>40.83</td>\n",
       "      <td>-73.92</td>\n",
       "      <td>266</td>\n",
       "    </tr>\n",
       "    <tr>\n",
       "      <th>10</th>\n",
       "      <td>HEAT/HOT WATER</td>\n",
       "      <td>RESIDENTIAL BUILDING</td>\n",
       "      <td>10459.0</td>\n",
       "      <td>1032 ALDUS STREET</td>\n",
       "      <td>ALDUS STREET</td>\n",
       "      <td>40.82</td>\n",
       "      <td>-73.89</td>\n",
       "      <td>74</td>\n",
       "    </tr>\n",
       "    <tr>\n",
       "      <th>19</th>\n",
       "      <td>HEAT/HOT WATER</td>\n",
       "      <td>RESIDENTIAL BUILDING</td>\n",
       "      <td>10473.0</td>\n",
       "      <td>880 BOYNTON AVENUE</td>\n",
       "      <td>BOYNTON AVENUE</td>\n",
       "      <td>40.82</td>\n",
       "      <td>-73.88</td>\n",
       "      <td>332</td>\n",
       "    </tr>\n",
       "    <tr>\n",
       "      <th>29</th>\n",
       "      <td>HEAT/HOT WATER</td>\n",
       "      <td>RESIDENTIAL BUILDING</td>\n",
       "      <td>10463.0</td>\n",
       "      <td>3110 KINGSBRIDGE TERRACE</td>\n",
       "      <td>KINGSBRIDGE TERRACE</td>\n",
       "      <td>40.88</td>\n",
       "      <td>-73.90</td>\n",
       "      <td>359</td>\n",
       "    </tr>\n",
       "  </tbody>\n",
       "</table>\n",
       "</div>"
      ],
      "text/plain": [
       "    Complaint_Type         Location_Type  zipcode                   address  \\\n",
       "3   HEAT/HOT WATER  RESIDENTIAL BUILDING  10458.0   2405 SOUTHERN BOULEVARD   \n",
       "5   HEAT/HOT WATER  RESIDENTIAL BUILDING  10456.0        1131 MORRIS AVENUE   \n",
       "10  HEAT/HOT WATER  RESIDENTIAL BUILDING  10459.0         1032 ALDUS STREET   \n",
       "19  HEAT/HOT WATER  RESIDENTIAL BUILDING  10473.0        880 BOYNTON AVENUE   \n",
       "29  HEAT/HOT WATER  RESIDENTIAL BUILDING  10463.0  3110 KINGSBRIDGE TERRACE   \n",
       "\n",
       "            Street_Name  Latitude  Longitude  count  \n",
       "3    SOUTHERN BOULEVARD     40.85     -73.88    138  \n",
       "5         MORRIS AVENUE     40.83     -73.92    266  \n",
       "10         ALDUS STREET     40.82     -73.89     74  \n",
       "19       BOYNTON AVENUE     40.82     -73.88    332  \n",
       "29  KINGSBRIDGE TERRACE     40.88     -73.90    359  "
      ]
     },
     "execution_count": 40,
     "metadata": {},
     "output_type": "execute_result"
    }
   ],
   "source": [
    "HBD_BX.head()"
   ]
  },
  {
   "cell_type": "code",
   "execution_count": null,
   "metadata": {},
   "outputs": [],
   "source": [
    "#HBD_BX.drop_duplicates(subset=\"zipcode\",keep=\"first\", inplace=True)\n",
    "## this was when I was grouping by zipcode"
   ]
  },
  {
   "cell_type": "markdown",
   "metadata": {},
   "source": [
    "#### Merging the two dataframes together"
   ]
  },
  {
   "cell_type": "code",
   "execution_count": 41,
   "metadata": {},
   "outputs": [
    {
     "data": {
      "text/html": [
       "<div>\n",
       "<style scoped>\n",
       "    .dataframe tbody tr th:only-of-type {\n",
       "        vertical-align: middle;\n",
       "    }\n",
       "\n",
       "    .dataframe tbody tr th {\n",
       "        vertical-align: top;\n",
       "    }\n",
       "\n",
       "    .dataframe thead th {\n",
       "        text-align: right;\n",
       "    }\n",
       "</style>\n",
       "<table border=\"1\" class=\"dataframe\">\n",
       "  <thead>\n",
       "    <tr style=\"text-align: right;\">\n",
       "      <th></th>\n",
       "      <th>address</th>\n",
       "      <th>lot</th>\n",
       "      <th>lotarea</th>\n",
       "      <th>bldgarea</th>\n",
       "      <th>resarea</th>\n",
       "      <th>numbldgs</th>\n",
       "      <th>numfloors</th>\n",
       "      <th>bldgdepth</th>\n",
       "      <th>yearbuilt</th>\n",
       "      <th>yearalter1</th>\n",
       "      <th>...</th>\n",
       "      <th>retailarea</th>\n",
       "      <th>zipcode_x</th>\n",
       "      <th>Age</th>\n",
       "      <th>Complaint_Type</th>\n",
       "      <th>Location_Type</th>\n",
       "      <th>zipcode_y</th>\n",
       "      <th>Street_Name</th>\n",
       "      <th>Latitude</th>\n",
       "      <th>Longitude</th>\n",
       "      <th>count</th>\n",
       "    </tr>\n",
       "  </thead>\n",
       "  <tbody>\n",
       "    <tr>\n",
       "      <th>0</th>\n",
       "      <td>953 ANDERSON AVENUE</td>\n",
       "      <td>34.00</td>\n",
       "      <td>11849.00</td>\n",
       "      <td>45000.00</td>\n",
       "      <td>45000.00</td>\n",
       "      <td>2.00</td>\n",
       "      <td>5.00</td>\n",
       "      <td>95.00</td>\n",
       "      <td>1917</td>\n",
       "      <td>1983</td>\n",
       "      <td>...</td>\n",
       "      <td>0.00</td>\n",
       "      <td>10452.0</td>\n",
       "      <td>103</td>\n",
       "      <td>HEAT/HOT WATER</td>\n",
       "      <td>RESIDENTIAL BUILDING</td>\n",
       "      <td>10452.0</td>\n",
       "      <td>ANDERSON AVENUE</td>\n",
       "      <td>40.83</td>\n",
       "      <td>-73.93</td>\n",
       "      <td>122</td>\n",
       "    </tr>\n",
       "    <tr>\n",
       "      <th>1</th>\n",
       "      <td>953 ANDERSON AVENUE</td>\n",
       "      <td>34.00</td>\n",
       "      <td>11849.00</td>\n",
       "      <td>45000.00</td>\n",
       "      <td>45000.00</td>\n",
       "      <td>2.00</td>\n",
       "      <td>5.00</td>\n",
       "      <td>95.00</td>\n",
       "      <td>1917</td>\n",
       "      <td>1983</td>\n",
       "      <td>...</td>\n",
       "      <td>0.00</td>\n",
       "      <td>10452.0</td>\n",
       "      <td>103</td>\n",
       "      <td>HEAT/HOT WATER</td>\n",
       "      <td>RESIDENTIAL BUILDING</td>\n",
       "      <td>10452.0</td>\n",
       "      <td>ANDERSON AVENUE</td>\n",
       "      <td>40.83</td>\n",
       "      <td>-73.93</td>\n",
       "      <td>122</td>\n",
       "    </tr>\n",
       "    <tr>\n",
       "      <th>2</th>\n",
       "      <td>953 ANDERSON AVENUE</td>\n",
       "      <td>34.00</td>\n",
       "      <td>11849.00</td>\n",
       "      <td>45000.00</td>\n",
       "      <td>45000.00</td>\n",
       "      <td>2.00</td>\n",
       "      <td>5.00</td>\n",
       "      <td>95.00</td>\n",
       "      <td>1917</td>\n",
       "      <td>1983</td>\n",
       "      <td>...</td>\n",
       "      <td>0.00</td>\n",
       "      <td>10452.0</td>\n",
       "      <td>103</td>\n",
       "      <td>HEAT/HOT WATER</td>\n",
       "      <td>RESIDENTIAL BUILDING</td>\n",
       "      <td>10452.0</td>\n",
       "      <td>ANDERSON AVENUE</td>\n",
       "      <td>40.83</td>\n",
       "      <td>-73.93</td>\n",
       "      <td>122</td>\n",
       "    </tr>\n",
       "    <tr>\n",
       "      <th>3</th>\n",
       "      <td>953 ANDERSON AVENUE</td>\n",
       "      <td>34.00</td>\n",
       "      <td>11849.00</td>\n",
       "      <td>45000.00</td>\n",
       "      <td>45000.00</td>\n",
       "      <td>2.00</td>\n",
       "      <td>5.00</td>\n",
       "      <td>95.00</td>\n",
       "      <td>1917</td>\n",
       "      <td>1983</td>\n",
       "      <td>...</td>\n",
       "      <td>0.00</td>\n",
       "      <td>10452.0</td>\n",
       "      <td>103</td>\n",
       "      <td>HEAT/HOT WATER</td>\n",
       "      <td>RESIDENTIAL BUILDING</td>\n",
       "      <td>10452.0</td>\n",
       "      <td>ANDERSON AVENUE</td>\n",
       "      <td>40.83</td>\n",
       "      <td>-73.93</td>\n",
       "      <td>122</td>\n",
       "    </tr>\n",
       "    <tr>\n",
       "      <th>4</th>\n",
       "      <td>953 ANDERSON AVENUE</td>\n",
       "      <td>34.00</td>\n",
       "      <td>11849.00</td>\n",
       "      <td>45000.00</td>\n",
       "      <td>45000.00</td>\n",
       "      <td>2.00</td>\n",
       "      <td>5.00</td>\n",
       "      <td>95.00</td>\n",
       "      <td>1917</td>\n",
       "      <td>1983</td>\n",
       "      <td>...</td>\n",
       "      <td>0.00</td>\n",
       "      <td>10452.0</td>\n",
       "      <td>103</td>\n",
       "      <td>HEAT/HOT WATER</td>\n",
       "      <td>RESIDENTIAL BUILDING</td>\n",
       "      <td>10452.0</td>\n",
       "      <td>ANDERSON AVENUE</td>\n",
       "      <td>40.83</td>\n",
       "      <td>-73.93</td>\n",
       "      <td>122</td>\n",
       "    </tr>\n",
       "  </tbody>\n",
       "</table>\n",
       "<p>5 rows × 25 columns</p>\n",
       "</div>"
      ],
      "text/plain": [
       "               address   lot  lotarea  bldgarea  resarea  numbldgs  numfloors  \\\n",
       "0  953 ANDERSON AVENUE 34.00 11849.00  45000.00 45000.00      2.00       5.00   \n",
       "1  953 ANDERSON AVENUE 34.00 11849.00  45000.00 45000.00      2.00       5.00   \n",
       "2  953 ANDERSON AVENUE 34.00 11849.00  45000.00 45000.00      2.00       5.00   \n",
       "3  953 ANDERSON AVENUE 34.00 11849.00  45000.00 45000.00      2.00       5.00   \n",
       "4  953 ANDERSON AVENUE 34.00 11849.00  45000.00 45000.00      2.00       5.00   \n",
       "\n",
       "   bldgdepth  yearbuilt  yearalter1  ...  retailarea  zipcode_x  Age  \\\n",
       "0      95.00       1917        1983  ...        0.00    10452.0  103   \n",
       "1      95.00       1917        1983  ...        0.00    10452.0  103   \n",
       "2      95.00       1917        1983  ...        0.00    10452.0  103   \n",
       "3      95.00       1917        1983  ...        0.00    10452.0  103   \n",
       "4      95.00       1917        1983  ...        0.00    10452.0  103   \n",
       "\n",
       "   Complaint_Type         Location_Type  zipcode_y      Street_Name  Latitude  \\\n",
       "0  HEAT/HOT WATER  RESIDENTIAL BUILDING    10452.0  ANDERSON AVENUE     40.83   \n",
       "1  HEAT/HOT WATER  RESIDENTIAL BUILDING    10452.0  ANDERSON AVENUE     40.83   \n",
       "2  HEAT/HOT WATER  RESIDENTIAL BUILDING    10452.0  ANDERSON AVENUE     40.83   \n",
       "3  HEAT/HOT WATER  RESIDENTIAL BUILDING    10452.0  ANDERSON AVENUE     40.83   \n",
       "4  HEAT/HOT WATER  RESIDENTIAL BUILDING    10452.0  ANDERSON AVENUE     40.83   \n",
       "\n",
       "  Longitude count  \n",
       "0    -73.93   122  \n",
       "1    -73.93   122  \n",
       "2    -73.93   122  \n",
       "3    -73.93   122  \n",
       "4    -73.93   122  \n",
       "\n",
       "[5 rows x 25 columns]"
      ]
     },
     "execution_count": 41,
     "metadata": {},
     "output_type": "execute_result"
    }
   ],
   "source": [
    "HBD_BX_Pluto = pd.merge( left=Pluto_BX, right=HBD_BX, how='inner', on='address')\n",
    "HBD_BX_Pluto.head()"
   ]
  },
  {
   "cell_type": "code",
   "execution_count": 42,
   "metadata": {},
   "outputs": [
    {
     "data": {
      "text/html": [
       "<div>\n",
       "<style scoped>\n",
       "    .dataframe tbody tr th:only-of-type {\n",
       "        vertical-align: middle;\n",
       "    }\n",
       "\n",
       "    .dataframe tbody tr th {\n",
       "        vertical-align: top;\n",
       "    }\n",
       "\n",
       "    .dataframe thead th {\n",
       "        text-align: right;\n",
       "    }\n",
       "</style>\n",
       "<table border=\"1\" class=\"dataframe\">\n",
       "  <thead>\n",
       "    <tr style=\"text-align: right;\">\n",
       "      <th></th>\n",
       "      <th>address</th>\n",
       "      <th>lot</th>\n",
       "      <th>lotarea</th>\n",
       "      <th>bldgarea</th>\n",
       "      <th>resarea</th>\n",
       "      <th>numbldgs</th>\n",
       "      <th>numfloors</th>\n",
       "      <th>bldgdepth</th>\n",
       "      <th>yearbuilt</th>\n",
       "      <th>yearalter1</th>\n",
       "      <th>...</th>\n",
       "      <th>retailarea</th>\n",
       "      <th>zipcode_x</th>\n",
       "      <th>Age</th>\n",
       "      <th>Complaint_Type</th>\n",
       "      <th>Location_Type</th>\n",
       "      <th>zipcode_y</th>\n",
       "      <th>Street_Name</th>\n",
       "      <th>Latitude</th>\n",
       "      <th>Longitude</th>\n",
       "      <th>count</th>\n",
       "    </tr>\n",
       "  </thead>\n",
       "  <tbody>\n",
       "    <tr>\n",
       "      <th>0</th>\n",
       "      <td>953 ANDERSON AVENUE</td>\n",
       "      <td>34.00</td>\n",
       "      <td>11849.00</td>\n",
       "      <td>45000.00</td>\n",
       "      <td>45000.00</td>\n",
       "      <td>2.00</td>\n",
       "      <td>5.00</td>\n",
       "      <td>95.00</td>\n",
       "      <td>1917</td>\n",
       "      <td>1983</td>\n",
       "      <td>...</td>\n",
       "      <td>0.00</td>\n",
       "      <td>10452.0</td>\n",
       "      <td>103</td>\n",
       "      <td>HEAT/HOT WATER</td>\n",
       "      <td>RESIDENTIAL BUILDING</td>\n",
       "      <td>10452.0</td>\n",
       "      <td>ANDERSON AVENUE</td>\n",
       "      <td>40.83</td>\n",
       "      <td>-73.93</td>\n",
       "      <td>122</td>\n",
       "    </tr>\n",
       "    <tr>\n",
       "      <th>1</th>\n",
       "      <td>953 ANDERSON AVENUE</td>\n",
       "      <td>34.00</td>\n",
       "      <td>11849.00</td>\n",
       "      <td>45000.00</td>\n",
       "      <td>45000.00</td>\n",
       "      <td>2.00</td>\n",
       "      <td>5.00</td>\n",
       "      <td>95.00</td>\n",
       "      <td>1917</td>\n",
       "      <td>1983</td>\n",
       "      <td>...</td>\n",
       "      <td>0.00</td>\n",
       "      <td>10452.0</td>\n",
       "      <td>103</td>\n",
       "      <td>HEAT/HOT WATER</td>\n",
       "      <td>RESIDENTIAL BUILDING</td>\n",
       "      <td>10452.0</td>\n",
       "      <td>ANDERSON AVENUE</td>\n",
       "      <td>40.83</td>\n",
       "      <td>-73.93</td>\n",
       "      <td>122</td>\n",
       "    </tr>\n",
       "    <tr>\n",
       "      <th>2</th>\n",
       "      <td>953 ANDERSON AVENUE</td>\n",
       "      <td>34.00</td>\n",
       "      <td>11849.00</td>\n",
       "      <td>45000.00</td>\n",
       "      <td>45000.00</td>\n",
       "      <td>2.00</td>\n",
       "      <td>5.00</td>\n",
       "      <td>95.00</td>\n",
       "      <td>1917</td>\n",
       "      <td>1983</td>\n",
       "      <td>...</td>\n",
       "      <td>0.00</td>\n",
       "      <td>10452.0</td>\n",
       "      <td>103</td>\n",
       "      <td>HEAT/HOT WATER</td>\n",
       "      <td>RESIDENTIAL BUILDING</td>\n",
       "      <td>10452.0</td>\n",
       "      <td>ANDERSON AVENUE</td>\n",
       "      <td>40.83</td>\n",
       "      <td>-73.93</td>\n",
       "      <td>122</td>\n",
       "    </tr>\n",
       "    <tr>\n",
       "      <th>3</th>\n",
       "      <td>953 ANDERSON AVENUE</td>\n",
       "      <td>34.00</td>\n",
       "      <td>11849.00</td>\n",
       "      <td>45000.00</td>\n",
       "      <td>45000.00</td>\n",
       "      <td>2.00</td>\n",
       "      <td>5.00</td>\n",
       "      <td>95.00</td>\n",
       "      <td>1917</td>\n",
       "      <td>1983</td>\n",
       "      <td>...</td>\n",
       "      <td>0.00</td>\n",
       "      <td>10452.0</td>\n",
       "      <td>103</td>\n",
       "      <td>HEAT/HOT WATER</td>\n",
       "      <td>RESIDENTIAL BUILDING</td>\n",
       "      <td>10452.0</td>\n",
       "      <td>ANDERSON AVENUE</td>\n",
       "      <td>40.83</td>\n",
       "      <td>-73.93</td>\n",
       "      <td>122</td>\n",
       "    </tr>\n",
       "    <tr>\n",
       "      <th>4</th>\n",
       "      <td>953 ANDERSON AVENUE</td>\n",
       "      <td>34.00</td>\n",
       "      <td>11849.00</td>\n",
       "      <td>45000.00</td>\n",
       "      <td>45000.00</td>\n",
       "      <td>2.00</td>\n",
       "      <td>5.00</td>\n",
       "      <td>95.00</td>\n",
       "      <td>1917</td>\n",
       "      <td>1983</td>\n",
       "      <td>...</td>\n",
       "      <td>0.00</td>\n",
       "      <td>10452.0</td>\n",
       "      <td>103</td>\n",
       "      <td>HEAT/HOT WATER</td>\n",
       "      <td>RESIDENTIAL BUILDING</td>\n",
       "      <td>10452.0</td>\n",
       "      <td>ANDERSON AVENUE</td>\n",
       "      <td>40.83</td>\n",
       "      <td>-73.93</td>\n",
       "      <td>122</td>\n",
       "    </tr>\n",
       "  </tbody>\n",
       "</table>\n",
       "<p>5 rows × 25 columns</p>\n",
       "</div>"
      ],
      "text/plain": [
       "               address   lot  lotarea  bldgarea  resarea  numbldgs  numfloors  \\\n",
       "0  953 ANDERSON AVENUE 34.00 11849.00  45000.00 45000.00      2.00       5.00   \n",
       "1  953 ANDERSON AVENUE 34.00 11849.00  45000.00 45000.00      2.00       5.00   \n",
       "2  953 ANDERSON AVENUE 34.00 11849.00  45000.00 45000.00      2.00       5.00   \n",
       "3  953 ANDERSON AVENUE 34.00 11849.00  45000.00 45000.00      2.00       5.00   \n",
       "4  953 ANDERSON AVENUE 34.00 11849.00  45000.00 45000.00      2.00       5.00   \n",
       "\n",
       "   bldgdepth  yearbuilt  yearalter1  ...  retailarea  zipcode_x  Age  \\\n",
       "0      95.00       1917        1983  ...        0.00    10452.0  103   \n",
       "1      95.00       1917        1983  ...        0.00    10452.0  103   \n",
       "2      95.00       1917        1983  ...        0.00    10452.0  103   \n",
       "3      95.00       1917        1983  ...        0.00    10452.0  103   \n",
       "4      95.00       1917        1983  ...        0.00    10452.0  103   \n",
       "\n",
       "   Complaint_Type         Location_Type  zipcode_y      Street_Name  Latitude  \\\n",
       "0  HEAT/HOT WATER  RESIDENTIAL BUILDING    10452.0  ANDERSON AVENUE     40.83   \n",
       "1  HEAT/HOT WATER  RESIDENTIAL BUILDING    10452.0  ANDERSON AVENUE     40.83   \n",
       "2  HEAT/HOT WATER  RESIDENTIAL BUILDING    10452.0  ANDERSON AVENUE     40.83   \n",
       "3  HEAT/HOT WATER  RESIDENTIAL BUILDING    10452.0  ANDERSON AVENUE     40.83   \n",
       "4  HEAT/HOT WATER  RESIDENTIAL BUILDING    10452.0  ANDERSON AVENUE     40.83   \n",
       "\n",
       "  Longitude count  \n",
       "0    -73.93   122  \n",
       "1    -73.93   122  \n",
       "2    -73.93   122  \n",
       "3    -73.93   122  \n",
       "4    -73.93   122  \n",
       "\n",
       "[5 rows x 25 columns]"
      ]
     },
     "execution_count": 42,
     "metadata": {},
     "output_type": "execute_result"
    }
   ],
   "source": [
    "HBD_BX_Pluto.head()"
   ]
  },
  {
   "cell_type": "code",
   "execution_count": 43,
   "metadata": {},
   "outputs": [],
   "source": [
    "HBD_BX_Pluto.drop_duplicates(subset='address',keep=\"first\",inplace=True)"
   ]
  },
  {
   "cell_type": "markdown",
   "metadata": {},
   "source": [
    "Looking at the dataframeLooking at the dataframe it doesn't look like yearbuilt or yearalter is going to be much help since we calculated the age already. \n",
    "\n",
    "Since we have data for residential areas and retail areas and commercial areas lets actually see what kind of Location type we are dealing with"
   ]
  },
  {
   "cell_type": "code",
   "execution_count": 44,
   "metadata": {},
   "outputs": [
    {
     "data": {
      "text/plain": [
       "RESIDENTIAL BUILDING    13740\n",
       "Name: Location_Type, dtype: int64"
      ]
     },
     "execution_count": 44,
     "metadata": {},
     "output_type": "execute_result"
    }
   ],
   "source": [
    "HBD_BX_Pluto.Location_Type.value_counts()"
   ]
  },
  {
   "cell_type": "markdown",
   "metadata": {},
   "source": [
    "As we can see here `Location_Type` is predominantly Residential. "
   ]
  },
  {
   "cell_type": "code",
   "execution_count": 275,
   "metadata": {},
   "outputs": [
    {
     "data": {
      "text/plain": [
       "Index(['address', 'lot', 'lotarea', 'bldgarea', 'resarea', 'numbldgs',\n",
       "       'numfloors', 'bldgdepth', 'yearbuilt', 'builtfar', 'residfar',\n",
       "       'commfar', 'facilfar', 'officearea', 'retailarea', 'zipcode_x', 'Age',\n",
       "       'Age_Alter', 'Complaint_Type', 'Location_Type', 'zipcode_y',\n",
       "       'Street_Name', 'Latitude', 'Longitude', 'count'],\n",
       "      dtype='object')"
      ]
     },
     "execution_count": 275,
     "metadata": {},
     "output_type": "execute_result"
    }
   ],
   "source": [
    "HBD_BX_Pluto.columns.unique()"
   ]
  },
  {
   "cell_type": "markdown",
   "metadata": {},
   "source": [
    "So it looks like we are dealing with With residential that elimunates `commfar`,`facilfar`, `officearea`,`retailarea`"
   ]
  },
  {
   "cell_type": "code",
   "execution_count": 45,
   "metadata": {
    "scrolled": true
   },
   "outputs": [],
   "source": [
    "HBD_BX_Pluto.drop(['commfar','facilfar','officearea','retailarea'],axis=1,inplace=True)"
   ]
  },
  {
   "cell_type": "markdown",
   "metadata": {},
   "source": [
    "We also don't need yearbuilt but maybe we can do something with yearbuilt"
   ]
  },
  {
   "cell_type": "code",
   "execution_count": 520,
   "metadata": {},
   "outputs": [],
   "source": [
    "HBD_BX_Pluto.drop(['yearbuilt'],axis=1,inplace=True)"
   ]
  },
  {
   "cell_type": "code",
   "execution_count": 46,
   "metadata": {},
   "outputs": [],
   "source": [
    "HBD_BX_Pluto.drop(['Longitude','Latitude'],axis=1,inplace=True)"
   ]
  },
  {
   "cell_type": "markdown",
   "metadata": {},
   "source": [
    "And since we are looking at data already in the Bronx I do not think `Latitude` and `Longitude` are essential."
   ]
  },
  {
   "cell_type": "code",
   "execution_count": 60,
   "metadata": {},
   "outputs": [],
   "source": [
    "#Save file\n",
    "HBD_BX_Pluto.to_csv(\"HBD_BX_Pluto.csv\")"
   ]
  },
  {
   "cell_type": "code",
   "execution_count": 53,
   "metadata": {},
   "outputs": [
    {
     "data": {
      "text/html": [
       "<div>\n",
       "<style scoped>\n",
       "    .dataframe tbody tr th:only-of-type {\n",
       "        vertical-align: middle;\n",
       "    }\n",
       "\n",
       "    .dataframe tbody tr th {\n",
       "        vertical-align: top;\n",
       "    }\n",
       "\n",
       "    .dataframe thead th {\n",
       "        text-align: right;\n",
       "    }\n",
       "</style>\n",
       "<table border=\"1\" class=\"dataframe\">\n",
       "  <thead>\n",
       "    <tr style=\"text-align: right;\">\n",
       "      <th></th>\n",
       "      <th>zipcode_x</th>\n",
       "      <th>lot</th>\n",
       "      <th>lotarea</th>\n",
       "      <th>bldgarea</th>\n",
       "      <th>resarea</th>\n",
       "      <th>numbldgs</th>\n",
       "      <th>numfloors</th>\n",
       "      <th>bldgdepth</th>\n",
       "      <th>yearbuilt</th>\n",
       "      <th>yearalter1</th>\n",
       "      <th>builtfar</th>\n",
       "      <th>residfar</th>\n",
       "      <th>Age</th>\n",
       "      <th>count</th>\n",
       "    </tr>\n",
       "  </thead>\n",
       "  <tbody>\n",
       "    <tr>\n",
       "      <th>0</th>\n",
       "      <td>10451.0</td>\n",
       "      <td>389.34</td>\n",
       "      <td>12810.42</td>\n",
       "      <td>50703.47</td>\n",
       "      <td>45165.34</td>\n",
       "      <td>1.12</td>\n",
       "      <td>5.23</td>\n",
       "      <td>83.64</td>\n",
       "      <td>1939.60</td>\n",
       "      <td>718.63</td>\n",
       "      <td>3.46</td>\n",
       "      <td>4.15</td>\n",
       "      <td>80.40</td>\n",
       "      <td>41.29</td>\n",
       "    </tr>\n",
       "    <tr>\n",
       "      <th>1</th>\n",
       "      <td>10452.0</td>\n",
       "      <td>82.94</td>\n",
       "      <td>12072.37</td>\n",
       "      <td>43506.93</td>\n",
       "      <td>40902.46</td>\n",
       "      <td>1.15</td>\n",
       "      <td>4.98</td>\n",
       "      <td>83.89</td>\n",
       "      <td>1936.13</td>\n",
       "      <td>792.25</td>\n",
       "      <td>3.49</td>\n",
       "      <td>4.44</td>\n",
       "      <td>83.87</td>\n",
       "      <td>38.35</td>\n",
       "    </tr>\n",
       "    <tr>\n",
       "      <th>2</th>\n",
       "      <td>10453.0</td>\n",
       "      <td>97.33</td>\n",
       "      <td>8781.03</td>\n",
       "      <td>31391.52</td>\n",
       "      <td>29247.13</td>\n",
       "      <td>1.09</td>\n",
       "      <td>4.58</td>\n",
       "      <td>76.70</td>\n",
       "      <td>1933.35</td>\n",
       "      <td>642.04</td>\n",
       "      <td>3.08</td>\n",
       "      <td>4.03</td>\n",
       "      <td>86.65</td>\n",
       "      <td>41.73</td>\n",
       "    </tr>\n",
       "    <tr>\n",
       "      <th>3</th>\n",
       "      <td>10454.0</td>\n",
       "      <td>66.61</td>\n",
       "      <td>7361.06</td>\n",
       "      <td>23496.02</td>\n",
       "      <td>21579.48</td>\n",
       "      <td>1.25</td>\n",
       "      <td>4.63</td>\n",
       "      <td>73.64</td>\n",
       "      <td>1928.25</td>\n",
       "      <td>888.02</td>\n",
       "      <td>3.20</td>\n",
       "      <td>2.42</td>\n",
       "      <td>91.75</td>\n",
       "      <td>10.19</td>\n",
       "    </tr>\n",
       "    <tr>\n",
       "      <th>4</th>\n",
       "      <td>10455.0</td>\n",
       "      <td>210.07</td>\n",
       "      <td>6806.73</td>\n",
       "      <td>20636.05</td>\n",
       "      <td>17617.62</td>\n",
       "      <td>1.09</td>\n",
       "      <td>4.24</td>\n",
       "      <td>76.71</td>\n",
       "      <td>1929.15</td>\n",
       "      <td>737.59</td>\n",
       "      <td>2.81</td>\n",
       "      <td>3.10</td>\n",
       "      <td>90.85</td>\n",
       "      <td>17.58</td>\n",
       "    </tr>\n",
       "  </tbody>\n",
       "</table>\n",
       "</div>"
      ],
      "text/plain": [
       "  zipcode_x    lot  lotarea  bldgarea  resarea  numbldgs  numfloors  \\\n",
       "0   10451.0 389.34 12810.42  50703.47 45165.34      1.12       5.23   \n",
       "1   10452.0  82.94 12072.37  43506.93 40902.46      1.15       4.98   \n",
       "2   10453.0  97.33  8781.03  31391.52 29247.13      1.09       4.58   \n",
       "3   10454.0  66.61  7361.06  23496.02 21579.48      1.25       4.63   \n",
       "4   10455.0 210.07  6806.73  20636.05 17617.62      1.09       4.24   \n",
       "\n",
       "   bldgdepth  yearbuilt  yearalter1  builtfar  residfar   Age  count  \n",
       "0      83.64    1939.60      718.63      3.46      4.15 80.40  41.29  \n",
       "1      83.89    1936.13      792.25      3.49      4.44 83.87  38.35  \n",
       "2      76.70    1933.35      642.04      3.08      4.03 86.65  41.73  \n",
       "3      73.64    1928.25      888.02      3.20      2.42 91.75  10.19  \n",
       "4      76.71    1929.15      737.59      2.81      3.10 90.85  17.58  "
      ]
     },
     "execution_count": 53,
     "metadata": {},
     "output_type": "execute_result"
    }
   ],
   "source": [
    "Pdf_grp = HBD_BX_Pluto.groupby(['zipcode_x'],as_index=False).mean()\n",
    "Pdf_grp.head()"
   ]
  },
  {
   "cell_type": "code",
   "execution_count": 59,
   "metadata": {},
   "outputs": [
    {
     "data": {
      "text/plain": [
       "(26, 14)"
      ]
     },
     "execution_count": 59,
     "metadata": {},
     "output_type": "execute_result"
    }
   ],
   "source": [
    "Pdf_grp.shape"
   ]
  },
  {
   "cell_type": "markdown",
   "metadata": {},
   "source": [
    "## Time to look at Correlation"
   ]
  },
  {
   "cell_type": "code",
   "execution_count": 58,
   "metadata": {},
   "outputs": [
    {
     "data": {
      "text/plain": [
       "(0, 49.227986807957244)"
      ]
     },
     "execution_count": 58,
     "metadata": {},
     "output_type": "execute_result"
    },
    {
     "data": {
      "image/png": "[encoded data removed]",
      "text/plain": [
       "<Figure size 432x288 with 1 Axes>"
      ]
     },
     "metadata": {
      "needs_background": "light"
     },
     "output_type": "display_data"
    }
   ],
   "source": [
    "sns.regplot(x=\"Age\", y=\"count\", data=Pdf_grp)\n",
    "plt.ylim(0,)"
   ]
  },
  {
   "cell_type": "markdown",
   "metadata": {},
   "source": [
    "There is some correlation of resarea and amount of complaints"
   ]
  },
  {
   "cell_type": "code",
   "execution_count": 55,
   "metadata": {},
   "outputs": [
    {
     "data": {
      "text/plain": [
       "(0, 48.843187813606285)"
      ]
     },
     "execution_count": 55,
     "metadata": {},
     "output_type": "execute_result"
    },
    {
     "data": {
      "image/png": "[encoded data removed]",
      "text/plain": [
       "<Figure size 432x288 with 1 Axes>"
      ]
     },
     "metadata": {
      "needs_background": "light"
     },
     "output_type": "display_data"
    }
   ],
   "source": [
    "sns.regplot(x=\"numfloors\", y=\"count\", data=Pdf_grp)\n",
    "plt.ylim(0,)"
   ]
  },
  {
   "cell_type": "markdown",
   "metadata": {},
   "source": [
    "There seems to be a high positive linear correlation between numfloors and amount of complaints"
   ]
  },
  {
   "cell_type": "code",
   "execution_count": 56,
   "metadata": {},
   "outputs": [
    {
     "data": {
      "text/plain": [
       "(0, 49.17548392967979)"
      ]
     },
     "execution_count": 56,
     "metadata": {},
     "output_type": "execute_result"
    },
    {
     "data": {
      "image/png": "[encoded data removed]",
      "text/plain": [
       "<Figure size 432x288 with 1 Axes>"
      ]
     },
     "metadata": {
      "needs_background": "light"
     },
     "output_type": "display_data"
    }
   ],
   "source": [
    "sns.regplot(x=\"bldgdepth\", y=\"count\", data=Pdf_grp)\n",
    "plt.ylim(0,)"
   ]
  },
  {
   "cell_type": "markdown",
   "metadata": {},
   "source": [
    "There seems to be some correlation between bldgdepth and amount of complaints"
   ]
  },
  {
   "cell_type": "markdown",
   "metadata": {},
   "source": [
    "Doesn't look like there is a linear correlation between the variables"
   ]
  },
  {
   "cell_type": "markdown",
   "metadata": {},
   "source": [
    "#### USING PEARSON'S CORRELATION"
   ]
  },
  {
   "cell_type": "code",
   "execution_count": 61,
   "metadata": {},
   "outputs": [],
   "source": [
    "HBD_Exp = pd.read_csv(\"HBD_BX_Pluto.csv\")"
   ]
  },
  {
   "cell_type": "code",
   "execution_count": 80,
   "metadata": {},
   "outputs": [],
   "source": [
    "HBD_Exp.replace(0, np.nan, inplace=True)\n",
    "HBD_Exp.replace('nan', np.nan, inplace=True)"
   ]
  },
  {
   "cell_type": "code",
   "execution_count": 83,
   "metadata": {},
   "outputs": [
    {
     "data": {
      "text/plain": [
       "Unnamed: 0        0\n",
       "address           0\n",
       "lot               0\n",
       "lotarea           0\n",
       "bldgarea          0\n",
       "resarea           0\n",
       "numbldgs          0\n",
       "numfloors         0\n",
       "bldgdepth         0\n",
       "yearbuilt         0\n",
       "yearalter1        0\n",
       "builtfar          0\n",
       "residfar          0\n",
       "zipcode_x         0\n",
       "Age               0\n",
       "Complaint_Type    0\n",
       "Location_Type     0\n",
       "zipcode_y         0\n",
       "Street_Name       0\n",
       "count             0\n",
       "dtype: int64"
      ]
     },
     "execution_count": 83,
     "metadata": {},
     "output_type": "execute_result"
    }
   ],
   "source": [
    "HBD_Exp.isnull().sum()"
   ]
  },
  {
   "cell_type": "code",
   "execution_count": 82,
   "metadata": {},
   "outputs": [],
   "source": [
    "HBD_Exp.fillna(HBD_Exp.mean(), inplace=True)"
   ]
  },
  {
   "cell_type": "code",
   "execution_count": 84,
   "metadata": {},
   "outputs": [],
   "source": [
    "HBD_Exp.drop(['Unnamed: 0','zipcode_x', 'zipcode_y'],axis=1,inplace=True)"
   ]
  },
  {
   "cell_type": "code",
   "execution_count": 126,
   "metadata": {},
   "outputs": [
    {
     "data": {
      "text/html": [
       "<div>\n",
       "<style scoped>\n",
       "    .dataframe tbody tr th:only-of-type {\n",
       "        vertical-align: middle;\n",
       "    }\n",
       "\n",
       "    .dataframe tbody tr th {\n",
       "        vertical-align: top;\n",
       "    }\n",
       "\n",
       "    .dataframe thead th {\n",
       "        text-align: right;\n",
       "    }\n",
       "</style>\n",
       "<table border=\"1\" class=\"dataframe\">\n",
       "  <thead>\n",
       "    <tr style=\"text-align: right;\">\n",
       "      <th></th>\n",
       "      <th>address</th>\n",
       "      <th>lot</th>\n",
       "      <th>lotarea</th>\n",
       "      <th>bldgarea</th>\n",
       "      <th>resarea</th>\n",
       "      <th>numbldgs</th>\n",
       "      <th>numfloors</th>\n",
       "      <th>bldgdepth</th>\n",
       "      <th>yearbuilt</th>\n",
       "      <th>yearalter1</th>\n",
       "      <th>builtfar</th>\n",
       "      <th>residfar</th>\n",
       "      <th>Age</th>\n",
       "      <th>Complaint_Type</th>\n",
       "      <th>Location_Type</th>\n",
       "      <th>Street_Name</th>\n",
       "      <th>count</th>\n",
       "    </tr>\n",
       "  </thead>\n",
       "  <tbody>\n",
       "    <tr>\n",
       "      <th>2</th>\n",
       "      <td>3311 PARKSIDE PLACE</td>\n",
       "      <td>153.00</td>\n",
       "      <td>2250.00</td>\n",
       "      <td>2592.00</td>\n",
       "      <td>2024.00</td>\n",
       "      <td>1.00</td>\n",
       "      <td>2.00</td>\n",
       "      <td>60.00</td>\n",
       "      <td>1920</td>\n",
       "      <td>1997.10</td>\n",
       "      <td>1.15</td>\n",
       "      <td>3.00</td>\n",
       "      <td>100</td>\n",
       "      <td>HEAT/HOT WATER</td>\n",
       "      <td>RESIDENTIAL BUILDING</td>\n",
       "      <td>PARKSIDE PLACE</td>\n",
       "      <td>9.00</td>\n",
       "    </tr>\n",
       "    <tr>\n",
       "      <th>3</th>\n",
       "      <td>16 LANE AVENUE</td>\n",
       "      <td>21.00</td>\n",
       "      <td>2514.00</td>\n",
       "      <td>3950.00</td>\n",
       "      <td>20495.55</td>\n",
       "      <td>1.00</td>\n",
       "      <td>2.00</td>\n",
       "      <td>70.00</td>\n",
       "      <td>1931</td>\n",
       "      <td>1997.10</td>\n",
       "      <td>1.57</td>\n",
       "      <td>2.43</td>\n",
       "      <td>89</td>\n",
       "      <td>HEAT/HOT WATER</td>\n",
       "      <td>RESIDENTIAL BUILDING</td>\n",
       "      <td>LANE AVENUE</td>\n",
       "      <td>1.00</td>\n",
       "    </tr>\n",
       "    <tr>\n",
       "      <th>4</th>\n",
       "      <td>1056 SHERIDAN AVENUE</td>\n",
       "      <td>36.00</td>\n",
       "      <td>4000.00</td>\n",
       "      <td>17600.00</td>\n",
       "      <td>17600.00</td>\n",
       "      <td>1.00</td>\n",
       "      <td>5.00</td>\n",
       "      <td>88.00</td>\n",
       "      <td>1918</td>\n",
       "      <td>1992.00</td>\n",
       "      <td>4.40</td>\n",
       "      <td>3.44</td>\n",
       "      <td>102</td>\n",
       "      <td>HEAT/HOT WATER</td>\n",
       "      <td>RESIDENTIAL BUILDING</td>\n",
       "      <td>SHERIDAN AVENUE</td>\n",
       "      <td>6.00</td>\n",
       "    </tr>\n",
       "    <tr>\n",
       "      <th>5</th>\n",
       "      <td>1060 SHERIDAN AVENUE</td>\n",
       "      <td>37.00</td>\n",
       "      <td>8090.00</td>\n",
       "      <td>30385.00</td>\n",
       "      <td>30385.00</td>\n",
       "      <td>1.00</td>\n",
       "      <td>5.00</td>\n",
       "      <td>88.00</td>\n",
       "      <td>1918</td>\n",
       "      <td>1991.00</td>\n",
       "      <td>3.76</td>\n",
       "      <td>3.44</td>\n",
       "      <td>102</td>\n",
       "      <td>HEAT/HOT WATER</td>\n",
       "      <td>RESIDENTIAL BUILDING</td>\n",
       "      <td>SHERIDAN AVENUE</td>\n",
       "      <td>53.00</td>\n",
       "    </tr>\n",
       "    <tr>\n",
       "      <th>6</th>\n",
       "      <td>50 WEST 182 STREET</td>\n",
       "      <td>56.00</td>\n",
       "      <td>5000.00</td>\n",
       "      <td>29274.00</td>\n",
       "      <td>29274.00</td>\n",
       "      <td>1.00</td>\n",
       "      <td>6.00</td>\n",
       "      <td>90.00</td>\n",
       "      <td>1935</td>\n",
       "      <td>1997.10</td>\n",
       "      <td>5.85</td>\n",
       "      <td>3.44</td>\n",
       "      <td>85</td>\n",
       "      <td>HEAT/HOT WATER</td>\n",
       "      <td>RESIDENTIAL BUILDING</td>\n",
       "      <td>WEST 182 STREET</td>\n",
       "      <td>7.00</td>\n",
       "    </tr>\n",
       "  </tbody>\n",
       "</table>\n",
       "</div>"
      ],
      "text/plain": [
       "                address    lot  lotarea  bldgarea  resarea  numbldgs  \\\n",
       "2   3311 PARKSIDE PLACE 153.00  2250.00   2592.00  2024.00      1.00   \n",
       "3        16 LANE AVENUE  21.00  2514.00   3950.00 20495.55      1.00   \n",
       "4  1056 SHERIDAN AVENUE  36.00  4000.00  17600.00 17600.00      1.00   \n",
       "5  1060 SHERIDAN AVENUE  37.00  8090.00  30385.00 30385.00      1.00   \n",
       "6    50 WEST 182 STREET  56.00  5000.00  29274.00 29274.00      1.00   \n",
       "\n",
       "   numfloors  bldgdepth  yearbuilt  yearalter1  builtfar  residfar  Age  \\\n",
       "2       2.00      60.00       1920     1997.10      1.15      3.00  100   \n",
       "3       2.00      70.00       1931     1997.10      1.57      2.43   89   \n",
       "4       5.00      88.00       1918     1992.00      4.40      3.44  102   \n",
       "5       5.00      88.00       1918     1991.00      3.76      3.44  102   \n",
       "6       6.00      90.00       1935     1997.10      5.85      3.44   85   \n",
       "\n",
       "   Complaint_Type         Location_Type      Street_Name  count  \n",
       "2  HEAT/HOT WATER  RESIDENTIAL BUILDING   PARKSIDE PLACE   9.00  \n",
       "3  HEAT/HOT WATER  RESIDENTIAL BUILDING      LANE AVENUE   1.00  \n",
       "4  HEAT/HOT WATER  RESIDENTIAL BUILDING  SHERIDAN AVENUE   6.00  \n",
       "5  HEAT/HOT WATER  RESIDENTIAL BUILDING  SHERIDAN AVENUE  53.00  \n",
       "6  HEAT/HOT WATER  RESIDENTIAL BUILDING  WEST 182 STREET   7.00  "
      ]
     },
     "execution_count": 126,
     "metadata": {},
     "output_type": "execute_result"
    }
   ],
   "source": [
    "HBD_Exp.head()"
   ]
  },
  {
   "cell_type": "code",
   "execution_count": 128,
   "metadata": {},
   "outputs": [
    {
     "data": {
      "text/html": [
       "<div>\n",
       "<style scoped>\n",
       "    .dataframe tbody tr th:only-of-type {\n",
       "        vertical-align: middle;\n",
       "    }\n",
       "\n",
       "    .dataframe tbody tr th {\n",
       "        vertical-align: top;\n",
       "    }\n",
       "\n",
       "    .dataframe thead th {\n",
       "        text-align: right;\n",
       "    }\n",
       "</style>\n",
       "<table border=\"1\" class=\"dataframe\">\n",
       "  <thead>\n",
       "    <tr style=\"text-align: right;\">\n",
       "      <th></th>\n",
       "      <th>lot</th>\n",
       "      <th>lotarea</th>\n",
       "      <th>bldgarea</th>\n",
       "      <th>resarea</th>\n",
       "      <th>numbldgs</th>\n",
       "      <th>numfloors</th>\n",
       "      <th>bldgdepth</th>\n",
       "      <th>yearbuilt</th>\n",
       "      <th>yearalter1</th>\n",
       "      <th>builtfar</th>\n",
       "      <th>residfar</th>\n",
       "      <th>Age</th>\n",
       "      <th>count</th>\n",
       "    </tr>\n",
       "  </thead>\n",
       "  <tbody>\n",
       "    <tr>\n",
       "      <th>lot</th>\n",
       "      <td>1.00</td>\n",
       "      <td>0.15</td>\n",
       "      <td>0.17</td>\n",
       "      <td>0.13</td>\n",
       "      <td>nan</td>\n",
       "      <td>0.16</td>\n",
       "      <td>0.06</td>\n",
       "      <td>0.18</td>\n",
       "      <td>0.04</td>\n",
       "      <td>0.10</td>\n",
       "      <td>0.04</td>\n",
       "      <td>-0.18</td>\n",
       "      <td>-0.01</td>\n",
       "    </tr>\n",
       "    <tr>\n",
       "      <th>lotarea</th>\n",
       "      <td>0.15</td>\n",
       "      <td>1.00</td>\n",
       "      <td>0.81</td>\n",
       "      <td>0.75</td>\n",
       "      <td>nan</td>\n",
       "      <td>0.56</td>\n",
       "      <td>0.51</td>\n",
       "      <td>0.11</td>\n",
       "      <td>-0.03</td>\n",
       "      <td>0.27</td>\n",
       "      <td>0.18</td>\n",
       "      <td>-0.11</td>\n",
       "      <td>0.16</td>\n",
       "    </tr>\n",
       "    <tr>\n",
       "      <th>bldgarea</th>\n",
       "      <td>0.17</td>\n",
       "      <td>0.81</td>\n",
       "      <td>1.00</td>\n",
       "      <td>0.95</td>\n",
       "      <td>nan</td>\n",
       "      <td>0.78</td>\n",
       "      <td>0.57</td>\n",
       "      <td>0.08</td>\n",
       "      <td>-0.04</td>\n",
       "      <td>0.59</td>\n",
       "      <td>0.32</td>\n",
       "      <td>-0.08</td>\n",
       "      <td>0.24</td>\n",
       "    </tr>\n",
       "    <tr>\n",
       "      <th>resarea</th>\n",
       "      <td>0.13</td>\n",
       "      <td>0.75</td>\n",
       "      <td>0.95</td>\n",
       "      <td>1.00</td>\n",
       "      <td>nan</td>\n",
       "      <td>0.79</td>\n",
       "      <td>0.55</td>\n",
       "      <td>0.07</td>\n",
       "      <td>-0.06</td>\n",
       "      <td>0.59</td>\n",
       "      <td>0.34</td>\n",
       "      <td>-0.07</td>\n",
       "      <td>0.26</td>\n",
       "    </tr>\n",
       "    <tr>\n",
       "      <th>numbldgs</th>\n",
       "      <td>nan</td>\n",
       "      <td>nan</td>\n",
       "      <td>nan</td>\n",
       "      <td>nan</td>\n",
       "      <td>nan</td>\n",
       "      <td>nan</td>\n",
       "      <td>nan</td>\n",
       "      <td>nan</td>\n",
       "      <td>nan</td>\n",
       "      <td>nan</td>\n",
       "      <td>nan</td>\n",
       "      <td>nan</td>\n",
       "      <td>nan</td>\n",
       "    </tr>\n",
       "    <tr>\n",
       "      <th>numfloors</th>\n",
       "      <td>0.16</td>\n",
       "      <td>0.56</td>\n",
       "      <td>0.78</td>\n",
       "      <td>0.79</td>\n",
       "      <td>nan</td>\n",
       "      <td>1.00</td>\n",
       "      <td>0.49</td>\n",
       "      <td>0.09</td>\n",
       "      <td>-0.05</td>\n",
       "      <td>0.77</td>\n",
       "      <td>0.42</td>\n",
       "      <td>-0.09</td>\n",
       "      <td>0.22</td>\n",
       "    </tr>\n",
       "    <tr>\n",
       "      <th>bldgdepth</th>\n",
       "      <td>0.06</td>\n",
       "      <td>0.51</td>\n",
       "      <td>0.57</td>\n",
       "      <td>0.55</td>\n",
       "      <td>nan</td>\n",
       "      <td>0.49</td>\n",
       "      <td>1.00</td>\n",
       "      <td>-0.12</td>\n",
       "      <td>-0.09</td>\n",
       "      <td>0.54</td>\n",
       "      <td>0.34</td>\n",
       "      <td>0.12</td>\n",
       "      <td>0.19</td>\n",
       "    </tr>\n",
       "    <tr>\n",
       "      <th>yearbuilt</th>\n",
       "      <td>0.18</td>\n",
       "      <td>0.11</td>\n",
       "      <td>0.08</td>\n",
       "      <td>0.07</td>\n",
       "      <td>nan</td>\n",
       "      <td>0.09</td>\n",
       "      <td>-0.12</td>\n",
       "      <td>1.00</td>\n",
       "      <td>0.09</td>\n",
       "      <td>-0.08</td>\n",
       "      <td>-0.14</td>\n",
       "      <td>-1.00</td>\n",
       "      <td>-0.04</td>\n",
       "    </tr>\n",
       "    <tr>\n",
       "      <th>yearalter1</th>\n",
       "      <td>0.04</td>\n",
       "      <td>-0.03</td>\n",
       "      <td>-0.04</td>\n",
       "      <td>-0.06</td>\n",
       "      <td>nan</td>\n",
       "      <td>-0.05</td>\n",
       "      <td>-0.09</td>\n",
       "      <td>0.09</td>\n",
       "      <td>1.00</td>\n",
       "      <td>-0.09</td>\n",
       "      <td>-0.03</td>\n",
       "      <td>-0.09</td>\n",
       "      <td>-0.04</td>\n",
       "    </tr>\n",
       "    <tr>\n",
       "      <th>builtfar</th>\n",
       "      <td>0.10</td>\n",
       "      <td>0.27</td>\n",
       "      <td>0.59</td>\n",
       "      <td>0.59</td>\n",
       "      <td>nan</td>\n",
       "      <td>0.77</td>\n",
       "      <td>0.54</td>\n",
       "      <td>-0.08</td>\n",
       "      <td>-0.09</td>\n",
       "      <td>1.00</td>\n",
       "      <td>0.49</td>\n",
       "      <td>0.08</td>\n",
       "      <td>0.23</td>\n",
       "    </tr>\n",
       "    <tr>\n",
       "      <th>residfar</th>\n",
       "      <td>0.04</td>\n",
       "      <td>0.18</td>\n",
       "      <td>0.32</td>\n",
       "      <td>0.34</td>\n",
       "      <td>nan</td>\n",
       "      <td>0.42</td>\n",
       "      <td>0.34</td>\n",
       "      <td>-0.14</td>\n",
       "      <td>-0.03</td>\n",
       "      <td>0.49</td>\n",
       "      <td>1.00</td>\n",
       "      <td>0.14</td>\n",
       "      <td>0.13</td>\n",
       "    </tr>\n",
       "    <tr>\n",
       "      <th>Age</th>\n",
       "      <td>-0.18</td>\n",
       "      <td>-0.11</td>\n",
       "      <td>-0.08</td>\n",
       "      <td>-0.07</td>\n",
       "      <td>nan</td>\n",
       "      <td>-0.09</td>\n",
       "      <td>0.12</td>\n",
       "      <td>-1.00</td>\n",
       "      <td>-0.09</td>\n",
       "      <td>0.08</td>\n",
       "      <td>0.14</td>\n",
       "      <td>1.00</td>\n",
       "      <td>0.04</td>\n",
       "    </tr>\n",
       "    <tr>\n",
       "      <th>count</th>\n",
       "      <td>-0.01</td>\n",
       "      <td>0.16</td>\n",
       "      <td>0.24</td>\n",
       "      <td>0.26</td>\n",
       "      <td>nan</td>\n",
       "      <td>0.22</td>\n",
       "      <td>0.19</td>\n",
       "      <td>-0.04</td>\n",
       "      <td>-0.04</td>\n",
       "      <td>0.23</td>\n",
       "      <td>0.13</td>\n",
       "      <td>0.04</td>\n",
       "      <td>1.00</td>\n",
       "    </tr>\n",
       "  </tbody>\n",
       "</table>\n",
       "</div>"
      ],
      "text/plain": [
       "             lot  lotarea  bldgarea  resarea  numbldgs  numfloors  bldgdepth  \\\n",
       "lot         1.00     0.15      0.17     0.13       nan       0.16       0.06   \n",
       "lotarea     0.15     1.00      0.81     0.75       nan       0.56       0.51   \n",
       "bldgarea    0.17     0.81      1.00     0.95       nan       0.78       0.57   \n",
       "resarea     0.13     0.75      0.95     1.00       nan       0.79       0.55   \n",
       "numbldgs     nan      nan       nan      nan       nan        nan        nan   \n",
       "numfloors   0.16     0.56      0.78     0.79       nan       1.00       0.49   \n",
       "bldgdepth   0.06     0.51      0.57     0.55       nan       0.49       1.00   \n",
       "yearbuilt   0.18     0.11      0.08     0.07       nan       0.09      -0.12   \n",
       "yearalter1  0.04    -0.03     -0.04    -0.06       nan      -0.05      -0.09   \n",
       "builtfar    0.10     0.27      0.59     0.59       nan       0.77       0.54   \n",
       "residfar    0.04     0.18      0.32     0.34       nan       0.42       0.34   \n",
       "Age        -0.18    -0.11     -0.08    -0.07       nan      -0.09       0.12   \n",
       "count      -0.01     0.16      0.24     0.26       nan       0.22       0.19   \n",
       "\n",
       "            yearbuilt  yearalter1  builtfar  residfar   Age  count  \n",
       "lot              0.18        0.04      0.10      0.04 -0.18  -0.01  \n",
       "lotarea          0.11       -0.03      0.27      0.18 -0.11   0.16  \n",
       "bldgarea         0.08       -0.04      0.59      0.32 -0.08   0.24  \n",
       "resarea          0.07       -0.06      0.59      0.34 -0.07   0.26  \n",
       "numbldgs          nan         nan       nan       nan   nan    nan  \n",
       "numfloors        0.09       -0.05      0.77      0.42 -0.09   0.22  \n",
       "bldgdepth       -0.12       -0.09      0.54      0.34  0.12   0.19  \n",
       "yearbuilt        1.00        0.09     -0.08     -0.14 -1.00  -0.04  \n",
       "yearalter1       0.09        1.00     -0.09     -0.03 -0.09  -0.04  \n",
       "builtfar        -0.08       -0.09      1.00      0.49  0.08   0.23  \n",
       "residfar        -0.14       -0.03      0.49      1.00  0.14   0.13  \n",
       "Age             -1.00       -0.09      0.08      0.14  1.00   0.04  \n",
       "count           -0.04       -0.04      0.23      0.13  0.04   1.00  "
      ]
     },
     "execution_count": 128,
     "metadata": {},
     "output_type": "execute_result"
    }
   ],
   "source": [
    "HBD_Exp.corr(method=\"pearson\")"
   ]
  },
  {
   "cell_type": "code",
   "execution_count": 99,
   "metadata": {},
   "outputs": [],
   "source": [
    "buildings_high = HBD_Exp[HBD_Exp['numbldgs'] > 1.00]\n",
    "building_one = HBD_Exp[HBD_Exp['numbldgs'] <=1.00]"
   ]
  },
  {
   "cell_type": "code",
   "execution_count": 98,
   "metadata": {},
   "outputs": [
    {
     "data": {
      "text/plain": [
       "1849"
      ]
     },
     "execution_count": 98,
     "metadata": {},
     "output_type": "execute_result"
    }
   ],
   "source": [
    "buildings_high['numbldgs'].count()"
   ]
  },
  {
   "cell_type": "code",
   "execution_count": 101,
   "metadata": {},
   "outputs": [
    {
     "data": {
      "text/plain": [
       "11891"
      ]
     },
     "execution_count": 101,
     "metadata": {},
     "output_type": "execute_result"
    }
   ],
   "source": [
    "building_one['numbldgs'].count()"
   ]
  },
  {
   "cell_type": "code",
   "execution_count": 96,
   "metadata": {},
   "outputs": [
    {
     "data": {
      "image/png": "[encoded data removed]",
      "text/plain": [
       "<Figure size 720x576 with 1 Axes>"
      ]
     },
     "metadata": {},
     "output_type": "display_data"
    }
   ],
   "source": [
    "buildings.numbldgs.value_counts().plot(kind='bar', figsize=(10,8))\n",
    "#\n",
    "plt.xlabel('Boroughs')\n",
    "plt.ylabel('Counts')\n",
    "plt.title('Borough Frequency')\n",
    "#\n",
    "plt.show()"
   ]
  },
  {
   "cell_type": "markdown",
   "metadata": {},
   "source": [
    "We can conclude that there seems to be a distortion in data due to recording of data for more that one building. To mitigate this we will remove data with recording for more than one data."
   ]
  },
  {
   "cell_type": "code",
   "execution_count": 125,
   "metadata": {},
   "outputs": [
    {
     "data": {
      "text/plain": [
       "11891"
      ]
     },
     "execution_count": 125,
     "metadata": {},
     "output_type": "execute_result"
    }
   ],
   "source": [
    "HBD_Exp.drop(HBD_Exp[HBD_Exp['numbldgs'] > 1.00].index, inplace = True) \n",
    "HBD_Exp['numbldgs'].count()"
   ]
  },
  {
   "cell_type": "markdown",
   "metadata": {},
   "source": [
    "#### Looking at SKEWED Data"
   ]
  },
  {
   "cell_type": "code",
   "execution_count": 129,
   "metadata": {},
   "outputs": [],
   "source": [
    "cols = HBD_Exp[['lot','lotarea','bldgarea','resarea','numbldgs','numfloors',\n",
    "                'bldgdepth','builtfar','residfar','Age','count']]"
   ]
  },
  {
   "cell_type": "code",
   "execution_count": 130,
   "metadata": {},
   "outputs": [
    {
     "ename": "NameError",
     "evalue": "name 'lot' is not defined",
     "output_type": "error",
     "traceback": [
      "\u001b[1;31m---------------------------------------------------------------------------\u001b[0m",
      "\u001b[1;31mNameError\u001b[0m                                 Traceback (most recent call last)",
      "\u001b[1;32m<ipython-input-130-cfedb24803c8>\u001b[0m in \u001b[0;36m<module>\u001b[1;34m\u001b[0m\n\u001b[0;32m      1\u001b[0m \u001b[0msns\u001b[0m\u001b[1;33m.\u001b[0m\u001b[0mset\u001b[0m\u001b[1;33m(\u001b[0m\u001b[0mrc\u001b[0m\u001b[1;33m=\u001b[0m\u001b[1;33m{\u001b[0m\u001b[1;34m\"figure.figsize\"\u001b[0m\u001b[1;33m:\u001b[0m \u001b[1;33m(\u001b[0m\u001b[1;36m8\u001b[0m\u001b[1;33m,\u001b[0m \u001b[1;36m4\u001b[0m\u001b[1;33m)\u001b[0m\u001b[1;33m}\u001b[0m\u001b[1;33m)\u001b[0m\u001b[1;33m\u001b[0m\u001b[1;33m\u001b[0m\u001b[0m\n\u001b[1;32m----> 2\u001b[1;33m \u001b[0msns\u001b[0m\u001b[1;33m.\u001b[0m\u001b[0mdistplot\u001b[0m\u001b[1;33m(\u001b[0m\u001b[0mlot\u001b[0m\u001b[1;33m,\u001b[0m \u001b[0mkde\u001b[0m\u001b[1;33m=\u001b[0m\u001b[1;32mTrue\u001b[0m\u001b[1;33m)\u001b[0m\u001b[1;33m\u001b[0m\u001b[1;33m\u001b[0m\u001b[0m\n\u001b[0m",
      "\u001b[1;31mNameError\u001b[0m: name 'lot' is not defined"
     ]
    }
   ],
   "source": [
    "sns.set(rc={\"figure.figsize\": (8, 4)})\n",
    "sns.distplot(lot, kde=True)"
   ]
  },
  {
   "cell_type": "code",
   "execution_count": 131,
   "metadata": {},
   "outputs": [
    {
     "data": {
      "text/plain": [
       "count    11891.00\n",
       "mean     19482.41\n",
       "std      30896.56\n",
       "min        392.00\n",
       "25%       2436.00\n",
       "50%       4784.00\n",
       "75%      24090.00\n",
       "max     631178.00\n",
       "Name: resarea, dtype: float64"
      ]
     },
     "execution_count": 131,
     "metadata": {},
     "output_type": "execute_result"
    }
   ],
   "source": [
    "HBD_Exp['resarea'].describe()"
   ]
  },
  {
   "cell_type": "code",
   "execution_count": 133,
   "metadata": {},
   "outputs": [
    {
     "data": {
      "text/plain": [
       "4.724906549554139"
      ]
     },
     "execution_count": 133,
     "metadata": {},
     "output_type": "execute_result"
    }
   ],
   "source": [
    "HBD_Exp[''].skew()"
   ]
  },
  {
   "cell_type": "code",
   "execution_count": 69,
   "metadata": {},
   "outputs": [
    {
     "ename": "NameError",
     "evalue": "name 'normalize' is not defined",
     "output_type": "error",
     "traceback": [
      "\u001b[1;31m---------------------------------------------------------------------------\u001b[0m",
      "\u001b[1;31mNameError\u001b[0m                                 Traceback (most recent call last)",
      "\u001b[1;32m<ipython-input-69-559b5cfba8fd>\u001b[0m in \u001b[0;36m<module>\u001b[1;34m\u001b[0m\n\u001b[0;32m      2\u001b[0m \u001b[1;32mfrom\u001b[0m \u001b[0mscipy\u001b[0m \u001b[1;32mimport\u001b[0m \u001b[0mstats\u001b[0m\u001b[1;33m\u001b[0m\u001b[1;33m\u001b[0m\u001b[0m\n\u001b[0;32m      3\u001b[0m \u001b[0mcount\u001b[0m \u001b[1;33m=\u001b[0m \u001b[0mnp\u001b[0m\u001b[1;33m.\u001b[0m\u001b[0mlog\u001b[0m\u001b[1;33m(\u001b[0m\u001b[1;33m(\u001b[0m\u001b[0mHBD_Exp\u001b[0m\u001b[1;33m[\u001b[0m\u001b[1;34m'count'\u001b[0m\u001b[1;33m]\u001b[0m\u001b[1;33m**\u001b[0m\u001b[1;36m2\u001b[0m\u001b[1;33m)\u001b[0m\u001b[1;33m+\u001b[0m\u001b[1;36m1\u001b[0m\u001b[1;33m)\u001b[0m\u001b[1;33m\u001b[0m\u001b[1;33m\u001b[0m\u001b[0m\n\u001b[1;32m----> 4\u001b[1;33m \u001b[0mcount\u001b[0m \u001b[1;33m=\u001b[0m \u001b[0mnormalize\u001b[0m\u001b[1;33m(\u001b[0m\u001b[0mcount\u001b[0m\u001b[1;33m)\u001b[0m\u001b[1;33m\u001b[0m\u001b[1;33m\u001b[0m\u001b[0m\n\u001b[0m\u001b[0;32m      5\u001b[0m \u001b[0mcount\u001b[0m\u001b[1;33m.\u001b[0m\u001b[0mskew\u001b[0m\u001b[1;33m(\u001b[0m\u001b[1;33m)\u001b[0m\u001b[1;33m\u001b[0m\u001b[1;33m\u001b[0m\u001b[0m\n",
      "\u001b[1;31mNameError\u001b[0m: name 'normalize' is not defined"
     ]
    }
   ],
   "source": [
    "import math\n",
    "from scipy import stats\n",
    "count = np.log((HBD_Exp['count']**2)+1)\n",
    "count = normalize(count)\n",
    "count.skew()"
   ]
  },
  {
   "cell_type": "code",
   "execution_count": 70,
   "metadata": {},
   "outputs": [
    {
     "data": {
      "text/plain": [
       "Unnamed: 0        5\n",
       "address           5\n",
       "lot               5\n",
       "lotarea           5\n",
       "bldgarea          5\n",
       "resarea           5\n",
       "numbldgs          5\n",
       "numfloors         5\n",
       "bldgdepth         5\n",
       "yearbuilt         5\n",
       "yearalter1        5\n",
       "builtfar          5\n",
       "residfar          5\n",
       "zipcode_x         5\n",
       "Age               5\n",
       "Complaint_Type    5\n",
       "Location_Type     5\n",
       "zipcode_y         5\n",
       "Street_Name       5\n",
       "count             5\n",
       "dtype: int64"
      ]
     },
     "execution_count": 70,
     "metadata": {},
     "output_type": "execute_result"
    }
   ],
   "source": [
    "HBD_Exp[HBD_Exp['count'] < 10000].head().count()"
   ]
  },
  {
   "cell_type": "code",
   "execution_count": null,
   "metadata": {},
   "outputs": [],
   "source": [
    "def sigmoid(x):\n",
    "    e = np.exp(1)\n",
    "    y = 1/(1+e**(-x))\n",
    "    return y"
   ]
  },
  {
   "cell_type": "code",
   "execution_count": 119,
   "metadata": {},
   "outputs": [],
   "source": [
    "def normalize(column):\n",
    "    upper = column.max()\n",
    "    lower = column.min()\n",
    "    y = (column - lower)/(upper-lower)\n",
    "    return y"
   ]
  },
  {
   "cell_type": "code",
   "execution_count": 120,
   "metadata": {},
   "outputs": [],
   "source": [
    "HBD_Exp['count'] = HBD_Exp['count'].astype(\"float\")"
   ]
  },
  {
   "cell_type": "code",
   "execution_count": 134,
   "metadata": {
    "scrolled": false
   },
   "outputs": [],
   "source": [
    "cols_to_norm = HBD_Exp[['lotarea','bldgarea','resarea','numfloors',\n",
    "                'bldgdepth','builtfar','residfar','count']]\n",
    "cols_to_norm = cols_to_norm.apply(lambda x: (np.log(x**2)+1))"
   ]
  },
  {
   "cell_type": "code",
   "execution_count": 135,
   "metadata": {},
   "outputs": [
    {
     "data": {
      "text/html": [
       "<div>\n",
       "<style scoped>\n",
       "    .dataframe tbody tr th:only-of-type {\n",
       "        vertical-align: middle;\n",
       "    }\n",
       "\n",
       "    .dataframe tbody tr th {\n",
       "        vertical-align: top;\n",
       "    }\n",
       "\n",
       "    .dataframe thead th {\n",
       "        text-align: right;\n",
       "    }\n",
       "</style>\n",
       "<table border=\"1\" class=\"dataframe\">\n",
       "  <thead>\n",
       "    <tr style=\"text-align: right;\">\n",
       "      <th></th>\n",
       "      <th>lotarea</th>\n",
       "      <th>bldgarea</th>\n",
       "      <th>resarea</th>\n",
       "      <th>numfloors</th>\n",
       "      <th>bldgdepth</th>\n",
       "      <th>builtfar</th>\n",
       "      <th>residfar</th>\n",
       "      <th>count</th>\n",
       "    </tr>\n",
       "  </thead>\n",
       "  <tbody>\n",
       "    <tr>\n",
       "      <th>2</th>\n",
       "      <td>0.21</td>\n",
       "      <td>0.31</td>\n",
       "      <td>0.22</td>\n",
       "      <td>0.20</td>\n",
       "      <td>0.42</td>\n",
       "      <td>0.60</td>\n",
       "      <td>0.60</td>\n",
       "      <td>0.26</td>\n",
       "    </tr>\n",
       "    <tr>\n",
       "      <th>3</th>\n",
       "      <td>0.23</td>\n",
       "      <td>0.36</td>\n",
       "      <td>0.54</td>\n",
       "      <td>0.20</td>\n",
       "      <td>0.45</td>\n",
       "      <td>0.63</td>\n",
       "      <td>0.53</td>\n",
       "      <td>0.00</td>\n",
       "    </tr>\n",
       "    <tr>\n",
       "      <th>4</th>\n",
       "      <td>0.30</td>\n",
       "      <td>0.54</td>\n",
       "      <td>0.52</td>\n",
       "      <td>0.47</td>\n",
       "      <td>0.51</td>\n",
       "      <td>0.76</td>\n",
       "      <td>0.64</td>\n",
       "      <td>0.21</td>\n",
       "    </tr>\n",
       "    <tr>\n",
       "      <th>5</th>\n",
       "      <td>0.42</td>\n",
       "      <td>0.60</td>\n",
       "      <td>0.59</td>\n",
       "      <td>0.47</td>\n",
       "      <td>0.51</td>\n",
       "      <td>0.74</td>\n",
       "      <td>0.64</td>\n",
       "      <td>0.46</td>\n",
       "    </tr>\n",
       "    <tr>\n",
       "      <th>6</th>\n",
       "      <td>0.34</td>\n",
       "      <td>0.60</td>\n",
       "      <td>0.58</td>\n",
       "      <td>0.53</td>\n",
       "      <td>0.51</td>\n",
       "      <td>0.80</td>\n",
       "      <td>0.64</td>\n",
       "      <td>0.23</td>\n",
       "    </tr>\n",
       "    <tr>\n",
       "      <th>...</th>\n",
       "      <td>...</td>\n",
       "      <td>...</td>\n",
       "      <td>...</td>\n",
       "      <td>...</td>\n",
       "      <td>...</td>\n",
       "      <td>...</td>\n",
       "      <td>...</td>\n",
       "      <td>...</td>\n",
       "    </tr>\n",
       "    <tr>\n",
       "      <th>13733</th>\n",
       "      <td>0.32</td>\n",
       "      <td>0.46</td>\n",
       "      <td>0.43</td>\n",
       "      <td>0.53</td>\n",
       "      <td>0.36</td>\n",
       "      <td>0.67</td>\n",
       "      <td>0.60</td>\n",
       "      <td>0.08</td>\n",
       "    </tr>\n",
       "    <tr>\n",
       "      <th>13734</th>\n",
       "      <td>0.23</td>\n",
       "      <td>0.34</td>\n",
       "      <td>0.29</td>\n",
       "      <td>0.20</td>\n",
       "      <td>0.48</td>\n",
       "      <td>0.60</td>\n",
       "      <td>0.31</td>\n",
       "      <td>0.00</td>\n",
       "    </tr>\n",
       "    <tr>\n",
       "      <th>13736</th>\n",
       "      <td>0.14</td>\n",
       "      <td>0.27</td>\n",
       "      <td>0.22</td>\n",
       "      <td>0.20</td>\n",
       "      <td>0.38</td>\n",
       "      <td>0.61</td>\n",
       "      <td>0.26</td>\n",
       "      <td>0.00</td>\n",
       "    </tr>\n",
       "    <tr>\n",
       "      <th>13737</th>\n",
       "      <td>0.23</td>\n",
       "      <td>0.28</td>\n",
       "      <td>0.23</td>\n",
       "      <td>0.30</td>\n",
       "      <td>0.37</td>\n",
       "      <td>0.55</td>\n",
       "      <td>0.31</td>\n",
       "      <td>0.00</td>\n",
       "    </tr>\n",
       "    <tr>\n",
       "      <th>13738</th>\n",
       "      <td>0.27</td>\n",
       "      <td>0.34</td>\n",
       "      <td>0.29</td>\n",
       "      <td>0.32</td>\n",
       "      <td>0.38</td>\n",
       "      <td>0.58</td>\n",
       "      <td>0.14</td>\n",
       "      <td>0.19</td>\n",
       "    </tr>\n",
       "  </tbody>\n",
       "</table>\n",
       "<p>11891 rows × 8 columns</p>\n",
       "</div>"
      ],
      "text/plain": [
       "       lotarea  bldgarea  resarea  numfloors  bldgdepth  builtfar  residfar  \\\n",
       "2         0.21      0.31     0.22       0.20       0.42      0.60      0.60   \n",
       "3         0.23      0.36     0.54       0.20       0.45      0.63      0.53   \n",
       "4         0.30      0.54     0.52       0.47       0.51      0.76      0.64   \n",
       "5         0.42      0.60     0.59       0.47       0.51      0.74      0.64   \n",
       "6         0.34      0.60     0.58       0.53       0.51      0.80      0.64   \n",
       "...        ...       ...      ...        ...        ...       ...       ...   \n",
       "13733     0.32      0.46     0.43       0.53       0.36      0.67      0.60   \n",
       "13734     0.23      0.34     0.29       0.20       0.48      0.60      0.31   \n",
       "13736     0.14      0.27     0.22       0.20       0.38      0.61      0.26   \n",
       "13737     0.23      0.28     0.23       0.30       0.37      0.55      0.31   \n",
       "13738     0.27      0.34     0.29       0.32       0.38      0.58      0.14   \n",
       "\n",
       "       count  \n",
       "2       0.26  \n",
       "3       0.00  \n",
       "4       0.21  \n",
       "5       0.46  \n",
       "6       0.23  \n",
       "...      ...  \n",
       "13733   0.08  \n",
       "13734   0.00  \n",
       "13736   0.00  \n",
       "13737   0.00  \n",
       "13738   0.19  \n",
       "\n",
       "[11891 rows x 8 columns]"
      ]
     },
     "execution_count": 135,
     "metadata": {},
     "output_type": "execute_result"
    }
   ],
   "source": [
    "cols_to_norm = cols_to_norm.apply(lambda x: (normalize(x)))\n",
    "cols_to_norm"
   ]
  },
  {
   "cell_type": "code",
   "execution_count": 136,
   "metadata": {},
   "outputs": [
    {
     "data": {
      "text/html": [
       "<div>\n",
       "<style scoped>\n",
       "    .dataframe tbody tr th:only-of-type {\n",
       "        vertical-align: middle;\n",
       "    }\n",
       "\n",
       "    .dataframe tbody tr th {\n",
       "        vertical-align: top;\n",
       "    }\n",
       "\n",
       "    .dataframe thead th {\n",
       "        text-align: right;\n",
       "    }\n",
       "</style>\n",
       "<table border=\"1\" class=\"dataframe\">\n",
       "  <thead>\n",
       "    <tr style=\"text-align: right;\">\n",
       "      <th></th>\n",
       "      <th>lotarea</th>\n",
       "      <th>bldgarea</th>\n",
       "      <th>resarea</th>\n",
       "      <th>numfloors</th>\n",
       "      <th>bldgdepth</th>\n",
       "      <th>builtfar</th>\n",
       "      <th>residfar</th>\n",
       "      <th>count</th>\n",
       "    </tr>\n",
       "  </thead>\n",
       "  <tbody>\n",
       "    <tr>\n",
       "      <th>lotarea</th>\n",
       "      <td>1.00</td>\n",
       "      <td>0.89</td>\n",
       "      <td>0.87</td>\n",
       "      <td>0.66</td>\n",
       "      <td>0.64</td>\n",
       "      <td>0.51</td>\n",
       "      <td>0.33</td>\n",
       "      <td>0.51</td>\n",
       "    </tr>\n",
       "    <tr>\n",
       "      <th>bldgarea</th>\n",
       "      <td>0.89</td>\n",
       "      <td>1.00</td>\n",
       "      <td>0.97</td>\n",
       "      <td>0.86</td>\n",
       "      <td>0.75</td>\n",
       "      <td>0.85</td>\n",
       "      <td>0.49</td>\n",
       "      <td>0.61</td>\n",
       "    </tr>\n",
       "    <tr>\n",
       "      <th>resarea</th>\n",
       "      <td>0.87</td>\n",
       "      <td>0.97</td>\n",
       "      <td>1.00</td>\n",
       "      <td>0.84</td>\n",
       "      <td>0.74</td>\n",
       "      <td>0.82</td>\n",
       "      <td>0.51</td>\n",
       "      <td>0.61</td>\n",
       "    </tr>\n",
       "    <tr>\n",
       "      <th>numfloors</th>\n",
       "      <td>0.66</td>\n",
       "      <td>0.86</td>\n",
       "      <td>0.84</td>\n",
       "      <td>1.00</td>\n",
       "      <td>0.56</td>\n",
       "      <td>0.85</td>\n",
       "      <td>0.49</td>\n",
       "      <td>0.56</td>\n",
       "    </tr>\n",
       "    <tr>\n",
       "      <th>bldgdepth</th>\n",
       "      <td>0.64</td>\n",
       "      <td>0.75</td>\n",
       "      <td>0.74</td>\n",
       "      <td>0.56</td>\n",
       "      <td>1.00</td>\n",
       "      <td>0.66</td>\n",
       "      <td>0.42</td>\n",
       "      <td>0.46</td>\n",
       "    </tr>\n",
       "    <tr>\n",
       "      <th>builtfar</th>\n",
       "      <td>0.51</td>\n",
       "      <td>0.85</td>\n",
       "      <td>0.82</td>\n",
       "      <td>0.85</td>\n",
       "      <td>0.66</td>\n",
       "      <td>1.00</td>\n",
       "      <td>0.55</td>\n",
       "      <td>0.56</td>\n",
       "    </tr>\n",
       "    <tr>\n",
       "      <th>residfar</th>\n",
       "      <td>0.33</td>\n",
       "      <td>0.49</td>\n",
       "      <td>0.51</td>\n",
       "      <td>0.49</td>\n",
       "      <td>0.42</td>\n",
       "      <td>0.55</td>\n",
       "      <td>1.00</td>\n",
       "      <td>0.33</td>\n",
       "    </tr>\n",
       "    <tr>\n",
       "      <th>count</th>\n",
       "      <td>0.51</td>\n",
       "      <td>0.61</td>\n",
       "      <td>0.61</td>\n",
       "      <td>0.56</td>\n",
       "      <td>0.46</td>\n",
       "      <td>0.56</td>\n",
       "      <td>0.33</td>\n",
       "      <td>1.00</td>\n",
       "    </tr>\n",
       "  </tbody>\n",
       "</table>\n",
       "</div>"
      ],
      "text/plain": [
       "           lotarea  bldgarea  resarea  numfloors  bldgdepth  builtfar  \\\n",
       "lotarea       1.00      0.89     0.87       0.66       0.64      0.51   \n",
       "bldgarea      0.89      1.00     0.97       0.86       0.75      0.85   \n",
       "resarea       0.87      0.97     1.00       0.84       0.74      0.82   \n",
       "numfloors     0.66      0.86     0.84       1.00       0.56      0.85   \n",
       "bldgdepth     0.64      0.75     0.74       0.56       1.00      0.66   \n",
       "builtfar      0.51      0.85     0.82       0.85       0.66      1.00   \n",
       "residfar      0.33      0.49     0.51       0.49       0.42      0.55   \n",
       "count         0.51      0.61     0.61       0.56       0.46      0.56   \n",
       "\n",
       "           residfar  count  \n",
       "lotarea        0.33   0.51  \n",
       "bldgarea       0.49   0.61  \n",
       "resarea        0.51   0.61  \n",
       "numfloors      0.49   0.56  \n",
       "bldgdepth      0.42   0.46  \n",
       "builtfar       0.55   0.56  \n",
       "residfar       1.00   0.33  \n",
       "count          0.33   1.00  "
      ]
     },
     "execution_count": 136,
     "metadata": {},
     "output_type": "execute_result"
    }
   ],
   "source": [
    "cols_to_norm.corr(method=\"pearson\")"
   ]
  },
  {
   "cell_type": "code",
   "execution_count": 138,
   "metadata": {},
   "outputs": [
    {
     "data": {
      "text/plain": [
       "count   11891.00\n",
       "mean        0.20\n",
       "std         0.18\n",
       "min         0.00\n",
       "25%         0.00\n",
       "50%         0.16\n",
       "75%         0.33\n",
       "max         1.00\n",
       "Name: count, dtype: float64"
      ]
     },
     "execution_count": 138,
     "metadata": {},
     "output_type": "execute_result"
    }
   ],
   "source": [
    "cols_to_norm['count'].describe()"
   ]
  },
  {
   "cell_type": "markdown",
   "metadata": {},
   "source": [
    "So after transfroming the data and normalizing it we can see the number of complaints still has a low correlation to the other features. THe only stand out is with residfar at .46 correlation."
   ]
  }
 ],
 "metadata": {
  "kernelspec": {
   "display_name": "Python 3",
   "language": "python",
   "name": "python3"
  },
  "language_info": {
   "codemirror_mode": {
    "name": "ipython",
    "version": 3
   },
   "file_extension": ".py",
   "mimetype": "text/x-python",
   "name": "python",
   "nbconvert_exporter": "python",
   "pygments_lexer": "ipython3",
   "version": "3.8.5"
  }
 },
 "nbformat": 4,
 "nbformat_minor": 4
}
